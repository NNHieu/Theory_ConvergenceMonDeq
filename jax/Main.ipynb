{
 "cells": [
  {
   "cell_type": "code",
   "execution_count": 1,
   "metadata": {},
   "outputs": [],
   "source": [
    "%load_ext autoreload\n",
    "%autoreload 2"
   ]
  },
  {
   "cell_type": "code",
   "execution_count": 2,
   "metadata": {},
   "outputs": [],
   "source": [
    "import jax\n",
    "from jax import random, numpy as jnp\n",
    "from mondeq.modules import MonLinear, Relu, deq\n",
    "from mondeq.splittings import build_peacemanrachford_update, solve\n",
    "from functools import partial"
   ]
  },
  {
   "cell_type": "code",
   "execution_count": 3,
   "metadata": {},
   "outputs": [],
   "source": [
    "num_samples = 1\n",
    "d = 3\n",
    "k = 10"
   ]
  },
  {
   "cell_type": "code",
   "execution_count": 4,
   "metadata": {},
   "outputs": [
    {
     "name": "stderr",
     "output_type": "stream",
     "text": [
      "WARNING:absl:No GPU/TPU found, falling back to CPU. (Set TF_CPP_MIN_LOG_LEVEL=0 and rerun for more info.)\n"
     ]
    }
   ],
   "source": [
    "key = random.PRNGKey(0)"
   ]
  },
  {
   "cell_type": "code",
   "execution_count": 5,
   "metadata": {},
   "outputs": [],
   "source": [
    "key, skey = random.split(key)\n",
    "lin_module = MonLinear(3, 10, key=skey)\n",
    "nonlin_module = Relu()"
   ]
  },
  {
   "cell_type": "code",
   "execution_count": 6,
   "metadata": {},
   "outputs": [],
   "source": [
    "key, *skey = random.split(key, 3)\n",
    "x = random.normal(skey[0], (num_samples, d))\n",
    "z0 = jnp.zeros((num_samples, k))"
   ]
  },
  {
   "cell_type": "code",
   "execution_count": 7,
   "metadata": {},
   "outputs": [
    {
     "name": "stdout",
     "output_type": "stream",
     "text": [
      "(1, 10)\n",
      "(10, 10)\n",
      "(1, 10)\n",
      "(1, 10)\n"
     ]
    }
   ],
   "source": [
    "print(lin_module(z0, x).shape)\n",
    "Winv_trans = lin_module.calW_inv(2., -1.)\n",
    "print(Winv_trans.shape)\n",
    "print(lin_module.inverse(Winv_trans, z0).shape)\n",
    "print(nonlin_module(z0).shape)\n"
   ]
  },
  {
   "cell_type": "code",
   "execution_count": 8,
   "metadata": {},
   "outputs": [],
   "source": [
    "dyn_init, dyn_update = build_peacemanrachford_update(1., lin_module, nonlin_module)\n",
    "dyn_state = dyn_init(z0, jnp.zeros_like(z0), x)"
   ]
  },
  {
   "cell_type": "code",
   "execution_count": 9,
   "metadata": {},
   "outputs": [
    {
     "name": "stdout",
     "output_type": "stream",
     "text": [
      "1\n",
      "0.9999991\n",
      "1.0846218\n"
     ]
    }
   ],
   "source": [
    "dyn_state = dyn_update(dyn_state)\n",
    "print(dyn_state.n_step)\n",
    "print(dyn_state.objective)\n",
    "print(jnp.linalg.norm(dyn_state.z))"
   ]
  },
  {
   "cell_type": "code",
   "execution_count": 10,
   "metadata": {},
   "outputs": [
    {
     "data": {
      "text/plain": [
       "DeviceArray([[0.37759763, 0.29325515, 0.19382189, 0.        , 0.        ,\n",
       "              0.63357264, 0.        , 0.        , 1.1282516 , 0.54578096]],            dtype=float32)"
      ]
     },
     "execution_count": 10,
     "metadata": {},
     "output_type": "execute_result"
    }
   ],
   "source": [
    "solver_state = solve(dyn_state, dyn_update, max_iter=40, tol=1e-5)\n",
    "solver_state.min_step.z"
   ]
  },
  {
   "cell_type": "code",
   "execution_count": 11,
   "metadata": {},
   "outputs": [
    {
     "data": {
      "text/plain": [
       "DeviceArray([[0.37759763, 0.29325515, 0.19382189, 0.        , 0.        ,\n",
       "              0.63357264, 0.        , 0.        , 1.1282516 , 0.54578096]],            dtype=float32)"
      ]
     },
     "execution_count": 11,
     "metadata": {},
     "output_type": "execute_result"
    }
   ],
   "source": [
    "dyn = partial(build_peacemanrachford_update, 1.)\n",
    "deq_fn = lambda lin_module, x: deq(dyn, 40, 1e-5, nonlin_module, lin_module, x)\n",
    "deq_fn(lin_module, x)"
   ]
  },
  {
   "cell_type": "code",
   "execution_count": 12,
   "metadata": {},
   "outputs": [
    {
     "name": "stdout",
     "output_type": "stream",
     "text": [
      "[[0.37759763 0.29325515 0.19382189 0.         0.         0.63357264\n",
      "  0.         0.         1.1282516  0.54578096]]\n",
      "(10, 10)\n"
     ]
    }
   ],
   "source": [
    "z_star, vjp_fun = jax.vjp(deq_fn, lin_module, x)\n",
    "e0 = jnp.zeros_like(z_star).at[0,0].set(1.)\n",
    "d_lin_mdl, dx = vjp_fun(e0)\n",
    "print(z_star)\n",
    "print(d_lin_mdl.p_A.shape)"
   ]
  },
  {
   "cell_type": "markdown",
   "metadata": {},
   "source": [
    "## Close form"
   ]
  },
  {
   "cell_type": "code",
   "execution_count": 13,
   "metadata": {},
   "outputs": [],
   "source": [
    "from utils import commutation_matrix_sp, vec\n",
    "import numpy as np"
   ]
  },
  {
   "cell_type": "code",
   "execution_count": 14,
   "metadata": {},
   "outputs": [],
   "source": [
    "K = commutation_matrix_sp(k, k)\n",
    "P_A = (np.eye(k*k) + K) @ np.kron(np.eye(k), lin_module.p_A)\n",
    "P_B = (np.eye(k*k) - K)\n",
    "W = lin_module.calW_trans()"
   ]
  },
  {
   "cell_type": "code",
   "execution_count": 15,
   "metadata": {},
   "outputs": [],
   "source": [
    "rand_z = np.random.normal(size=(k,))\n",
    "rand_x = np.random.normal(size=(d,))\n",
    "auto_Jz = jax.jacrev(lambda z: nonlin_module(lin_module(z.T, rand_x.T)))(rand_z)\n",
    "auto_Jlin = jax.jacrev(lambda lin_module: nonlin_module(lin_module(rand_z.T, rand_x.T)), allow_int=True)(lin_module)"
   ]
  },
  {
   "cell_type": "code",
   "execution_count": 16,
   "metadata": {},
   "outputs": [
    {
     "data": {
      "text/plain": [
       "DeviceArray(True, dtype=bool)"
      ]
     },
     "execution_count": 16,
     "metadata": {},
     "output_type": "execute_result"
    }
   ],
   "source": [
    "a = lin_module(rand_z.T, rand_x.T)\n",
    "Jnl = jnp.diag(nonlin_module.derivative(a))\n",
    "ana_Jz = Jnl@W.T\n",
    "jnp.allclose(ana_Jz, auto_Jz, rtol=1e-4)"
   ]
  },
  {
   "cell_type": "code",
   "execution_count": 17,
   "metadata": {},
   "outputs": [
    {
     "data": {
      "text/plain": [
       "DeviceArray(True, dtype=bool)"
      ]
     },
     "execution_count": 17,
     "metadata": {},
     "output_type": "execute_result"
    }
   ],
   "source": [
    "ana_JA = jnp.kron(rand_z.T, Jnl)@P_A\n",
    "ana_JA = ana_JA.reshape(10, 10, 10, order='C')\n",
    "jnp.allclose(-auto_Jlin.p_A, ana_JA)"
   ]
  },
  {
   "cell_type": "code",
   "execution_count": 18,
   "metadata": {},
   "outputs": [
    {
     "data": {
      "text/plain": [
       "DeviceArray(True, dtype=bool)"
      ]
     },
     "execution_count": 18,
     "metadata": {},
     "output_type": "execute_result"
    }
   ],
   "source": [
    "ana_JB = jnp.kron(rand_z.T, Jnl)@P_B\n",
    "ana_JB = ana_JB.reshape(10, 10, 10, order='C')\n",
    "jnp.allclose(auto_Jlin.p_B, ana_JB)"
   ]
  },
  {
   "cell_type": "code",
   "execution_count": 19,
   "metadata": {},
   "outputs": [
    {
     "data": {
      "text/plain": [
       "DeviceArray(True, dtype=bool)"
      ]
     },
     "execution_count": 19,
     "metadata": {},
     "output_type": "execute_result"
    }
   ],
   "source": [
    "ana_JU = jnp.kron(rand_x.T, Jnl)\n",
    "ana_JU = ana_JU.reshape(k, d, k, order='C')\n",
    "jnp.allclose(auto_Jlin.p_U, ana_JU)"
   ]
  },
  {
   "cell_type": "code",
   "execution_count": 115,
   "metadata": {},
   "outputs": [
    {
     "data": {
      "text/plain": [
       "DeviceArray([ 0.09708402, -0.15101041, -0.06417657, -0.01218294,\n",
       "             -0.6068703 , -0.15390113, -0.08026036, -0.9055623 ,\n",
       "              0.434208  ,  0.6442721 ], dtype=float32)"
      ]
     },
     "execution_count": 115,
     "metadata": {},
     "output_type": "execute_result"
    }
   ],
   "source": [
    "d_lin_mdl.p_A[0]"
   ]
  },
  {
   "cell_type": "code",
   "execution_count": 86,
   "metadata": {},
   "outputs": [],
   "source": [
    "def deq_forward(dyn, max_iter, tol, nonlin_mdl, lin_mdl, x):\n",
    "    bs = x.shape[0]\n",
    "    z0 = jnp.zeros((bs, lin_mdl.out_size))\n",
    "    u0 = jnp.zeros_like(z0)\n",
    "\n",
    "    dyn_init, dyn_update = dyn(lin_mdl, nonlin_mdl)\n",
    "    dyn_state = dyn_init(z0, u0, x)\n",
    "    solver_state = jax.lax.stop_gradient(solve(dyn_state, dyn_update, max_iter, tol))\n",
    "    return solver_state.min_step.z, (solver_state.min_step, lin_mdl, x)\n",
    "\n",
    "def deq_backward(dyn, max_iter, tol, nonlin_mdl, res, g):\n",
    "    dyn_state = res[0]\n",
    "    lin_mdl = res[1]\n",
    "    x = res[2]\n",
    "\n",
    "    z_star = dyn_state.z\n",
    "    j = nonlin_mdl.derivative(z_star)\n",
    "    I = j == 0\n",
    "    d = (1 - j) / j\n",
    "    v = j * g\n",
    "\n",
    "    z0 = jnp.zeros_like(z_star)\n",
    "    u0 = jnp.zeros_like(z_star)\n",
    "\n",
    "    def alter_nonlin_mdl_bwd(u):\n",
    "        zn = (u + dyn_state.alpha*(1 + d)*v) / (1 + dyn_state.alpha*d)\n",
    "        zn = jax.lax.select(I, v, zn)\n",
    "        return zn\n",
    "\n",
    "    dyn_init, dyn_update = dyn(lin_mdl, alter_nonlin_mdl_bwd)\n",
    "    bwd_dyn_state = dyn_init(z0, u0, x)\n",
    "    bwd_dyn_state = bwd_dyn_state._replace(\n",
    "        Winv=bwd_dyn_state.Winv.T,\n",
    "        bias=jnp.zeros_like(bwd_dyn_state.bias)\n",
    "    )\n",
    "    solver_state = solve(bwd_dyn_state, dyn_update, max_iter, tol)\n",
    "\n",
    "    dg = lin_mdl.W_trans(solver_state.min_step.z)\n",
    "    dg = g + dg\n",
    "\n",
    "    # Problem: nonlin_mdl\n",
    "    _, vjp_lin_fn = jax.vjp(lambda lin_mdl, x: nonlin_mdl(lin_mdl(z_star, x)), lin_mdl, x)\n",
    "\n",
    "    return vjp_lin_fn(solver_state.min_step.z)\n",
    "    # return dg, solver_state"
   ]
  },
  {
   "cell_type": "code",
   "execution_count": 79,
   "metadata": {},
   "outputs": [],
   "source": [
    "z_star, res = deq_forward(dyn, 40, 1e-5, nonlin_module, lin_module, np.expand_dims(rand_x, 0))"
   ]
  },
  {
   "cell_type": "code",
   "execution_count": 80,
   "metadata": {},
   "outputs": [
    {
     "data": {
      "text/plain": [
       "DeviceArray(9.136726e-06, dtype=float32, weak_type=True)"
      ]
     },
     "execution_count": 80,
     "metadata": {},
     "output_type": "execute_result"
    }
   ],
   "source": [
    "res[0].objective"
   ]
  },
  {
   "cell_type": "code",
   "execution_count": 82,
   "metadata": {},
   "outputs": [],
   "source": [
    "g = e0[0]\n",
    "Jnl_star = jnp.diag(nonlin_module.derivative(z_star)[0])\n",
    "uT = g.T @ jnp.linalg.inv(jnp.eye(k) - Jnl_star@W.T)"
   ]
  },
  {
   "cell_type": "code",
   "execution_count": 88,
   "metadata": {},
   "outputs": [],
   "source": [
    "d_lin, dx = deq_backward(dyn, 40, 1e-5, nonlin_module, res, g)"
   ]
  },
  {
   "cell_type": "code",
   "execution_count": 85,
   "metadata": {},
   "outputs": [
    {
     "data": {
      "text/plain": [
       "DeviceArray([ 1.4669073 , -0.5217698 ,  1.334432  ,  1.3785081 ,\n",
       "              1.2314013 ,  1.2478876 ,  0.07080948,  0.3268739 ,\n",
       "              0.77704525,  0.85552406], dtype=float32)"
      ]
     },
     "execution_count": 85,
     "metadata": {},
     "output_type": "execute_result"
    }
   ],
   "source": [
    "uT"
   ]
  },
  {
   "cell_type": "code",
   "execution_count": 112,
   "metadata": {},
   "outputs": [],
   "source": [
    "d_A = -jnp.kron(z_star, uT.T @ Jnl_star) @ P_A\n",
    "d_A = d_A.reshape(k, k)\n",
    "d_B = jnp.kron(z_star, uT.T @ Jnl_star) @ P_B\n",
    "d_B = d_B.reshape(k, k)\n",
    "d_U = jnp.kron(rand_x, uT.T @ Jnl_star)\n",
    "d_U = d_U.reshape(d, k)"
   ]
  },
  {
   "cell_type": "code",
   "execution_count": 114,
   "metadata": {},
   "outputs": [
    {
     "name": "stdout",
     "output_type": "stream",
     "text": [
      "True\n",
      "True\n",
      "True\n"
     ]
    }
   ],
   "source": [
    "print(np.allclose(d_lin.p_A, d_A, atol=1e-4))\n",
    "print(np.allclose(d_lin.p_B, d_B, atol=1e-4))\n",
    "print(np.allclose(d_lin.p_U, d_U, atol=1e-4))"
   ]
  },
  {
   "cell_type": "markdown",
   "metadata": {},
   "source": [
    "## Tangent kernel"
   ]
  },
  {
   "cell_type": "code",
   "execution_count": 115,
   "metadata": {},
   "outputs": [],
   "source": [
    "dyn = partial(build_peacemanrachford_update, 1.)\n",
    "def f(u, nonlin_mdl, lin_mdl, X):\n",
    "    Z_star = deq(dyn, 40, 1e-5, nonlin_mdl, lin_mdl, X)\n",
    "    return Z_star @ u.T"
   ]
  },
  {
   "cell_type": "code",
   "execution_count": 118,
   "metadata": {},
   "outputs": [],
   "source": [
    "num_samples = 20\n",
    "d = 3\n",
    "k = 10"
   ]
  },
  {
   "cell_type": "code",
   "execution_count": 119,
   "metadata": {},
   "outputs": [],
   "source": [
    "X = np.random.uniform(size=(num_samples, d))\n",
    "u = np.random.uniform(size=(k,))"
   ]
  },
  {
   "cell_type": "code",
   "execution_count": 122,
   "metadata": {},
   "outputs": [
    {
     "data": {
      "text/plain": [
       "(20,)"
      ]
     },
     "execution_count": 122,
     "metadata": {},
     "output_type": "execute_result"
    }
   ],
   "source": [
    "f(u, nonlin_module, lin_module, X).shape"
   ]
  },
  {
   "cell_type": "code",
   "execution_count": 126,
   "metadata": {},
   "outputs": [
    {
     "data": {
      "text/plain": [
       "DeviceArray([0.9323009 , 0.94532776, 0.66870034, 0.72705317, 1.1534706 ,\n",
       "             0.7390838 , 0.94819844, 0.45236948, 0.8993375 , 0.5273541 ,\n",
       "             0.5459217 , 0.2698567 , 0.4707398 , 0.99770194, 0.26313868,\n",
       "             0.6860222 , 0.58688456, 0.6808951 , 0.8512972 , 0.45734864],            dtype=float32)"
      ]
     },
     "execution_count": 126,
     "metadata": {},
     "output_type": "execute_result"
    }
   ],
   "source": [
    "f(u, nonlin_module, lin_module, X)"
   ]
  },
  {
   "cell_type": "code",
   "execution_count": 132,
   "metadata": {},
   "outputs": [],
   "source": [
    "Ju = jax.jacrev(lambda u: f(u, nonlin_module, lin_module, X))(u)\n",
    "Jlin = jax.jacrev(lambda lin_module: f(u, nonlin_module, lin_module, X), allow_int=True)(lin_module)\n",
    "JvA = Jlin.p_A.reshape(num_samples, k*k)\n",
    "JvB = Jlin.p_B.reshape(num_samples, k*k)\n",
    "JvU = Jlin.p_U.reshape(num_samples, d*k)"
   ]
  },
  {
   "cell_type": "code",
   "execution_count": 138,
   "metadata": {},
   "outputs": [],
   "source": [
    "H = Ju @ Ju.T + JvA@JvA.T + JvB@JvB.T + JvU@JvU.T"
   ]
  },
  {
   "cell_type": "code",
   "execution_count": 146,
   "metadata": {},
   "outputs": [],
   "source": [
    "from scipy.linalg import khatri_rao"
   ]
  },
  {
   "cell_type": "code",
   "execution_count": 143,
   "metadata": {},
   "outputs": [],
   "source": [
    "def deq_backward(dyn, max_iter, tol, nonlin_mdl, res, g):\n",
    "    dyn_state = res[0]\n",
    "    lin_mdl = res[1]\n",
    "    x = res[2]\n",
    "\n",
    "    z_star = dyn_state.z\n",
    "    j = nonlin_mdl.derivative(z_star)\n",
    "    I = j == 0\n",
    "    d = (1 - j) / j\n",
    "    v = j * g\n",
    "\n",
    "    z0 = jnp.zeros_like(z_star)\n",
    "    u0 = jnp.zeros_like(z_star)\n",
    "\n",
    "    def alter_nonlin_mdl_bwd(u):\n",
    "        zn = (u + dyn_state.alpha*(1 + d)*v) / (1 + dyn_state.alpha*d)\n",
    "        zn = jax.lax.select(I, v, zn)\n",
    "        return zn\n",
    "\n",
    "    dyn_init, dyn_update = dyn(lin_mdl, alter_nonlin_mdl_bwd)\n",
    "    bwd_dyn_state = dyn_init(z0, u0, x)\n",
    "    bwd_dyn_state = bwd_dyn_state._replace(\n",
    "        Winv=bwd_dyn_state.Winv.T,\n",
    "        bias=jnp.zeros_like(bwd_dyn_state.bias)\n",
    "    )\n",
    "    solver_state = solve(bwd_dyn_state, dyn_update, max_iter, tol)\n",
    "\n",
    "    dg = lin_mdl.W_trans(solver_state.min_step.z)\n",
    "    dg = g + dg\n",
    "    return dg"
   ]
  },
  {
   "cell_type": "code",
   "execution_count": 159,
   "metadata": {},
   "outputs": [],
   "source": [
    "Z_star, res = deq_forward(dyn, 40, 1e-5, nonlin_module, lin_module, X)"
   ]
  },
  {
   "cell_type": "code",
   "execution_count": 160,
   "metadata": {},
   "outputs": [],
   "source": [
    "S = nonlin_module.derivative(Z_star)\n",
    "Q = deq_backward(dyn, 40, 1e-5, nonlin_module, res, u) * S\n",
    "\n",
    "Z_Q = khatri_rao(Z_star.T, Q.T).T"
   ]
  },
  {
   "cell_type": "code",
   "execution_count": 161,
   "metadata": {},
   "outputs": [
    {
     "data": {
      "text/plain": [
       "(20, 100)"
      ]
     },
     "execution_count": 161,
     "metadata": {},
     "output_type": "execute_result"
    }
   ],
   "source": [
    "Z_Q.shape"
   ]
  },
  {
   "cell_type": "code",
   "execution_count": 167,
   "metadata": {},
   "outputs": [],
   "source": [
    "H1 = Z_Q @ (P_B@P_B.T + P_A@P_A.T) @ Z_Q.T\n",
    "H2 = (X@X.T) * (Q@Q.T)\n",
    "H3 = Z_star @ Z_star.T\n",
    "ana_H = H1 + H2 + H3"
   ]
  },
  {
   "cell_type": "code",
   "execution_count": 173,
   "metadata": {},
   "outputs": [
    {
     "data": {
      "text/plain": [
       "DeviceArray([[69.11857 , 61.039223, 61.367313, 66.95027 , 71.91965 ,\n",
       "              64.20949 , 66.30809 , 60.77679 , 65.97245 , 65.30183 ,\n",
       "              59.71698 , 62.92219 , 62.581367, 66.26043 , 61.23346 ,\n",
       "              66.65157 , 67.031555, 59.565083, 61.316883, 60.502037],\n",
       "             [61.039223, 56.876633, 56.342506, 59.604107, 63.563034,\n",
       "              58.10205 , 59.92113 , 55.715977, 59.340637, 57.984154,\n",
       "              55.185734, 56.71503 , 56.68129 , 59.73848 , 55.838337,\n",
       "              58.767673, 59.54737 , 55.279743, 56.90714 , 55.76693 ],\n",
       "             [61.367313, 56.342506, 56.450863, 59.85481 , 63.563385,\n",
       "              58.510517, 59.72461 , 55.946297, 59.466473, 58.24316 ,\n",
       "              54.748837, 56.793995, 56.59811 , 59.75547 , 56.013367,\n",
       "              59.104687, 59.53029 , 54.699684, 56.444675, 55.57779 ],\n",
       "             [66.95027 , 59.604107, 59.85481 , 65.01376 , 69.54812 ,\n",
       "              62.625984, 64.37154 , 59.399136, 64.08898 , 63.325333,\n",
       "              58.31639 , 61.272434, 60.877415, 64.37783 , 59.855362,\n",
       "              64.48477 , 64.96046 , 58.1828  , 59.813885, 59.108177],\n",
       "             [71.91965 , 63.563034, 63.563385, 69.54812 , 75.636536,\n",
       "              66.16295 , 69.55011 , 62.678684, 68.74931 , 67.70782 ,\n",
       "              62.108513, 65.35447 , 65.26135 , 69.196045, 63.12471 ,\n",
       "              69.10552 , 70.362206, 62.042324, 63.8804  , 62.697605],\n",
       "             [64.20949 , 58.10205 , 58.510517, 62.625984, 66.16295 ,\n",
       "              61.371033, 61.861813, 58.331547, 61.784397, 61.105267,\n",
       "              56.83677 , 59.4478  , 58.934864, 61.968758, 58.685535,\n",
       "              62.052017, 62.1885  , 56.66945 , 58.252937, 57.77046 ],\n",
       "             [66.30809 , 59.92113 , 59.72461 , 64.37154 , 69.55011 ,\n",
       "              61.861813, 65.02973 , 58.854332, 64.21262 , 62.446423,\n",
       "              58.46664 , 60.712135, 61.099373, 64.66826 , 59.187866,\n",
       "              63.504   , 64.60135 , 58.45897 , 60.175423, 58.964783],\n",
       "             [60.77679 , 55.715977, 55.946297, 59.399136, 62.678684,\n",
       "              58.331547, 58.854332, 55.802235, 58.69376 , 58.08944 ,\n",
       "              54.370323, 56.70759 , 56.16378 , 58.88896 , 56.00429 ,\n",
       "              58.916317, 59.195488, 54.260517, 55.769455, 55.280144],\n",
       "             [65.97245 , 59.340637, 59.466473, 64.08898 , 68.74931 ,\n",
       "              61.784397, 64.21262 , 58.69376 , 63.90123 , 61.891205,\n",
       "              57.749622, 60.110176, 60.266964, 64.33802 , 58.935165,\n",
       "              62.90064 , 63.652527, 57.710045, 59.51415 , 58.474113],\n",
       "             [65.30183 , 57.984154, 58.24316 , 63.325333, 67.70782 ,\n",
       "              61.105267, 62.446423, 58.08944 , 61.891205, 63.2428  ,\n",
       "              57.16868 , 60.713955, 59.84493 , 61.942535, 58.712467,\n",
       "              64.8042  , 64.59341 , 56.932186, 58.272476, 57.881004],\n",
       "             [59.71698 , 55.185734, 54.748837, 58.31639 , 62.108513,\n",
       "              56.83677 , 58.46664 , 54.370323, 57.749622, 57.16868 ,\n",
       "              54.090557, 55.883743, 55.750587, 58.020084, 54.80814 ,\n",
       "              57.992744, 58.70733 , 54.09109 , 55.329067, 54.519405],\n",
       "             [62.92219 , 56.71503 , 56.793995, 61.272434, 65.35447 ,\n",
       "              59.4478  , 60.712135, 56.70759 , 60.110176, 60.713955,\n",
       "              55.883743, 58.914875, 58.175114, 60.23819 , 57.30184 ,\n",
       "              61.864082, 62.345467, 55.710136, 56.924103, 56.546738],\n",
       "             [62.581367, 56.68129 , 56.59811 , 60.877415, 65.26135 ,\n",
       "              58.934864, 61.099373, 56.16378 , 60.266964, 59.84493 ,\n",
       "              55.750587, 58.175114, 58.196354, 60.490124, 56.6844  ,\n",
       "              60.9119  , 61.57151 , 55.632465, 56.972626, 56.225174],\n",
       "             [66.26043 , 59.73848 , 59.75547 , 64.37783 , 69.196045,\n",
       "              61.968758, 64.66826 , 58.88896 , 64.33802 , 61.942535,\n",
       "              58.020084, 60.23819 , 60.490124, 64.85863 , 59.07918 ,\n",
       "              62.898426, 63.87133 , 58.03366 , 59.87154 , 58.710003],\n",
       "             [61.23346 , 55.838337, 56.013367, 59.855362, 63.12471 ,\n",
       "              58.685535, 59.187866, 56.00429 , 58.935165, 58.712467,\n",
       "              54.80814 , 57.30184 , 56.6844  , 59.07918 , 56.483406,\n",
       "              59.560028, 59.81346 , 54.649338, 55.958397, 55.637146],\n",
       "             [66.65157 , 58.767673, 59.104687, 64.48477 , 69.10552 ,\n",
       "              62.052017, 63.504   , 58.916317, 62.90064 , 64.8042  ,\n",
       "              57.992744, 61.864082, 60.9119  , 62.898426, 59.560028,\n",
       "              66.62417 , 66.06441 , 57.718422, 59.1123  , 58.709824],\n",
       "             [67.031555, 59.547367, 59.530285, 64.960464, 70.362206,\n",
       "              62.188503, 64.60135 , 59.19548 , 63.65253 , 64.593414,\n",
       "              58.707325, 62.345467, 61.57152 , 63.871326, 59.813465,\n",
       "              66.064415, 67.15436 , 58.563755, 59.831665, 59.195755],\n",
       "             [59.565083, 55.27974 , 54.699684, 58.1828  , 62.04232 ,\n",
       "              56.669453, 58.458973, 54.260517, 57.71005 , 56.93218 ,\n",
       "              54.091084, 55.710136, 55.632473, 58.033657, 54.64933 ,\n",
       "              57.718422, 58.563755, 54.14946 , 55.377167, 54.46571 ],\n",
       "             [61.316887, 56.907143, 56.44468 , 59.81388 , 63.880398,\n",
       "              58.252934, 60.175423, 55.769455, 59.514153, 58.272484,\n",
       "              55.32907 , 56.924103, 56.972626, 59.87154 , 55.958397,\n",
       "              59.112297, 59.83167 , 55.377174, 57.037094, 55.881767],\n",
       "             [60.502037, 55.76693 , 55.57779 , 59.108177, 62.69761 ,\n",
       "              57.770454, 58.964783, 55.280148, 58.474117, 57.881   ,\n",
       "              54.5194  , 56.546738, 56.225174, 58.710007, 55.637146,\n",
       "              58.709824, 59.195755, 54.465706, 55.881767, 55.18969 ]],            dtype=float32)"
      ]
     },
     "execution_count": 173,
     "metadata": {},
     "output_type": "execute_result"
    }
   ],
   "source": [
    "JvU@JvU.T"
   ]
  },
  {
   "cell_type": "code",
   "execution_count": 171,
   "metadata": {},
   "outputs": [
    {
     "data": {
      "text/plain": [
       "DeviceArray([[4.0062456 , 1.0844413 , 1.3001921 , 3.1380396 , 4.982688  ,\n",
       "              1.5227088 , 3.15249   , 0.6211865 , 3.1686196 , 2.3417203 ,\n",
       "              0.6062444 , 1.3066876 , 1.6496931 , 3.3656104 , 0.5075688 ,\n",
       "              2.8543026 , 3.0134745 , 0.63231766, 1.2250704 , 0.61497104],\n",
       "             [1.0844413 , 2.0795681 , 1.4331061 , 0.94945747, 1.7836207 ,\n",
       "              0.57296604, 1.9232032 , 0.7180931 , 1.6944771 , 0.1816796 ,\n",
       "              1.2327049 , 0.25719094, 0.90729797, 2.0013313 , 0.27014473,\n",
       "              0.12801675, 0.6868834 , 1.5046914 , 1.9730439 , 1.0375789 ],\n",
       "             [1.3001921 , 1.4331061 , 1.4291403 , 1.0878239 , 1.6716452 ,\n",
       "              0.86909664, 1.6143494 , 0.83607763, 1.7079837 , 0.3283546 ,\n",
       "              0.6834861 , 0.223831  , 0.7117868 , 1.9059931 , 0.33283687,\n",
       "              0.35269225, 0.55747366, 0.81230235, 1.3982557 , 0.7361063 ],\n",
       "             [3.1380396 , 0.94945747, 1.0878239 , 2.5016487 , 3.911267  ,\n",
       "              1.2393447 , 2.5160673 , 0.5436669 , 2.5852845 , 1.6653408 ,\n",
       "              0.5057906 , 0.95705736, 1.2458651 , 2.783135  , 0.42959648,\n",
       "              1.9875898 , 2.2424881 , 0.5501685 , 1.0222071 , 0.5212461 ],\n",
       "             [4.982688  , 1.7836207 , 1.6716452 , 3.911267  , 6.87495   ,\n",
       "              1.651543  , 4.569879  , 0.6984556 , 4.1208577 , 2.9230723 ,\n",
       "              1.1731554 , 1.9143418 , 2.5050468 , 4.476603  , 0.5741896 ,\n",
       "              3.483603  , 4.519503  , 1.2849338 , 1.96396   , 0.9859117 ],\n",
       "             [1.5227088 , 0.57296604, 0.86909664, 1.2393447 , 1.651543  ,\n",
       "              1.109927  , 1.1318673 , 0.6016491 , 1.4062154 , 0.5707918 ,\n",
       "              0.15173177, 0.25795478, 0.42886245, 1.4995832 , 0.38532078,\n",
       "              0.68034405, 0.5960142 , 0.16238622, 0.58682495, 0.3090854 ],\n",
       "             [3.15249   , 1.9232032 , 1.6143494 , 2.5160673 , 4.569879  ,\n",
       "              1.1318673 , 3.830947  , 0.65558535, 3.365611  , 1.4431032 ,\n",
       "              1.3127629 , 1.0534465 , 2.1245208 , 3.730252  , 0.41881022,\n",
       "              1.6635022 , 2.54004   , 1.4830636 , 2.040468  , 1.0345693 ],\n",
       "             [0.6211865 , 0.7180931 , 0.83607763, 0.5436669 , 0.6984556 ,\n",
       "              0.6016491 , 0.65558535, 0.6035303 , 0.84678847, 0.08615205,\n",
       "              0.21647125, 0.04893315, 0.18897547, 0.9509939 , 0.23527746,\n",
       "              0.07583205, 0.134187  , 0.28464288, 0.6345435 , 0.34997267],\n",
       "             [3.1686196 , 1.6944771 , 1.7079837 , 2.5852845 , 4.1208577 ,\n",
       "              1.4062154 , 3.365611  , 0.84678847, 3.4059892 , 1.2396647 ,\n",
       "              0.94751275, 0.8032586 , 1.6438892 , 3.7517846 , 0.51788116,\n",
       "              1.4119133 , 1.942984  , 1.085909  , 1.7309641 , 0.895676  ],\n",
       "             [2.3417203 , 0.1816796 , 0.3283546 , 1.6653408 , 2.9230723 ,\n",
       "              0.5707918 , 1.4431032 , 0.08615205, 1.2396647 , 2.4349527 ,\n",
       "              0.21025318, 1.250721  , 1.0655389 , 1.1999993 , 0.13887708,\n",
       "              3.1591606 , 2.7275655 , 0.15172979, 0.33297226, 0.14623803],\n",
       "             [0.6062444 , 1.2327049 , 0.6834861 , 0.5057906 , 1.1731554 ,\n",
       "              0.15173177, 1.3127629 , 0.21647125, 0.94751275, 0.21025318,\n",
       "              0.9815682 , 0.26995528, 0.8206419 , 1.1269773 , 0.08399145,\n",
       "              0.19712499, 0.69089115, 1.160079  , 1.2390124 , 0.63409215],\n",
       "             [1.3066876 , 0.25719094, 0.223831  , 0.95705736, 1.9143418 ,\n",
       "              0.25795478, 1.0534465 , 0.04893315, 0.8032586 , 1.250721  ,\n",
       "              0.26995528, 0.7962721 , 0.7403551 , 0.8402821 , 0.07287858,\n",
       "              1.5636541 , 1.8242514 , 0.2743217 , 0.32924095, 0.1566188 ],\n",
       "             [1.6496931 , 0.90729797, 0.7117868 , 1.2458651 , 2.5050468 ,\n",
       "              0.42886245, 2.1245208 , 0.18897547, 1.6438892 , 1.0655389 ,\n",
       "              0.8206419 , 0.7403551 , 1.4454477 , 1.7760575 , 0.13928941,\n",
       "              1.295326  , 1.7341251 , 0.88049364, 1.0616052 , 0.51889354],\n",
       "             [3.3656104 , 2.0013313 , 1.9059931 , 2.783135  , 4.476603  ,\n",
       "              1.4995832 , 3.730252  , 0.9509939 , 3.7517846 , 1.1999993 ,\n",
       "              1.1269773 , 0.8402821 , 1.7760575 , 4.1813936 , 0.57089907,\n",
       "              1.3186883 , 2.0707932 , 1.3185248 , 1.9973612 , 1.0405654 ],\n",
       "             [0.5075688 , 0.27014473, 0.33283687, 0.42959648, 0.5741896 ,\n",
       "              0.38532078, 0.41881022, 0.23527746, 0.51788116, 0.13887708,\n",
       "              0.08399145, 0.07287858, 0.13928941, 0.57089907, 0.1440775 ,\n",
       "              0.14923768, 0.18186133, 0.10315472, 0.2531754 , 0.13666496],\n",
       "             [2.8543026 , 0.12801675, 0.35269225, 1.9875898 , 3.483603  ,\n",
       "              0.68034405, 1.6635022 , 0.07583205, 1.4119133 , 3.1591606 ,\n",
       "              0.19712499, 1.5636541 , 1.295326  , 1.3186883 , 0.14923768,\n",
       "              4.1419883 , 3.3613935 , 0.100772  , 0.33560917, 0.1378737 ],\n",
       "             [3.013475  , 0.68688345, 0.55747366, 2.2424884 , 4.5195036 ,\n",
       "              0.5960142 , 2.54004   , 0.134187  , 1.942984  , 2.7275655 ,\n",
       "              0.69089115, 1.8242514 , 1.7341251 , 2.0707932 , 0.18186133,\n",
       "              3.3613935 , 4.230566  , 0.7252851 , 0.8341493 , 0.402983  ],\n",
       "             [0.63231766, 1.5046914 , 0.81230235, 0.5501685 , 1.2849338 ,\n",
       "              0.16238622, 1.4830636 , 0.28464288, 1.085909  , 0.15172979,\n",
       "              1.160079  , 0.2743217 , 0.88049364, 1.3185248 , 0.10315472,\n",
       "              0.100772  , 0.7252851 , 1.3964274 , 1.4650878 , 0.75837034],\n",
       "             [1.2250704 , 1.9730439 , 1.3982557 , 1.0222071 , 1.96396   ,\n",
       "              0.58682495, 2.040468  , 0.6345435 , 1.7309641 , 0.33297226,\n",
       "              1.2390124 , 0.32924095, 1.0616052 , 1.9973612 , 0.2531754 ,\n",
       "              0.33560917, 0.8341493 , 1.4650878 , 1.9659663 , 1.015384  ],\n",
       "             [0.61497104, 1.0375789 , 0.7361063 , 0.5212461 , 0.9859117 ,\n",
       "              0.3090854 , 1.0345693 , 0.34997267, 0.895676  , 0.14623803,\n",
       "              0.63409215, 0.1566188 , 0.51889354, 1.0405654 , 0.13666496,\n",
       "              0.1378737 , 0.402983  , 0.75837034, 1.015384  , 0.5280482 ]],            dtype=float32)"
      ]
     },
     "execution_count": 171,
     "metadata": {},
     "output_type": "execute_result"
    }
   ],
   "source": [
    "H2"
   ]
  },
  {
   "cell_type": "code",
   "execution_count": 168,
   "metadata": {},
   "outputs": [
    {
     "data": {
      "text/plain": [
       "DeviceArray([[10.375988  ,  2.9927504 ,  3.495832  ,  8.104519  ,\n",
       "              12.009341  ,  4.7157164 ,  7.4550004 ,  1.9976528 ,\n",
       "               8.172879  ,  6.346464  ,  1.5200535 ,  3.0265582 ,\n",
       "               3.6540005 ,  8.495546  ,  1.5779381 ,  8.226741  ,\n",
       "               6.5376105 ,  1.7173073 ,  2.9699621 ,  1.5633265 ],\n",
       "             [ 2.9927504 ,  6.1198854 ,  3.3045912 ,  2.2963073 ,\n",
       "               4.69819   ,  1.7088364 ,  4.8904924 ,  1.7216413 ,\n",
       "               3.5344203 ,  1.2010007 ,  3.8572502 ,  0.925689  ,\n",
       "               2.7129712 ,  4.147904  ,  0.70102894,  1.4274702 ,\n",
       "               2.2037253 ,  4.7118397 ,  5.807604  ,  3.0358844 ],\n",
       "             [ 3.495832  ,  3.3045912 ,  3.8254926 ,  2.9228191 ,\n",
       "               4.2168164 ,  2.6939468 ,  3.723384  ,  2.4803567 ,\n",
       "               4.433433  ,  1.0409086 ,  1.4700868 ,  0.55998504,\n",
       "               1.6004056 ,  4.739892  ,  1.019198  ,  1.2672175 ,\n",
       "               1.2890918 ,  1.7583156 ,  3.081447  ,  1.6619382 ],\n",
       "             [ 8.104519  ,  2.2963073 ,  2.9228191 ,  6.5384164 ,\n",
       "               9.561318  ,  3.7390482 ,  5.841712  ,  1.7232617 ,\n",
       "               6.778597  ,  4.40934   ,  1.0642598 ,  2.1999025 ,\n",
       "               2.6592526 ,  7.093614  ,  1.3461431 ,  5.586818  ,\n",
       "               4.875917  ,  1.2143519 ,  2.2237144 ,  1.1865513 ],\n",
       "             [12.009341  ,  4.69819   ,  4.2168164 ,  9.561318  ,\n",
       "              16.343908  ,  4.5860815 , 10.328853  ,  2.2193425 ,\n",
       "               9.950161  ,  7.137219  ,  2.8070698 ,  4.4142027 ,\n",
       "               5.3322387 , 10.631169  ,  1.7795882 ,  8.797558  ,\n",
       "              10.180493  ,  3.2418237 ,  4.6865463 ,  2.4369476 ],\n",
       "             [ 4.7157164 ,  1.7088364 ,  2.6939468 ,  3.7390482 ,\n",
       "               4.5860815 ,  4.020841  ,  3.151455  ,  1.981876  ,\n",
       "               4.295192  ,  2.1043174 ,  0.49104184,  0.7226005 ,\n",
       "               1.1712487 ,  4.430325  ,  1.2808404 ,  2.8077054 ,\n",
       "               1.415097  ,  0.5689632 ,  1.5762541 ,  0.8679602 ],\n",
       "             [ 7.4550004 ,  4.8904924 ,  3.723384  ,  5.841712  ,\n",
       "              10.328853  ,  3.151455  ,  8.358667  ,  1.8296459 ,\n",
       "               7.4263487 ,  3.8704836 ,  3.1630192 ,  2.4440687 ,\n",
       "               4.5348635 ,  8.134434  ,  1.1823426 ,  4.7791243 ,\n",
       "               5.639122  ,  3.7050223 ,  4.8604183 ,  2.5178258 ],\n",
       "             [ 1.9976528 ,  1.7216413 ,  2.4803567 ,  1.7232617 ,\n",
       "               2.2193425 ,  1.981876  ,  1.8296459 ,  1.8206668 ,\n",
       "               2.585091  ,  0.4588105 ,  0.5048987 ,  0.20936689,\n",
       "               0.6045895 ,  2.7349963 ,  0.7549974 ,  0.5495312 ,\n",
       "               0.48214588,  0.63503313,  1.4987047 ,  0.84115714],\n",
       "             [ 8.172879  ,  3.5344203 ,  4.433433  ,  6.778597  ,\n",
       "               9.950161  ,  4.295192  ,  7.4263487 ,  2.585091  ,\n",
       "               8.7584305 ,  3.3486116 ,  1.692117  ,  1.8079396 ,\n",
       "               3.3250961 ,  9.288521  ,  1.6202719 ,  4.117702  ,\n",
       "               4.133177  ,  1.9726605 ,  3.356261  ,  1.8036863 ],\n",
       "             [ 6.346464  ,  1.2010007 ,  1.0409086 ,  4.40934   ,\n",
       "               7.137219  ,  2.1043174 ,  3.8704836 ,  0.4588105 ,\n",
       "               3.3486116 ,  7.0825706 ,  1.0579469 ,  3.1419036 ,\n",
       "               2.6693974 ,  3.3109    ,  0.5096289 ,  9.685137  ,\n",
       "               6.346927  ,  1.1477575 ,  1.3142166 ,  0.65955806],\n",
       "             [ 1.5200535 ,  3.8572502 ,  1.4700868 ,  1.0642598 ,\n",
       "               2.8070698 ,  0.49104184,  3.1630192 ,  0.5048987 ,\n",
       "               1.692117  ,  1.0579469 ,  3.1131232 ,  0.8362614 ,\n",
       "               2.240657  ,  2.068188  ,  0.2113082 ,  1.3105514 ,\n",
       "               1.9541621 ,  3.7389774 ,  3.7893202 ,  1.9428185 ],\n",
       "             [ 3.0265582 ,  0.925689  ,  0.55998504,  2.1999025 ,\n",
       "               4.4142027 ,  0.7226005 ,  2.4440687 ,  0.20936689,\n",
       "               1.8079396 ,  3.1419036 ,  0.8362614 ,  1.8911387 ,\n",
       "               1.6530372 ,  1.9193361 ,  0.24075396,  4.0561585 ,\n",
       "               4.219715  ,  0.95084524,  0.9776541 ,  0.49225783],\n",
       "             [ 3.6540005 ,  2.7129712 ,  1.6004056 ,  2.6592526 ,\n",
       "               5.3322387 ,  1.1712487 ,  4.5348635 ,  0.6045895 ,\n",
       "               3.3250961 ,  2.6693974 ,  2.240657  ,  1.6530372 ,\n",
       "               3.1120138 ,  3.5888808 ,  0.39938337,  3.4010608 ,\n",
       "               3.732355  ,  2.5794594 ,  2.8219004 ,  1.4279548 ],\n",
       "             [ 8.495546  ,  4.147904  ,  4.739892  ,  7.093614  ,\n",
       "              10.631169  ,  4.430325  ,  8.134434  ,  2.7349963 ,\n",
       "               9.288521  ,  3.3109    ,  2.068188  ,  1.9193361 ,\n",
       "               3.5888808 , 10.008873  ,  1.7063304 ,  3.9810367 ,\n",
       "               4.4779625 ,  2.4498963 ,  3.9169466 ,  2.1006234 ],\n",
       "             [ 1.5779381 ,  0.70102894,  1.019198  ,  1.3461431 ,\n",
       "               1.7795882 ,  1.2808404 ,  1.1823426 ,  0.7549974 ,\n",
       "               1.6202719 ,  0.5096289 ,  0.2113082 ,  0.24075396,\n",
       "               0.39938337,  1.7063304 ,  0.48543984,  0.61660993,\n",
       "               0.5513027 ,  0.25773892,  0.62578857,  0.34768063],\n",
       "             [ 8.226741  ,  1.4274702 ,  1.2672175 ,  5.586818  ,\n",
       "               8.797558  ,  2.8077054 ,  4.7791243 ,  0.5495312 ,\n",
       "               4.117702  ,  9.685137  ,  1.3105514 ,  4.0561585 ,\n",
       "               3.4010608 ,  3.9810367 ,  0.61660993, 13.437006  ,\n",
       "               7.9449835 ,  1.4000473 ,  1.5903357 ,  0.7936118 ],\n",
       "             [ 6.537611  ,  2.2037253 ,  1.2890918 ,  4.875917  ,\n",
       "              10.180494  ,  1.415097  ,  5.639122  ,  0.48214585,\n",
       "               4.133177  ,  6.346927  ,  1.9541621 ,  4.219715  ,\n",
       "               3.732355  ,  4.4779625 ,  0.5513027 ,  7.9449835 ,\n",
       "               9.692496  ,  2.2436337 ,  2.3036408 ,  1.1633749 ],\n",
       "             [ 1.7173073 ,  4.7118397 ,  1.7583156 ,  1.2143519 ,\n",
       "               3.2418237 ,  0.5689632 ,  3.7050223 ,  0.63503313,\n",
       "               1.9726604 ,  1.1477575 ,  3.7389774 ,  0.95084524,\n",
       "               2.5794594 ,  2.4498966 ,  0.25773892,  1.4000473 ,\n",
       "               2.2436337 ,  4.5317764 ,  4.5594654 ,  2.3502266 ],\n",
       "             [ 2.9699621 ,  5.807604  ,  3.081447  ,  2.2237144 ,\n",
       "               4.6865463 ,  1.5762541 ,  4.8604183 ,  1.4987047 ,\n",
       "               3.356261  ,  1.3142166 ,  3.7893202 ,  0.97765404,\n",
       "               2.8219004 ,  3.9169466 ,  0.62578857,  1.5903357 ,\n",
       "               2.3036408 ,  4.5594654 ,  5.657978  ,  2.9270349 ],\n",
       "             [ 1.5633265 ,  3.0358844 ,  1.6619382 ,  1.1865513 ,\n",
       "               2.4369476 ,  0.8679602 ,  2.5178258 ,  0.84115714,\n",
       "               1.8036863 ,  0.65955806,  1.9428185 ,  0.49225783,\n",
       "               1.4279548 ,  2.1006234 ,  0.34768063,  0.7936118 ,\n",
       "               1.1633749 ,  2.3502266 ,  2.9270349 ,  1.5212516 ]],            dtype=float32)"
      ]
     },
     "execution_count": 168,
     "metadata": {},
     "output_type": "execute_result"
    }
   ],
   "source": [
    "ana_H"
   ]
  },
  {
   "cell_type": "code",
   "execution_count": 156,
   "metadata": {},
   "outputs": [
    {
     "data": {
      "text/plain": [
       "DeviceArray([214.31097, 193.99396, 191.27907, 206.83755, 220.67776,\n",
       "             199.69795, 206.90233, 188.57025, 205.31558, 204.30191,\n",
       "             188.8966 , 193.83742, 194.5462 , 206.71457, 189.1728 ,\n",
       "             210.99185, 204.8679 , 189.8243 , 193.64226, 189.02676],            dtype=float32)"
      ]
     },
     "execution_count": 156,
     "metadata": {},
     "output_type": "execute_result"
    }
   ],
   "source": [
    "H[0]"
   ]
  },
  {
   "cell_type": "code",
   "execution_count": null,
   "metadata": {},
   "outputs": [],
   "source": []
  }
 ],
 "metadata": {
  "interpreter": {
   "hash": "89534243ff900f003a92eb7b32117c5dc522adac159f3512230d8fd7d317fe1c"
  },
  "kernelspec": {
   "display_name": "Python 3.9.12 (conda)",
   "language": "python",
   "name": "python3"
  },
  "language_info": {
   "codemirror_mode": {
    "name": "ipython",
    "version": 3
   },
   "file_extension": ".py",
   "mimetype": "text/x-python",
   "name": "python",
   "nbconvert_exporter": "python",
   "pygments_lexer": "ipython3",
   "version": "3.9.12"
  },
  "orig_nbformat": 4
 },
 "nbformat": 4,
 "nbformat_minor": 2
}
