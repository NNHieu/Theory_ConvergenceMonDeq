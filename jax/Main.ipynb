{
 "cells": [
  {
   "cell_type": "code",
   "execution_count": 1,
   "metadata": {},
   "outputs": [],
   "source": [
    "%load_ext autoreload\n",
    "%autoreload 2"
   ]
  },
  {
   "cell_type": "code",
   "execution_count": 2,
   "metadata": {},
   "outputs": [],
   "source": [
    "import jax\n",
    "from jax import random, numpy as jnp\n",
    "from mondeq.modules import MonLinear, Relu, deq\n",
    "from mondeq.splittings import build_peacemanrachford_update, solve\n",
    "from functools import partial"
   ]
  },
  {
   "cell_type": "code",
   "execution_count": 3,
   "metadata": {},
   "outputs": [],
   "source": [
    "num_samples = 1\n",
    "d = 3\n",
    "k = 10"
   ]
  },
  {
   "cell_type": "code",
   "execution_count": 4,
   "metadata": {},
   "outputs": [
    {
     "name": "stderr",
     "output_type": "stream",
     "text": [
      "WARNING:absl:No GPU/TPU found, falling back to CPU. (Set TF_CPP_MIN_LOG_LEVEL=0 and rerun for more info.)\n"
     ]
    }
   ],
   "source": [
    "key = random.PRNGKey(0)"
   ]
  },
  {
   "cell_type": "code",
   "execution_count": 5,
   "metadata": {},
   "outputs": [],
   "source": [
    "key, skey = random.split(key)\n",
    "lin_module = MonLinear(3, 10, key=skey)\n",
    "nonlin_module = Relu()"
   ]
  },
  {
   "cell_type": "code",
   "execution_count": 6,
   "metadata": {},
   "outputs": [],
   "source": [
    "key, *skey = random.split(key, 3)\n",
    "x = random.normal(skey[0], (num_samples, d))\n",
    "z0 = jnp.zeros((num_samples, k))"
   ]
  },
  {
   "cell_type": "code",
   "execution_count": 7,
   "metadata": {},
   "outputs": [
    {
     "name": "stdout",
     "output_type": "stream",
     "text": [
      "(1, 10)\n",
      "(10, 10)\n",
      "(1, 10)\n",
      "(1, 10)\n"
     ]
    }
   ],
   "source": [
    "print(lin_module(z0, x).shape)\n",
    "Winv_trans = lin_module.calW_inv(2., -1.)\n",
    "print(Winv_trans.shape)\n",
    "print(lin_module.inverse(Winv_trans, z0).shape)\n",
    "print(nonlin_module(z0).shape)\n"
   ]
  },
  {
   "cell_type": "code",
   "execution_count": 8,
   "metadata": {},
   "outputs": [],
   "source": [
    "dyn_init, dyn_update = build_peacemanrachford_update(1., lin_module, nonlin_module)\n",
    "dyn_state = dyn_init(z0, jnp.zeros_like(z0), x)"
   ]
  },
  {
   "cell_type": "code",
   "execution_count": 9,
   "metadata": {},
   "outputs": [
    {
     "name": "stdout",
     "output_type": "stream",
     "text": [
      "1\n",
      "0.9999991\n",
      "1.0846218\n"
     ]
    }
   ],
   "source": [
    "dyn_state = dyn_update(dyn_state)\n",
    "print(dyn_state.n_step)\n",
    "print(dyn_state.objective)\n",
    "print(jnp.linalg.norm(dyn_state.z))"
   ]
  },
  {
   "cell_type": "code",
   "execution_count": 10,
   "metadata": {},
   "outputs": [
    {
     "data": {
      "text/plain": [
       "DeviceArray([[0.37759763, 0.29325515, 0.19382189, 0.        , 0.        ,\n",
       "              0.63357264, 0.        , 0.        , 1.1282516 , 0.54578096]],            dtype=float32)"
      ]
     },
     "execution_count": 10,
     "metadata": {},
     "output_type": "execute_result"
    }
   ],
   "source": [
    "solver_state = solve(dyn_state, dyn_update, max_iter=40, tol=1e-5)\n",
    "solver_state.min_step.z"
   ]
  },
  {
   "cell_type": "code",
   "execution_count": 11,
   "metadata": {},
   "outputs": [
    {
     "data": {
      "text/plain": [
       "DeviceArray([[0.37759763, 0.29325515, 0.19382189, 0.        , 0.        ,\n",
       "              0.63357264, 0.        , 0.        , 1.1282516 , 0.54578096]],            dtype=float32)"
      ]
     },
     "execution_count": 11,
     "metadata": {},
     "output_type": "execute_result"
    }
   ],
   "source": [
    "dyn = partial(build_peacemanrachford_update, 1.)\n",
    "deq_fn = lambda lin_module, x: deq(dyn, 40, 1e-5, nonlin_module, lin_module, x)\n",
    "deq_fn(lin_module, x)"
   ]
  },
  {
   "cell_type": "code",
   "execution_count": 13,
   "metadata": {},
   "outputs": [
    {
     "name": "stdout",
     "output_type": "stream",
     "text": [
      "[[0.37759763 0.29325515 0.19382189 0.         0.         0.63357264\n",
      "  0.         0.         1.1282516  0.54578096]]\n",
      "(10, 10)\n"
     ]
    }
   ],
   "source": [
    "z_star, vjp_fun = jax.vjp(deq_fn, lin_module, x)\n",
    "e0 = jnp.zeros_like(z_star).at[0,0].set(1.)\n",
    "d_lin_mdl, dx = vjp_fun(e0)\n",
    "print(z_star)\n",
    "print(d_lin_mdl.p_A.shape)"
   ]
  },
  {
   "cell_type": "code",
   "execution_count": 14,
   "metadata": {},
   "outputs": [],
   "source": [
    "from utils import commutation_matrix_sp, vec\n",
    "import numpy as np"
   ]
  },
  {
   "cell_type": "code",
   "execution_count": 97,
   "metadata": {},
   "outputs": [],
   "source": [
    "K = commutation_matrix_sp(k, k)\n",
    "P_A = (np.eye(k*k) + K) @ np.kron(np.eye(k), lin_module.p_A)\n",
    "P_B = (np.eye(k*k) - K)\n",
    "W = lin_module.calW_trans()"
   ]
  },
  {
   "cell_type": "code",
   "execution_count": 89,
   "metadata": {},
   "outputs": [
    {
     "data": {
      "text/plain": [
       "DeviceArray(True, dtype=bool)"
      ]
     },
     "execution_count": 89,
     "metadata": {},
     "output_type": "execute_result"
    }
   ],
   "source": [
    "auto_Jz = jax.jacrev(lambda z: nonlin_module(lin_module(z.T, x[0].T)))(z0[0])\n",
    "a = lin_module(z0[0].T, x[0].T)\n",
    "Jnl = jnp.diag(nonlin_module.derivative(a))\n",
    "ana_Jz = Jnl@W.T\n",
    "jnp.allclose(ana_Jz, auto_Jz, rtol=1e-4)"
   ]
  },
  {
   "cell_type": "code",
   "execution_count": 85,
   "metadata": {},
   "outputs": [],
   "source": [
    "auto_Jlin = jax.jacrev(lambda lin_module: nonlin_module(lin_module(z0[0].T, x[0].T)), allow_int=True)(lin_module)"
   ]
  },
  {
   "cell_type": "code",
   "execution_count": 111,
   "metadata": {},
   "outputs": [
    {
     "data": {
      "text/plain": [
       "DeviceArray(True, dtype=bool)"
      ]
     },
     "execution_count": 111,
     "metadata": {},
     "output_type": "execute_result"
    }
   ],
   "source": [
    "ana_JA = jnp.kron(z0[0].T, Jnl)@P_A\n",
    "ana_JA = ana_JA.reshape(10, 10, 10)\n",
    "jnp.allclose(auto_Jlin.p_A, ana_JA)"
   ]
  },
  {
   "cell_type": "code",
   "execution_count": 110,
   "metadata": {},
   "outputs": [
    {
     "data": {
      "text/plain": [
       "DeviceArray(True, dtype=bool)"
      ]
     },
     "execution_count": 110,
     "metadata": {},
     "output_type": "execute_result"
    }
   ],
   "source": [
    "ana_JB = jnp.kron(z0[0].T, Jnl)@P_B\n",
    "ana_JB = ana_JB.reshape(10, 10, 10)\n",
    "jnp.allclose(auto_Jlin.p_B, ana_JB)"
   ]
  },
  {
   "cell_type": "code",
   "execution_count": 109,
   "metadata": {},
   "outputs": [
    {
     "data": {
      "text/plain": [
       "DeviceArray(True, dtype=bool)"
      ]
     },
     "execution_count": 109,
     "metadata": {},
     "output_type": "execute_result"
    }
   ],
   "source": [
    "ana_JU = jnp.kron(x[0].T, Jnl)\n",
    "ana_JU = ana_JU.reshape(k, d, k)\n",
    "jnp.allclose(auto_Jlin.p_U, ana_JU)"
   ]
  },
  {
   "cell_type": "code",
   "execution_count": 104,
   "metadata": {},
   "outputs": [
    {
     "data": {
      "text/plain": [
       "(10, 30)"
      ]
     },
     "execution_count": 104,
     "metadata": {},
     "output_type": "execute_result"
    }
   ],
   "source": [
    "ana_JU.shape"
   ]
  },
  {
   "cell_type": "code",
   "execution_count": 57,
   "metadata": {},
   "outputs": [],
   "source": [
    "u = e0[0]"
   ]
  },
  {
   "cell_type": "code",
   "execution_count": 112,
   "metadata": {},
   "outputs": [],
   "source": [
    "Jnl_star = jnp.diag(nonlin_module.derivative(a))\n",
    "qT = u.T @ jnp.linalg.inv(jnp.eye(k) - Jnl@W) * jnp.diag(Jnl)"
   ]
  },
  {
   "cell_type": "code",
   "execution_count": 113,
   "metadata": {},
   "outputs": [],
   "source": [
    "J_A = np.kron(z_star[0], qT).T @ P_A\n",
    "J_A = J_A.reshape(10, 10, order='F')"
   ]
  },
  {
   "cell_type": "code",
   "execution_count": 116,
   "metadata": {},
   "outputs": [
    {
     "data": {
      "text/plain": [
       "matrix([[0., 0., 0., 0., 0., 0., 0., 0., 0., 0.],\n",
       "        [0., 0., 0., 0., 0., 0., 0., 0., 0., 0.],\n",
       "        [0., 0., 0., 0., 0., 0., 0., 0., 0., 0.],\n",
       "        [0., 0., 0., 0., 0., 0., 0., 0., 0., 0.],\n",
       "        [0., 0., 0., 0., 0., 0., 0., 0., 0., 0.],\n",
       "        [0., 0., 0., 0., 0., 0., 0., 0., 0., 0.],\n",
       "        [0., 0., 0., 0., 0., 0., 0., 0., 0., 0.],\n",
       "        [0., 0., 0., 0., 0., 0., 0., 0., 0., 0.],\n",
       "        [0., 0., 0., 0., 0., 0., 0., 0., 0., 0.],\n",
       "        [0., 0., 0., 0., 0., 0., 0., 0., 0., 0.]])"
      ]
     },
     "execution_count": 116,
     "metadata": {},
     "output_type": "execute_result"
    }
   ],
   "source": [
    "J_A"
   ]
  },
  {
   "cell_type": "code",
   "execution_count": 115,
   "metadata": {},
   "outputs": [
    {
     "data": {
      "text/plain": [
       "DeviceArray([ 0.09708402, -0.15101041, -0.06417657, -0.01218294,\n",
       "             -0.6068703 , -0.15390113, -0.08026036, -0.9055623 ,\n",
       "              0.434208  ,  0.6442721 ], dtype=float32)"
      ]
     },
     "execution_count": 115,
     "metadata": {},
     "output_type": "execute_result"
    }
   ],
   "source": [
    "d_lin_mdl.p_A[0]"
   ]
  },
  {
   "cell_type": "code",
   "execution_count": null,
   "metadata": {},
   "outputs": [],
   "source": []
  }
 ],
 "metadata": {
  "interpreter": {
   "hash": "89534243ff900f003a92eb7b32117c5dc522adac159f3512230d8fd7d317fe1c"
  },
  "kernelspec": {
   "display_name": "Python 3.9.12 (conda)",
   "language": "python",
   "name": "python3"
  },
  "language_info": {
   "codemirror_mode": {
    "name": "ipython",
    "version": 3
   },
   "file_extension": ".py",
   "mimetype": "text/x-python",
   "name": "python",
   "nbconvert_exporter": "python",
   "pygments_lexer": "ipython3",
   "version": "3.9.12"
  },
  "orig_nbformat": 4
 },
 "nbformat": 4,
 "nbformat_minor": 2
}
