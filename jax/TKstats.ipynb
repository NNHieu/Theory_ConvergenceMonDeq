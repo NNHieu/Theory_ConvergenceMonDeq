{
 "cells": [
  {
   "cell_type": "code",
   "execution_count": 9,
   "metadata": {},
   "outputs": [],
   "source": [
    "import jax\n",
    "from jax import numpy as jnp, random\n",
    "import numpy as np\n",
    "import pandas as pd\n",
    "from mondeq.modules import MonLinear, Relu, fcmon\n",
    "from mondeq.splittings import build_peacemanrachford_update\n",
    "from utils import commutation_matrix_sp, vec\n",
    "from functools import partial\n",
    "import pandas as pd"
   ]
  },
  {
   "cell_type": "code",
   "execution_count": 50,
   "metadata": {},
   "outputs": [],
   "source": [
    "dyn = partial(build_peacemanrachford_update, 1.)\n",
    "def stats_TK(d, k, Z0, X, key):\n",
    "    X = X / jnp.linalg.norm(X, axis=0)\n",
    "\n",
    "    skey = random.split(key)\n",
    "    lin_module = MonLinear(d, k, key=skey[0])\n",
    "    nonlin_module = Relu()\n",
    "    u = random.normal(skey[1], shape=(k,)) / jnp.sqrt(k)\n",
    "    Ju = jax.jacrev(lambda u: fcmon(dyn, max_iter, tol, u, nonlin_module, lin_module, Z0, X))(u)\n",
    "    Jlin = jax.jacrev(lambda lin_module: fcmon(dyn, max_iter, tol, u, nonlin_module, lin_module, Z0, X), allow_int=True)(lin_module)\n",
    "    \n",
    "    H1_A = vprod(Jlin.p_A)\n",
    "    H1_B = vprod(Jlin.p_B)\n",
    "\n",
    "    H1 = H1_A + H1_B\n",
    "    H2 = vprod(Jlin.p_U)\n",
    "    H3 = Ju @ Ju.T\n",
    "    H = H1 + H2 + H3\n",
    "    return {\n",
    "        \"min_norm_row_Q\": jnp.min(jnp.diag(H2)),\n",
    "        \"eigmin_H1_A\": jnp.linalg.eigvalsh(H1_A)[0],\n",
    "        \"eigmin_H1_B\": jnp.linalg.eigvalsh(H1_B)[0],\n",
    "\n",
    "        \"eigmin_H1\": jnp.linalg.eigvalsh(H1)[0],\n",
    "        \"eigmin_H2\": jnp.linalg.eigvalsh(H2)[0],\n",
    "        \"eigmin_H3\": jnp.linalg.eigvalsh(H3)[0],\n",
    "\n",
    "        \"eigmin_H\": jnp.linalg.eigvalsh(H)[0],\n",
    "    }\n",
    "stats_TK_jit = jax.jit(stats_TK, static_argnums=(0, 1))"
   ]
  },
  {
   "cell_type": "code",
   "execution_count": 85,
   "metadata": {},
   "outputs": [],
   "source": [
    "num_runs = 1000\n",
    "num_samples = 100\n",
    "d = 20\n",
    "k = 100\n",
    "key = random.PRNGKey(0)\n",
    "max_iter = 40\n",
    "tol = 1e-5\n",
    "def vprod(M):\n",
    "    return jnp.einsum(\"ihk,jhk->ij\", M, M)"
   ]
  },
  {
   "cell_type": "code",
   "execution_count": 86,
   "metadata": {},
   "outputs": [],
   "source": [
    "Z0 = jnp.zeros(shape=(num_samples, k))\n",
    "row_list = []\n",
    "for i in range(num_runs):\n",
    "    key, skey = random.split(key)\n",
    "    X = np.random.uniform(size=(num_samples, d))\n",
    "    result = stats_TK_jit(d, k, Z0, X, skey)\n",
    "    result = {k: v.item() for k, v in result.items()}\n",
    "    row_list.append(result)\n",
    "df = pd.DataFrame(row_list)"
   ]
  },
  {
   "cell_type": "code",
   "execution_count": 87,
   "metadata": {},
   "outputs": [
    {
     "data": {
      "text/html": [
       "<div>\n",
       "<style scoped>\n",
       "    .dataframe tbody tr th:only-of-type {\n",
       "        vertical-align: middle;\n",
       "    }\n",
       "\n",
       "    .dataframe tbody tr th {\n",
       "        vertical-align: top;\n",
       "    }\n",
       "\n",
       "    .dataframe thead th {\n",
       "        text-align: right;\n",
       "    }\n",
       "</style>\n",
       "<table border=\"1\" class=\"dataframe\">\n",
       "  <thead>\n",
       "    <tr style=\"text-align: right;\">\n",
       "      <th></th>\n",
       "      <th>eigmin_H</th>\n",
       "      <th>eigmin_H1</th>\n",
       "      <th>eigmin_H1_A</th>\n",
       "      <th>eigmin_H1_B</th>\n",
       "      <th>eigmin_H2</th>\n",
       "      <th>eigmin_H3</th>\n",
       "      <th>min_norm_row_Q</th>\n",
       "    </tr>\n",
       "  </thead>\n",
       "  <tbody>\n",
       "    <tr>\n",
       "      <th>0</th>\n",
       "      <td>0.010144</td>\n",
       "      <td>0.005412</td>\n",
       "      <td>0.001845</td>\n",
       "      <td>0.003245</td>\n",
       "      <td>0.003351</td>\n",
       "      <td>-7.252503e-08</td>\n",
       "      <td>0.038359</td>\n",
       "    </tr>\n",
       "    <tr>\n",
       "      <th>1</th>\n",
       "      <td>0.010030</td>\n",
       "      <td>0.005161</td>\n",
       "      <td>0.001949</td>\n",
       "      <td>0.002946</td>\n",
       "      <td>0.003481</td>\n",
       "      <td>-2.366923e-06</td>\n",
       "      <td>0.067830</td>\n",
       "    </tr>\n",
       "    <tr>\n",
       "      <th>2</th>\n",
       "      <td>0.013641</td>\n",
       "      <td>0.007624</td>\n",
       "      <td>0.002457</td>\n",
       "      <td>0.004600</td>\n",
       "      <td>0.004679</td>\n",
       "      <td>-1.297095e-07</td>\n",
       "      <td>0.080472</td>\n",
       "    </tr>\n",
       "    <tr>\n",
       "      <th>3</th>\n",
       "      <td>0.009618</td>\n",
       "      <td>0.004614</td>\n",
       "      <td>0.001641</td>\n",
       "      <td>0.002693</td>\n",
       "      <td>0.003172</td>\n",
       "      <td>-1.350228e-07</td>\n",
       "      <td>0.038995</td>\n",
       "    </tr>\n",
       "    <tr>\n",
       "      <th>4</th>\n",
       "      <td>0.009679</td>\n",
       "      <td>0.005354</td>\n",
       "      <td>0.001848</td>\n",
       "      <td>0.003247</td>\n",
       "      <td>0.003181</td>\n",
       "      <td>-8.066259e-08</td>\n",
       "      <td>0.045554</td>\n",
       "    </tr>\n",
       "    <tr>\n",
       "      <th>...</th>\n",
       "      <td>...</td>\n",
       "      <td>...</td>\n",
       "      <td>...</td>\n",
       "      <td>...</td>\n",
       "      <td>...</td>\n",
       "      <td>...</td>\n",
       "      <td>...</td>\n",
       "    </tr>\n",
       "    <tr>\n",
       "      <th>995</th>\n",
       "      <td>0.014702</td>\n",
       "      <td>0.009073</td>\n",
       "      <td>0.002975</td>\n",
       "      <td>0.005637</td>\n",
       "      <td>0.004090</td>\n",
       "      <td>-1.710344e-07</td>\n",
       "      <td>0.067376</td>\n",
       "    </tr>\n",
       "    <tr>\n",
       "      <th>996</th>\n",
       "      <td>0.007401</td>\n",
       "      <td>0.004068</td>\n",
       "      <td>0.001468</td>\n",
       "      <td>0.002432</td>\n",
       "      <td>0.002449</td>\n",
       "      <td>-1.517791e-06</td>\n",
       "      <td>0.040256</td>\n",
       "    </tr>\n",
       "    <tr>\n",
       "      <th>997</th>\n",
       "      <td>0.009292</td>\n",
       "      <td>0.004465</td>\n",
       "      <td>0.001652</td>\n",
       "      <td>0.002494</td>\n",
       "      <td>0.003259</td>\n",
       "      <td>-5.376862e-08</td>\n",
       "      <td>0.048764</td>\n",
       "    </tr>\n",
       "    <tr>\n",
       "      <th>998</th>\n",
       "      <td>0.007286</td>\n",
       "      <td>0.003705</td>\n",
       "      <td>0.001409</td>\n",
       "      <td>0.002136</td>\n",
       "      <td>0.002635</td>\n",
       "      <td>-9.797255e-08</td>\n",
       "      <td>0.051726</td>\n",
       "    </tr>\n",
       "    <tr>\n",
       "      <th>999</th>\n",
       "      <td>0.004994</td>\n",
       "      <td>0.002853</td>\n",
       "      <td>0.000902</td>\n",
       "      <td>0.001728</td>\n",
       "      <td>0.001476</td>\n",
       "      <td>-3.476353e-07</td>\n",
       "      <td>0.060616</td>\n",
       "    </tr>\n",
       "  </tbody>\n",
       "</table>\n",
       "<p>1000 rows × 7 columns</p>\n",
       "</div>"
      ],
      "text/plain": [
       "     eigmin_H  eigmin_H1  eigmin_H1_A  eigmin_H1_B  eigmin_H2     eigmin_H3  \\\n",
       "0    0.010144   0.005412     0.001845     0.003245   0.003351 -7.252503e-08   \n",
       "1    0.010030   0.005161     0.001949     0.002946   0.003481 -2.366923e-06   \n",
       "2    0.013641   0.007624     0.002457     0.004600   0.004679 -1.297095e-07   \n",
       "3    0.009618   0.004614     0.001641     0.002693   0.003172 -1.350228e-07   \n",
       "4    0.009679   0.005354     0.001848     0.003247   0.003181 -8.066259e-08   \n",
       "..        ...        ...          ...          ...        ...           ...   \n",
       "995  0.014702   0.009073     0.002975     0.005637   0.004090 -1.710344e-07   \n",
       "996  0.007401   0.004068     0.001468     0.002432   0.002449 -1.517791e-06   \n",
       "997  0.009292   0.004465     0.001652     0.002494   0.003259 -5.376862e-08   \n",
       "998  0.007286   0.003705     0.001409     0.002136   0.002635 -9.797255e-08   \n",
       "999  0.004994   0.002853     0.000902     0.001728   0.001476 -3.476353e-07   \n",
       "\n",
       "     min_norm_row_Q  \n",
       "0          0.038359  \n",
       "1          0.067830  \n",
       "2          0.080472  \n",
       "3          0.038995  \n",
       "4          0.045554  \n",
       "..              ...  \n",
       "995        0.067376  \n",
       "996        0.040256  \n",
       "997        0.048764  \n",
       "998        0.051726  \n",
       "999        0.060616  \n",
       "\n",
       "[1000 rows x 7 columns]"
      ]
     },
     "execution_count": 87,
     "metadata": {},
     "output_type": "execute_result"
    }
   ],
   "source": [
    "df  "
   ]
  },
  {
   "cell_type": "code",
   "execution_count": 88,
   "metadata": {},
   "outputs": [
    {
     "data": {
      "text/plain": [
       "eigmin_H          0.002472\n",
       "eigmin_H1         0.001187\n",
       "eigmin_H1_A       0.000418\n",
       "eigmin_H1_B       0.000728\n",
       "eigmin_H2         0.000764\n",
       "eigmin_H3        -0.000004\n",
       "min_norm_row_Q    0.015154\n",
       "dtype: float64"
      ]
     },
     "execution_count": 88,
     "metadata": {},
     "output_type": "execute_result"
    }
   ],
   "source": [
    "df.min()"
   ]
  },
  {
   "cell_type": "code",
   "execution_count": 89,
   "metadata": {},
   "outputs": [
    {
     "data": {
      "text/plain": [
       "eigmin_H          1.036051e-02\n",
       "eigmin_H1         5.418245e-03\n",
       "eigmin_H1_A       1.892026e-03\n",
       "eigmin_H1_B       3.233619e-03\n",
       "eigmin_H2         3.420171e-03\n",
       "eigmin_H3        -1.786486e-07\n",
       "min_norm_row_Q    5.752994e-02\n",
       "dtype: float64"
      ]
     },
     "execution_count": 89,
     "metadata": {},
     "output_type": "execute_result"
    }
   ],
   "source": [
    "df.mean()"
   ]
  },
  {
   "cell_type": "code",
   "execution_count": 72,
   "metadata": {},
   "outputs": [
    {
     "data": {
      "text/plain": [
       "<AxesSubplot:ylabel='Frequency'>"
      ]
     },
     "execution_count": 72,
     "metadata": {},
     "output_type": "execute_result"
    },
    {
     "data": {
      "image/png": "[encoded data removed]",
      "text/plain": [
       "<Figure size 432x288 with 1 Axes>"
      ]
     },
     "metadata": {
      "needs_background": "light"
     },
     "output_type": "display_data"
    }
   ],
   "source": [
    "df.eigmin_H.plot.hist(bins=100)"
   ]
  },
  {
   "cell_type": "code",
   "execution_count": 79,
   "metadata": {},
   "outputs": [
    {
     "data": {
      "text/plain": [
       "eigmin_H          1.223016e-06\n",
       "eigmin_H1         7.194511e-07\n",
       "eigmin_H1_A       2.549738e-07\n",
       "eigmin_H1_B       4.750988e-07\n",
       "eigmin_H2         2.368104e-07\n",
       "eigmin_H3         7.847345e-10\n",
       "min_norm_row_Q    7.859664e-04\n",
       "dtype: float64"
      ]
     },
     "execution_count": 79,
     "metadata": {},
     "output_type": "execute_result"
    }
   ],
   "source": [
    "df.min()"
   ]
  },
  {
   "cell_type": "code",
   "execution_count": 73,
   "metadata": {},
   "outputs": [
    {
     "data": {
      "text/plain": [
       "<AxesSubplot:ylabel='Frequency'>"
      ]
     },
     "execution_count": 73,
     "metadata": {},
     "output_type": "execute_result"
    },
    {
     "data": {
      "image/png": "[encoded data removed]",
      "text/plain": [
       "<Figure size 432x288 with 1 Axes>"
      ]
     },
     "metadata": {
      "needs_background": "light"
     },
     "output_type": "display_data"
    }
   ],
   "source": [
    "df.min_norm_row_Q.plot.hist(bins=100)"
   ]
  },
  {
   "cell_type": "code",
   "execution_count": 92,
   "metadata": {},
   "outputs": [
    {
     "data": {
      "text/plain": [
       "27"
      ]
     },
     "execution_count": 92,
     "metadata": {},
     "output_type": "execute_result"
    }
   ],
   "source": [
    "(df.eigmin_H < df.eigmin_H.min()*2).sum()"
   ]
  },
  {
   "cell_type": "code",
   "execution_count": null,
   "metadata": {},
   "outputs": [],
   "source": []
  }
 ],
 "metadata": {
  "interpreter": {
   "hash": "fee6c79fe90f91b3b60ef5699113f434fb7eab4e56d945f7a422e5fe3d928a66"
  },
  "kernelspec": {
   "display_name": "Python 3.9.12 (conda)",
   "language": "python",
   "name": "python3"
  },
  "language_info": {
   "codemirror_mode": {
    "name": "ipython",
    "version": 3
   },
   "file_extension": ".py",
   "mimetype": "text/x-python",
   "name": "python",
   "nbconvert_exporter": "python",
   "pygments_lexer": "ipython3",
   "version": "3.9.12"
  },
  "orig_nbformat": 4
 },
 "nbformat": 4,
 "nbformat_minor": 2
}
