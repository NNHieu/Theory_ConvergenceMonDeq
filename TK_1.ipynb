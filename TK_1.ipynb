{
 "cells": [
  {
   "cell_type": "code",
   "execution_count": 1,
   "metadata": {},
   "outputs": [
    {
     "data": {
      "text/plain": [
       "commutation_matrix (generic function with 1 method)"
      ]
     },
     "metadata": {},
     "output_type": "display_data"
    }
   ],
   "source": [
    "include(\"utils.jl\")"
   ]
  },
  {
   "cell_type": "code",
   "execution_count": 10,
   "metadata": {},
   "outputs": [],
   "source": [
    "using LinearAlgebra\n",
    "using StatsPlots\n",
    "using Kronecker"
   ]
  },
  {
   "cell_type": "code",
   "execution_count": 29,
   "metadata": {},
   "outputs": [],
   "source": [
    "num_sample = 1;\n",
    "d = 2;\n",
    "k = 2;\n",
    "alpha = 0.1;\n",
    "\n",
    "Id_k = identity_matrix(k);\n",
    "Id_kk = identity_matrix(k*k);\n",
    "K_k = commutation_matrix(k, k);\n",
    "P_BP_B = 2(Id_kk - K_k);\n",
    "doubN_k = (Id_kk + K_k);"
   ]
  },
  {
   "cell_type": "markdown",
   "metadata": {},
   "source": [
    "## Symbolics"
   ]
  },
  {
   "cell_type": "code",
   "execution_count": 25,
   "metadata": {},
   "outputs": [],
   "source": [
    "using SymPy"
   ]
  },
  {
   "cell_type": "code",
   "execution_count": 26,
   "metadata": {},
   "outputs": [
    {
     "data": {
      "text/latex": [
       "$\\left[ \\begin{array}{rr}a_{11}&a_{12}\\\\a_{21}&a_{22}\\end{array}\\right]$\n"
      ],
      "text/plain": [
       "2×2 Matrix{Sym}:\n",
       " a₁₁  a₁₂\n",
       " a₂₁  a₂₂"
      ]
     },
     "metadata": {},
     "output_type": "display_data"
    }
   ],
   "source": [
    "A = [Sym(\"a$i$j\") for i=1:2 for j=1:2].reshape(2,2)"
   ]
  },
  {
   "cell_type": "code",
   "execution_count": 37,
   "metadata": {},
   "outputs": [
    {
     "data": {
      "text/latex": [
       "$\\left[ \\begin{array}{rr}a_{11}^{2} + a_{21}^{2}&a_{11} a_{12} + a_{21} a_{22}\\\\a_{11} a_{12} + a_{21} a_{22}&a_{12}^{2} + a_{22}^{2}\\end{array}\\right]$\n"
      ],
      "text/plain": [
       "2×2 Matrix{Sym}:\n",
       "     a11^2 + a21^2  a₁₁⋅a₁₂ + a₂₁⋅a₂₂\n",
       " a₁₁⋅a₁₂ + a₂₁⋅a₂₂      a12^2 + a22^2"
      ]
     },
     "metadata": {},
     "output_type": "display_data"
    }
   ],
   "source": [
    "AA = A.T * A"
   ]
  },
  {
   "cell_type": "code",
   "execution_count": 38,
   "metadata": {},
   "outputs": [
    {
     "data": {
      "text/latex": [
       "$\\left[ \\begin{array}{rrrr}2.0 a_{11}^{2} + 2.0 a_{21}^{2} + 2.0 \\operatorname{transpose}^{2}{\\left(a_{11} \\right)} + 2.0 \\operatorname{transpose}^{2}{\\left(a_{21} \\right)}&2.0 a_{11} a_{12} + 2.0 a_{21} a_{22}&2.0 \\operatorname{transpose}{\\left(a_{11} \\right)} \\operatorname{transpose}{\\left(a_{12} \\right)} + 2.0 \\operatorname{transpose}{\\left(a_{21} \\right)} \\operatorname{transpose}{\\left(a_{22} \\right)}&0\\\\1.0 a_{11} a_{12} + 1.0 a_{21} a_{22} + 1.0 \\operatorname{transpose}{\\left(a_{11} \\right)} \\operatorname{transpose}{\\left(a_{12} \\right)} + 1.0 \\operatorname{transpose}{\\left(a_{21} \\right)} \\operatorname{transpose}{\\left(a_{22} \\right)}&1.0 a_{12}^{2} + 1.0 a_{22}^{2} + 1.0 \\operatorname{transpose}^{2}{\\left(a_{11} \\right)} + 1.0 \\operatorname{transpose}^{2}{\\left(a_{21} \\right)}&1.0 a_{11}^{2} + 1.0 a_{21}^{2} + 1.0 \\operatorname{transpose}^{2}{\\left(a_{12} \\right)} + 1.0 \\operatorname{transpose}^{2}{\\left(a_{22} \\right)}&1.0 a_{11} a_{12} + 1.0 a_{21} a_{22} + 1.0 \\operatorname{transpose}{\\left(a_{11} \\right)} \\operatorname{transpose}{\\left(a_{12} \\right)} + 1.0 \\operatorname{transpose}{\\left(a_{21} \\right)} \\operatorname{transpose}{\\left(a_{22} \\right)}\\\\1.0 a_{11} a_{12} + 1.0 a_{21} a_{22} + 1.0 \\operatorname{transpose}{\\left(a_{11} \\right)} \\operatorname{transpose}{\\left(a_{12} \\right)} + 1.0 \\operatorname{transpose}{\\left(a_{21} \\right)} \\operatorname{transpose}{\\left(a_{22} \\right)}&1.0 a_{12}^{2} + 1.0 a_{22}^{2} + 1.0 \\operatorname{transpose}^{2}{\\left(a_{11} \\right)} + 1.0 \\operatorname{transpose}^{2}{\\left(a_{21} \\right)}&1.0 a_{11}^{2} + 1.0 a_{21}^{2} + 1.0 \\operatorname{transpose}^{2}{\\left(a_{12} \\right)} + 1.0 \\operatorname{transpose}^{2}{\\left(a_{22} \\right)}&1.0 a_{11} a_{12} + 1.0 a_{21} a_{22} + 1.0 \\operatorname{transpose}{\\left(a_{11} \\right)} \\operatorname{transpose}{\\left(a_{12} \\right)} + 1.0 \\operatorname{transpose}{\\left(a_{21} \\right)} \\operatorname{transpose}{\\left(a_{22} \\right)}\\\\0&2.0 \\operatorname{transpose}{\\left(a_{11} \\right)} \\operatorname{transpose}{\\left(a_{12} \\right)} + 2.0 \\operatorname{transpose}{\\left(a_{21} \\right)} \\operatorname{transpose}{\\left(a_{22} \\right)}&2.0 a_{11} a_{12} + 2.0 a_{21} a_{22}&2.0 a_{12}^{2} + 2.0 a_{22}^{2} + 2.0 \\operatorname{transpose}^{2}{\\left(a_{12} \\right)} + 2.0 \\operatorname{transpose}^{2}{\\left(a_{22} \\right)}\\end{array}\\right]$\n"
      ],
      "text/plain": [
       "4×4 transpose(::Matrix{Sym}) with eltype Sym:\n",
       "                               2.0*a11^2 + 2.0*a21^2 + 2.0*transpose(a11)^2 + 2.0*transpose(a21)^2  …                                                                                                  0\n",
       " 1.0*a11*a12 + 1.0*a21*a22 + 1.0*transpose(a11)*transpose(a12) + 1.0*transpose(a21)*transpose(a22)     1.0*a11*a12 + 1.0*a21*a22 + 1.0*transpose(a11)*transpose(a12) + 1.0*transpose(a21)*transpose(a22)\n",
       " 1.0*a11*a12 + 1.0*a21*a22 + 1.0*transpose(a11)*transpose(a12) + 1.0*transpose(a21)*transpose(a22)     1.0*a11*a12 + 1.0*a21*a22 + 1.0*transpose(a11)*transpose(a12) + 1.0*transpose(a21)*transpose(a22)\n",
       "                                                                                                 0                                   2.0*a12^2 + 2.0*a22^2 + 2.0*transpose(a12)^2 + 2.0*transpose(a22)^2"
      ]
     },
     "metadata": {},
     "output_type": "display_data"
    }
   ],
   "source": [
    "P_AP_A = (Id_kk + K_k) * (AA ⊕ AA)"
   ]
  },
  {
   "cell_type": "code",
   "execution_count": 40,
   "metadata": {},
   "outputs": [
    {
     "data": {
      "text/plain": [
       "Dict{Any, Any} with 4 entries:\n",
       "  1.0*a11^2 + 1.0*a12^2 + 1.0*a21^2 + 1.0*a22^2 - 2.82842712474619*sqrt(0.… => 1\n",
       "  1.0*a11^2 + 1.0*a12^2 + 1.0*a21^2 + 1.0*a22^2 + 2.82842712474619*sqrt(0.… => 1\n",
       "  1.0*a11^2 + 1.0*a12^2 + 1.0*a21^2 + 1.0*a22^2 + 1.0*transpose(a11)^2 + 1… => 1\n",
       "  0                                                                         => 1"
      ]
     },
     "metadata": {},
     "output_type": "display_data"
    }
   ],
   "source": [
    "P_AP_A.eigenvals()"
   ]
  },
  {
   "cell_type": "code",
   "execution_count": 43,
   "metadata": {},
   "outputs": [
    {
     "data": {
      "text/latex": [
       "$\\left[ \\begin{array}{rrrr}- 2.0 a_{11}^{2} - 2.0 a_{21}^{2} - 2.0 \\operatorname{transpose}^{2}{\\left(a_{11} \\right)} - 2.0 \\operatorname{transpose}^{2}{\\left(a_{21} \\right)}&- 2.0 a_{11} a_{12} - 2.0 a_{21} a_{22}&- 2.0 \\operatorname{transpose}{\\left(a_{11} \\right)} \\operatorname{transpose}{\\left(a_{12} \\right)} - 2.0 \\operatorname{transpose}{\\left(a_{21} \\right)} \\operatorname{transpose}{\\left(a_{22} \\right)}&0\\\\- 1.0 a_{11} a_{12} - 1.0 a_{21} a_{22} - 1.0 \\operatorname{transpose}{\\left(a_{11} \\right)} \\operatorname{transpose}{\\left(a_{12} \\right)} - 1.0 \\operatorname{transpose}{\\left(a_{21} \\right)} \\operatorname{transpose}{\\left(a_{22} \\right)}&- 1.0 a_{12}^{2} - 1.0 a_{22}^{2} - 1.0 \\operatorname{transpose}^{2}{\\left(a_{11} \\right)} - 1.0 \\operatorname{transpose}^{2}{\\left(a_{21} \\right)} + 2.0&- 1.0 a_{11}^{2} - 1.0 a_{21}^{2} - 1.0 \\operatorname{transpose}^{2}{\\left(a_{12} \\right)} - 1.0 \\operatorname{transpose}^{2}{\\left(a_{22} \\right)} - 2.0&- 1.0 a_{11} a_{12} - 1.0 a_{21} a_{22} - 1.0 \\operatorname{transpose}{\\left(a_{11} \\right)} \\operatorname{transpose}{\\left(a_{12} \\right)} - 1.0 \\operatorname{transpose}{\\left(a_{21} \\right)} \\operatorname{transpose}{\\left(a_{22} \\right)}\\\\- 1.0 a_{11} a_{12} - 1.0 a_{21} a_{22} - 1.0 \\operatorname{transpose}{\\left(a_{11} \\right)} \\operatorname{transpose}{\\left(a_{12} \\right)} - 1.0 \\operatorname{transpose}{\\left(a_{21} \\right)} \\operatorname{transpose}{\\left(a_{22} \\right)}&- 1.0 a_{12}^{2} - 1.0 a_{22}^{2} - 1.0 \\operatorname{transpose}^{2}{\\left(a_{11} \\right)} - 1.0 \\operatorname{transpose}^{2}{\\left(a_{21} \\right)} - 2.0&- 1.0 a_{11}^{2} - 1.0 a_{21}^{2} - 1.0 \\operatorname{transpose}^{2}{\\left(a_{12} \\right)} - 1.0 \\operatorname{transpose}^{2}{\\left(a_{22} \\right)} + 2.0&- 1.0 a_{11} a_{12} - 1.0 a_{21} a_{22} - 1.0 \\operatorname{transpose}{\\left(a_{11} \\right)} \\operatorname{transpose}{\\left(a_{12} \\right)} - 1.0 \\operatorname{transpose}{\\left(a_{21} \\right)} \\operatorname{transpose}{\\left(a_{22} \\right)}\\\\0&- 2.0 \\operatorname{transpose}{\\left(a_{11} \\right)} \\operatorname{transpose}{\\left(a_{12} \\right)} - 2.0 \\operatorname{transpose}{\\left(a_{21} \\right)} \\operatorname{transpose}{\\left(a_{22} \\right)}&- 2.0 a_{11} a_{12} - 2.0 a_{21} a_{22}&- 2.0 a_{12}^{2} - 2.0 a_{22}^{2} - 2.0 \\operatorname{transpose}^{2}{\\left(a_{12} \\right)} - 2.0 \\operatorname{transpose}^{2}{\\left(a_{22} \\right)}\\end{array}\\right]$\n"
      ],
      "text/plain": [
       "4×4 Matrix{Sym}:\n",
       "                               -2.0*a11^2 - 2.0*a21^2 - 2.0*transpose(a11)^2 - 2.0*transpose(a21)^2  …                                                                                                   0\n",
       " -1.0*a11*a12 - 1.0*a21*a22 - 1.0*transpose(a11)*transpose(a12) - 1.0*transpose(a21)*transpose(a22)     -1.0*a11*a12 - 1.0*a21*a22 - 1.0*transpose(a11)*transpose(a12) - 1.0*transpose(a21)*transpose(a22)\n",
       " -1.0*a11*a12 - 1.0*a21*a22 - 1.0*transpose(a11)*transpose(a12) - 1.0*transpose(a21)*transpose(a22)     -1.0*a11*a12 - 1.0*a21*a22 - 1.0*transpose(a11)*transpose(a12) - 1.0*transpose(a21)*transpose(a22)\n",
       "                                                                                                  0                                   -2.0*a12^2 - 2.0*a22^2 - 2.0*transpose(a12)^2 - 2.0*transpose(a22)^2"
      ]
     },
     "metadata": {},
     "output_type": "display_data"
    }
   ],
   "source": [
    "P = 2Matrix(Id_kk - K_k) - P_AP_A\n",
    "eigvsP = P.eigenvals();"
   ]
  },
  {
   "cell_type": "code",
   "execution_count": 110,
   "metadata": {},
   "outputs": [
    {
     "data": {
      "text/latex": [
       "$-0.435516494354536$"
      ],
      "text/plain": [
       "-0.435516494354536"
      ]
     },
     "metadata": {},
     "output_type": "display_data"
    }
   ],
   "source": [
    "subs(collect(keys(eigvsP))[2], [(ai, randn()) for ai=vec(A)]...)"
   ]
  },
  {
   "cell_type": "code",
   "execution_count": 98,
   "metadata": {},
   "outputs": [],
   "source": [
    "eigs = collect(keys(eigvsP));"
   ]
  },
  {
   "cell_type": "code",
   "execution_count": 99,
   "metadata": {},
   "outputs": [
    {
     "data": {
      "text/latex": [
       "$4.0$"
      ],
      "text/plain": [
       "4.00000000000000"
      ]
     },
     "metadata": {},
     "output_type": "display_data"
    }
   ],
   "source": [
    "eigs[1]"
   ]
  },
  {
   "cell_type": "code",
   "execution_count": 100,
   "metadata": {},
   "outputs": [
    {
     "data": {
      "text/latex": [
       "$- 1.0 a_{11}^{2} - 1.0 a_{12}^{2} - 1.0 a_{21}^{2} - 1.0 a_{22}^{2} + 2.82842712474619 \\sqrt{0.125 a_{11}^{4} + 0.25 a_{11}^{2} a_{12}^{2} + 0.25 a_{11}^{2} a_{21}^{2} - 0.25 a_{11}^{2} a_{22}^{2} + 0.25 a_{11}^{2} \\operatorname{transpose}^{2}{\\left(a_{11} \\right)} - 0.25 a_{11}^{2} \\operatorname{transpose}^{2}{\\left(a_{12} \\right)} + 0.25 a_{11}^{2} \\operatorname{transpose}^{2}{\\left(a_{21} \\right)} - 0.25 a_{11}^{2} \\operatorname{transpose}^{2}{\\left(a_{22} \\right)} + a_{11} a_{12} a_{21} a_{22} + a_{11} a_{12} \\operatorname{transpose}{\\left(a_{11} \\right)} \\operatorname{transpose}{\\left(a_{12} \\right)} + a_{11} a_{12} \\operatorname{transpose}{\\left(a_{21} \\right)} \\operatorname{transpose}{\\left(a_{22} \\right)} + 0.125 a_{12}^{4} - 0.25 a_{12}^{2} a_{21}^{2} + 0.25 a_{12}^{2} a_{22}^{2} - 0.25 a_{12}^{2} \\operatorname{transpose}^{2}{\\left(a_{11} \\right)} + 0.25 a_{12}^{2} \\operatorname{transpose}^{2}{\\left(a_{12} \\right)} - 0.25 a_{12}^{2} \\operatorname{transpose}^{2}{\\left(a_{21} \\right)} + 0.25 a_{12}^{2} \\operatorname{transpose}^{2}{\\left(a_{22} \\right)} + 0.125 a_{21}^{4} + 0.25 a_{21}^{2} a_{22}^{2} + 0.25 a_{21}^{2} \\operatorname{transpose}^{2}{\\left(a_{11} \\right)} - 0.25 a_{21}^{2} \\operatorname{transpose}^{2}{\\left(a_{12} \\right)} + 0.25 a_{21}^{2} \\operatorname{transpose}^{2}{\\left(a_{21} \\right)} - 0.25 a_{21}^{2} \\operatorname{transpose}^{2}{\\left(a_{22} \\right)} + a_{21} a_{22} \\operatorname{transpose}{\\left(a_{11} \\right)} \\operatorname{transpose}{\\left(a_{12} \\right)} + a_{21} a_{22} \\operatorname{transpose}{\\left(a_{21} \\right)} \\operatorname{transpose}{\\left(a_{22} \\right)} + 0.125 a_{22}^{4} - 0.25 a_{22}^{2} \\operatorname{transpose}^{2}{\\left(a_{11} \\right)} + 0.25 a_{22}^{2} \\operatorname{transpose}^{2}{\\left(a_{12} \\right)} - 0.25 a_{22}^{2} \\operatorname{transpose}^{2}{\\left(a_{21} \\right)} + 0.25 a_{22}^{2} \\operatorname{transpose}^{2}{\\left(a_{22} \\right)} + 0.125 \\operatorname{transpose}^{4}{\\left(a_{11} \\right)} + 0.25 \\operatorname{transpose}^{2}{\\left(a_{11} \\right)} \\operatorname{transpose}^{2}{\\left(a_{12} \\right)} + 0.25 \\operatorname{transpose}^{2}{\\left(a_{11} \\right)} \\operatorname{transpose}^{2}{\\left(a_{21} \\right)} - 0.25 \\operatorname{transpose}^{2}{\\left(a_{11} \\right)} \\operatorname{transpose}^{2}{\\left(a_{22} \\right)} + \\operatorname{transpose}{\\left(a_{11} \\right)} \\operatorname{transpose}{\\left(a_{12} \\right)} \\operatorname{transpose}{\\left(a_{21} \\right)} \\operatorname{transpose}{\\left(a_{22} \\right)} + 0.125 \\operatorname{transpose}^{4}{\\left(a_{12} \\right)} - 0.25 \\operatorname{transpose}^{2}{\\left(a_{12} \\right)} \\operatorname{transpose}^{2}{\\left(a_{21} \\right)} + 0.25 \\operatorname{transpose}^{2}{\\left(a_{12} \\right)} \\operatorname{transpose}^{2}{\\left(a_{22} \\right)} + 0.125 \\operatorname{transpose}^{4}{\\left(a_{21} \\right)} + 0.25 \\operatorname{transpose}^{2}{\\left(a_{21} \\right)} \\operatorname{transpose}^{2}{\\left(a_{22} \\right)} + 0.125 \\operatorname{transpose}^{4}{\\left(a_{22} \\right)}} - 1.0 \\operatorname{transpose}^{2}{\\left(a_{11} \\right)} - 1.0 \\operatorname{transpose}^{2}{\\left(a_{12} \\right)} - 1.0 \\operatorname{transpose}^{2}{\\left(a_{21} \\right)} - 1.0 \\operatorname{transpose}^{2}{\\left(a_{22} \\right)}$"
      ],
      "text/plain": [
       "                                                  ____________________________\n",
       "     2      2      2      2                      ╱          4           2    2\n",
       "- a₁₁  - a₁₂  - a₂₁  - a₂₂  + 2.82842712474619⋅╲╱  0.125⋅a₁₁  + 0.25⋅a₁₁ ⋅a₁₂ \n",
       "\n",
       "______________________________________________________________________________\n",
       "           2    2           2    2           2          2                2    \n",
       " + 0.25⋅a₁₁ ⋅a₂₁  - 0.25⋅a₁₁ ⋅a₂₂  + 0.25⋅a₁₁ ⋅transpose (a₁₁) - 0.25⋅a₁₁ ⋅tra\n",
       "\n",
       "______________________________________________________________________________\n",
       "      2                2          2                2          2               \n",
       "nspose (a₁₂) + 0.25⋅a₁₁ ⋅transpose (a₂₁) - 0.25⋅a₁₁ ⋅transpose (a₂₂) + a₁₁⋅a₁₂\n",
       "\n",
       "______________________________________________________________________________\n",
       "                                                                              \n",
       "⋅a₂₁⋅a₂₂ + a₁₁⋅a₁₂⋅transpose(a₁₁)⋅transpose(a₁₂) + a₁₁⋅a₁₂⋅transpose(a₂₁)⋅tran\n",
       "\n",
       "______________________________________________________________________________\n",
       "                      4           2    2           2    2           2         \n",
       "spose(a₂₂) + 0.125⋅a₁₂  - 0.25⋅a₁₂ ⋅a₂₁  + 0.25⋅a₁₂ ⋅a₂₂  - 0.25⋅a₁₂ ⋅transpos\n",
       "\n",
       "______________________________________________________________________________\n",
       " 2                2          2                2          2                2   \n",
       "e (a₁₁) + 0.25⋅a₁₂ ⋅transpose (a₁₂) - 0.25⋅a₁₂ ⋅transpose (a₂₁) + 0.25⋅a₁₂ ⋅tr\n",
       "\n",
       "______________________________________________________________________________\n",
       "       2                 4           2    2           2          2            \n",
       "anspose (a₂₂) + 0.125⋅a₂₁  + 0.25⋅a₂₁ ⋅a₂₂  + 0.25⋅a₂₁ ⋅transpose (a₁₁) - 0.25\n",
       "\n",
       "______________________________________________________________________________\n",
       "    2          2                2          2                2          2      \n",
       "⋅a₂₁ ⋅transpose (a₁₂) + 0.25⋅a₂₁ ⋅transpose (a₂₁) - 0.25⋅a₂₁ ⋅transpose (a₂₂) \n",
       "\n",
       "______________________________________________________________________________\n",
       "                                                                              \n",
       "+ a₂₁⋅a₂₂⋅transpose(a₁₁)⋅transpose(a₁₂) + a₂₁⋅a₂₂⋅transpose(a₂₁)⋅transpose(a₂₂\n",
       "\n",
       "______________________________________________________________________________\n",
       "             4           2          2                2          2             \n",
       ") + 0.125⋅a₂₂  - 0.25⋅a₂₂ ⋅transpose (a₁₁) + 0.25⋅a₂₂ ⋅transpose (a₁₂) - 0.25⋅\n",
       "\n",
       "______________________________________________________________________________\n",
       "   2          2                2          2                       4           \n",
       "a₂₂ ⋅transpose (a₂₁) + 0.25⋅a₂₂ ⋅transpose (a₂₂) + 0.125⋅transpose (a₁₁) + 0.2\n",
       "\n",
       "______________________________________________________________________________\n",
       "           2               2                      2               2           \n",
       "5⋅transpose (a₁₁)⋅transpose (a₁₂) + 0.25⋅transpose (a₁₁)⋅transpose (a₂₁) - 0.2\n",
       "\n",
       "______________________________________________________________________________\n",
       "           2               2                                                  \n",
       "5⋅transpose (a₁₁)⋅transpose (a₂₂) + transpose(a₁₁)⋅transpose(a₁₂)⋅transpose(a₂\n",
       "\n",
       "______________________________________________________________________________\n",
       "                                   4                      2               2   \n",
       "₁)⋅transpose(a₂₂) + 0.125⋅transpose (a₁₂) - 0.25⋅transpose (a₁₂)⋅transpose (a₂\n",
       "\n",
       "______________________________________________________________________________\n",
       "                   2               2                       4                  \n",
       "₁) + 0.25⋅transpose (a₁₂)⋅transpose (a₂₂) + 0.125⋅transpose (a₂₁) + 0.25⋅trans\n",
       "\n",
       "___________________________________________________                           \n",
       "    2               2                       4                  2              \n",
       "pose (a₂₁)⋅transpose (a₂₂) + 0.125⋅transpose (a₂₂)  - transpose (a₁₁) - transp\n",
       "\n",
       "                                             \n",
       "   2                 2                 2     \n",
       "ose (a₁₂) - transpose (a₂₁) - transpose (a₂₂)"
      ]
     },
     "metadata": {},
     "output_type": "display_data"
    }
   ],
   "source": [
    "eigs[2]"
   ]
  },
  {
   "cell_type": "code",
   "execution_count": 101,
   "metadata": {},
   "outputs": [
    {
     "data": {
      "text/latex": [
       "$- 1.0 a_{11}^{2} - 1.0 a_{12}^{2} - 1.0 a_{21}^{2} - 1.0 a_{22}^{2} - 1.0 \\operatorname{transpose}^{2}{\\left(a_{11} \\right)} - 1.0 \\operatorname{transpose}^{2}{\\left(a_{12} \\right)} - 1.0 \\operatorname{transpose}^{2}{\\left(a_{21} \\right)} - 1.0 \\operatorname{transpose}^{2}{\\left(a_{22} \\right)}$"
      ],
      "text/plain": [
       "     2      2      2      2            2                 2                 2  \n",
       "- a₁₁  - a₁₂  - a₂₁  - a₂₂  - transpose (a₁₁) - transpose (a₁₂) - transpose (a\n",
       "\n",
       "               2     \n",
       "₂₁) - transpose (a₂₂)"
      ]
     },
     "metadata": {},
     "output_type": "display_data"
    }
   ],
   "source": [
    "eigs[3]"
   ]
  },
  {
   "cell_type": "code",
   "execution_count": 102,
   "metadata": {},
   "outputs": [
    {
     "data": {
      "text/latex": [
       "$- 1.0 a_{11}^{2} - 1.0 a_{12}^{2} - 1.0 a_{21}^{2} - 1.0 a_{22}^{2} - 2.82842712474619 \\sqrt{0.125 a_{11}^{4} + 0.25 a_{11}^{2} a_{12}^{2} + 0.25 a_{11}^{2} a_{21}^{2} - 0.25 a_{11}^{2} a_{22}^{2} + 0.25 a_{11}^{2} \\operatorname{transpose}^{2}{\\left(a_{11} \\right)} - 0.25 a_{11}^{2} \\operatorname{transpose}^{2}{\\left(a_{12} \\right)} + 0.25 a_{11}^{2} \\operatorname{transpose}^{2}{\\left(a_{21} \\right)} - 0.25 a_{11}^{2} \\operatorname{transpose}^{2}{\\left(a_{22} \\right)} + a_{11} a_{12} a_{21} a_{22} + a_{11} a_{12} \\operatorname{transpose}{\\left(a_{11} \\right)} \\operatorname{transpose}{\\left(a_{12} \\right)} + a_{11} a_{12} \\operatorname{transpose}{\\left(a_{21} \\right)} \\operatorname{transpose}{\\left(a_{22} \\right)} + 0.125 a_{12}^{4} - 0.25 a_{12}^{2} a_{21}^{2} + 0.25 a_{12}^{2} a_{22}^{2} - 0.25 a_{12}^{2} \\operatorname{transpose}^{2}{\\left(a_{11} \\right)} + 0.25 a_{12}^{2} \\operatorname{transpose}^{2}{\\left(a_{12} \\right)} - 0.25 a_{12}^{2} \\operatorname{transpose}^{2}{\\left(a_{21} \\right)} + 0.25 a_{12}^{2} \\operatorname{transpose}^{2}{\\left(a_{22} \\right)} + 0.125 a_{21}^{4} + 0.25 a_{21}^{2} a_{22}^{2} + 0.25 a_{21}^{2} \\operatorname{transpose}^{2}{\\left(a_{11} \\right)} - 0.25 a_{21}^{2} \\operatorname{transpose}^{2}{\\left(a_{12} \\right)} + 0.25 a_{21}^{2} \\operatorname{transpose}^{2}{\\left(a_{21} \\right)} - 0.25 a_{21}^{2} \\operatorname{transpose}^{2}{\\left(a_{22} \\right)} + a_{21} a_{22} \\operatorname{transpose}{\\left(a_{11} \\right)} \\operatorname{transpose}{\\left(a_{12} \\right)} + a_{21} a_{22} \\operatorname{transpose}{\\left(a_{21} \\right)} \\operatorname{transpose}{\\left(a_{22} \\right)} + 0.125 a_{22}^{4} - 0.25 a_{22}^{2} \\operatorname{transpose}^{2}{\\left(a_{11} \\right)} + 0.25 a_{22}^{2} \\operatorname{transpose}^{2}{\\left(a_{12} \\right)} - 0.25 a_{22}^{2} \\operatorname{transpose}^{2}{\\left(a_{21} \\right)} + 0.25 a_{22}^{2} \\operatorname{transpose}^{2}{\\left(a_{22} \\right)} + 0.125 \\operatorname{transpose}^{4}{\\left(a_{11} \\right)} + 0.25 \\operatorname{transpose}^{2}{\\left(a_{11} \\right)} \\operatorname{transpose}^{2}{\\left(a_{12} \\right)} + 0.25 \\operatorname{transpose}^{2}{\\left(a_{11} \\right)} \\operatorname{transpose}^{2}{\\left(a_{21} \\right)} - 0.25 \\operatorname{transpose}^{2}{\\left(a_{11} \\right)} \\operatorname{transpose}^{2}{\\left(a_{22} \\right)} + \\operatorname{transpose}{\\left(a_{11} \\right)} \\operatorname{transpose}{\\left(a_{12} \\right)} \\operatorname{transpose}{\\left(a_{21} \\right)} \\operatorname{transpose}{\\left(a_{22} \\right)} + 0.125 \\operatorname{transpose}^{4}{\\left(a_{12} \\right)} - 0.25 \\operatorname{transpose}^{2}{\\left(a_{12} \\right)} \\operatorname{transpose}^{2}{\\left(a_{21} \\right)} + 0.25 \\operatorname{transpose}^{2}{\\left(a_{12} \\right)} \\operatorname{transpose}^{2}{\\left(a_{22} \\right)} + 0.125 \\operatorname{transpose}^{4}{\\left(a_{21} \\right)} + 0.25 \\operatorname{transpose}^{2}{\\left(a_{21} \\right)} \\operatorname{transpose}^{2}{\\left(a_{22} \\right)} + 0.125 \\operatorname{transpose}^{4}{\\left(a_{22} \\right)}} - 1.0 \\operatorname{transpose}^{2}{\\left(a_{11} \\right)} - 1.0 \\operatorname{transpose}^{2}{\\left(a_{12} \\right)} - 1.0 \\operatorname{transpose}^{2}{\\left(a_{21} \\right)} - 1.0 \\operatorname{transpose}^{2}{\\left(a_{22} \\right)}$"
      ],
      "text/plain": [
       "                                                  ____________________________\n",
       "     2      2      2      2                      ╱          4           2    2\n",
       "- a₁₁  - a₁₂  - a₂₁  - a₂₂  - 2.82842712474619⋅╲╱  0.125⋅a₁₁  + 0.25⋅a₁₁ ⋅a₁₂ \n",
       "\n",
       "______________________________________________________________________________\n",
       "           2    2           2    2           2          2                2    \n",
       " + 0.25⋅a₁₁ ⋅a₂₁  - 0.25⋅a₁₁ ⋅a₂₂  + 0.25⋅a₁₁ ⋅transpose (a₁₁) - 0.25⋅a₁₁ ⋅tra\n",
       "\n",
       "______________________________________________________________________________\n",
       "      2                2          2                2          2               \n",
       "nspose (a₁₂) + 0.25⋅a₁₁ ⋅transpose (a₂₁) - 0.25⋅a₁₁ ⋅transpose (a₂₂) + a₁₁⋅a₁₂\n",
       "\n",
       "______________________________________________________________________________\n",
       "                                                                              \n",
       "⋅a₂₁⋅a₂₂ + a₁₁⋅a₁₂⋅transpose(a₁₁)⋅transpose(a₁₂) + a₁₁⋅a₁₂⋅transpose(a₂₁)⋅tran\n",
       "\n",
       "______________________________________________________________________________\n",
       "                      4           2    2           2    2           2         \n",
       "spose(a₂₂) + 0.125⋅a₁₂  - 0.25⋅a₁₂ ⋅a₂₁  + 0.25⋅a₁₂ ⋅a₂₂  - 0.25⋅a₁₂ ⋅transpos\n",
       "\n",
       "______________________________________________________________________________\n",
       " 2                2          2                2          2                2   \n",
       "e (a₁₁) + 0.25⋅a₁₂ ⋅transpose (a₁₂) - 0.25⋅a₁₂ ⋅transpose (a₂₁) + 0.25⋅a₁₂ ⋅tr\n",
       "\n",
       "______________________________________________________________________________\n",
       "       2                 4           2    2           2          2            \n",
       "anspose (a₂₂) + 0.125⋅a₂₁  + 0.25⋅a₂₁ ⋅a₂₂  + 0.25⋅a₂₁ ⋅transpose (a₁₁) - 0.25\n",
       "\n",
       "______________________________________________________________________________\n",
       "    2          2                2          2                2          2      \n",
       "⋅a₂₁ ⋅transpose (a₁₂) + 0.25⋅a₂₁ ⋅transpose (a₂₁) - 0.25⋅a₂₁ ⋅transpose (a₂₂) \n",
       "\n",
       "______________________________________________________________________________\n",
       "                                                                              \n",
       "+ a₂₁⋅a₂₂⋅transpose(a₁₁)⋅transpose(a₁₂) + a₂₁⋅a₂₂⋅transpose(a₂₁)⋅transpose(a₂₂\n",
       "\n",
       "______________________________________________________________________________\n",
       "             4           2          2                2          2             \n",
       ") + 0.125⋅a₂₂  - 0.25⋅a₂₂ ⋅transpose (a₁₁) + 0.25⋅a₂₂ ⋅transpose (a₁₂) - 0.25⋅\n",
       "\n",
       "______________________________________________________________________________\n",
       "   2          2                2          2                       4           \n",
       "a₂₂ ⋅transpose (a₂₁) + 0.25⋅a₂₂ ⋅transpose (a₂₂) + 0.125⋅transpose (a₁₁) + 0.2\n",
       "\n",
       "______________________________________________________________________________\n",
       "           2               2                      2               2           \n",
       "5⋅transpose (a₁₁)⋅transpose (a₁₂) + 0.25⋅transpose (a₁₁)⋅transpose (a₂₁) - 0.2\n",
       "\n",
       "______________________________________________________________________________\n",
       "           2               2                                                  \n",
       "5⋅transpose (a₁₁)⋅transpose (a₂₂) + transpose(a₁₁)⋅transpose(a₁₂)⋅transpose(a₂\n",
       "\n",
       "______________________________________________________________________________\n",
       "                                   4                      2               2   \n",
       "₁)⋅transpose(a₂₂) + 0.125⋅transpose (a₁₂) - 0.25⋅transpose (a₁₂)⋅transpose (a₂\n",
       "\n",
       "______________________________________________________________________________\n",
       "                   2               2                       4                  \n",
       "₁) + 0.25⋅transpose (a₁₂)⋅transpose (a₂₂) + 0.125⋅transpose (a₂₁) + 0.25⋅trans\n",
       "\n",
       "___________________________________________________                           \n",
       "    2               2                       4                  2              \n",
       "pose (a₂₁)⋅transpose (a₂₂) + 0.125⋅transpose (a₂₂)  - transpose (a₁₁) - transp\n",
       "\n",
       "                                             \n",
       "   2                 2                 2     \n",
       "ose (a₁₂) - transpose (a₂₁) - transpose (a₂₂)"
      ]
     },
     "metadata": {},
     "output_type": "display_data"
    }
   ],
   "source": [
    "eigs[4]"
   ]
  },
  {
   "cell_type": "markdown",
   "metadata": {},
   "source": [
    "## Numerical exp\n"
   ]
  },
  {
   "cell_type": "code",
   "execution_count": 149,
   "metadata": {},
   "outputs": [],
   "source": [
    "num_sample = 1;\n",
    "d = 2;\n",
    "k = 100;\n",
    "alpha = 0.1;\n",
    "\n",
    "Id_k = identity_matrix(k);\n",
    "Id_kk = identity_matrix(k*k);\n",
    "K_k = commutation_matrix(k, k);\n",
    "P_BP_B = 2(Id_kk - K_k);\n",
    "doubN_k = (Id_kk + K_k);"
   ]
  },
  {
   "cell_type": "code",
   "execution_count": 150,
   "metadata": {},
   "outputs": [],
   "source": [
    "A = randn(k, k) / k\n",
    "AA = A' * A\n",
    "AA_AA = AA ⊕ AA;"
   ]
  },
  {
   "cell_type": "markdown",
   "metadata": {},
   "source": [
    "$\\lambda_{ij}(A \\oplus B) = \\lambda_{i}(A) + \\lambda_{j}(B)$"
   ]
  },
  {
   "cell_type": "code",
   "execution_count": 151,
   "metadata": {},
   "outputs": [
    {
     "data": {
      "text/plain": [
       "10-element Vector{Float64}:\n",
       " 3.856471307265825e-7\n",
       " 6.159012506972177e-6\n",
       " 1.3265722155160508e-5\n",
       " 2.298895043212909e-5\n",
       " 6.584207837474538e-5\n",
       " 7.652203608755285e-5\n",
       " 9.06872130844214e-5\n",
       " 0.00015478339454704307\n",
       " 0.00021138045256095857\n",
       " 0.0002390574311409042"
      ]
     },
     "metadata": {},
     "output_type": "display_data"
    }
   ],
   "source": [
    "eigvals(AA)[1:10]"
   ]
  },
  {
   "cell_type": "code",
   "execution_count": 152,
   "metadata": {},
   "outputs": [
    {
     "ename": "InterruptException",
     "evalue": "InterruptException:",
     "output_type": "error",
     "traceback": [
      "InterruptException:\n",
      "\n",
      "Stacktrace:\n",
      "  [1] Array\n",
      "    @ ./boot.jl:457 [inlined]\n",
      "  [2] Array\n",
      "    @ ./boot.jl:466 [inlined]\n",
      "  [3] similar\n",
      "    @ ./array.jl:378 [inlined]\n",
      "  [4] similar\n",
      "    @ ./abstractarray.jl:783 [inlined]\n",
      "  [5] getindex\n",
      "    @ ./array.jl:869 [inlined]\n",
      "  [6] syevr!(jobz::Char, range::Char, uplo::Char, A::Matrix{Float64}, vl::Float64, vu::Float64, il::Int64, iu::Int64, abstol::Float64)\n",
      "    @ LinearAlgebra.LAPACK /opt/julia-1.7.2/share/julia/stdlib/v1.7/LinearAlgebra/src/lapack.jl:5133\n",
      "  [7] eigvals!\n",
      "    @ /opt/julia-1.7.2/share/julia/stdlib/v1.7/LinearAlgebra/src/symmetriceigen.jl:63 [inlined]\n",
      "  [8] eigvals!(A::Matrix{Float64}; permute::Bool, scale::Bool, sortby::typeof(LinearAlgebra.eigsortby))\n",
      "    @ LinearAlgebra /opt/julia-1.7.2/share/julia/stdlib/v1.7/LinearAlgebra/src/eigen.jl:292\n",
      "  [9] eigvals!\n",
      "    @ /opt/julia-1.7.2/share/julia/stdlib/v1.7/LinearAlgebra/src/eigen.jl:292 [inlined]\n",
      " [10] #eigvals#88\n",
      "    @ /opt/julia-1.7.2/share/julia/stdlib/v1.7/LinearAlgebra/src/eigen.jl:326 [inlined]\n",
      " [11] eigvals(A::KroneckerSum{Float64, Matrix{Float64}, Matrix{Float64}})\n",
      "    @ LinearAlgebra /opt/julia-1.7.2/share/julia/stdlib/v1.7/LinearAlgebra/src/eigen.jl:326\n",
      " [12] top-level scope\n",
      "    @ ~/Workspace/Theory_ConvergenceMonDeq/TK_1.ipynb:1\n",
      " [13] eval\n",
      "    @ ./boot.jl:373 [inlined]\n",
      " [14] include_string(mapexpr::typeof(REPL.softscope), mod::Module, code::String, filename::String)\n",
      "    @ Base ./loading.jl:1196\n",
      " [15] #invokelatest#2\n",
      "    @ ./essentials.jl:716 [inlined]\n",
      " [16] invokelatest\n",
      "    @ ./essentials.jl:714 [inlined]\n",
      " [17] (::VSCodeServer.var\"#164#165\"{VSCodeServer.NotebookRunCellArguments, String})()\n",
      "    @ VSCodeServer ~/.vscode/extensions/julialang.language-julia-1.6.17/scripts/packages/VSCodeServer/src/serve_notebook.jl:19\n",
      " [18] withpath(f::VSCodeServer.var\"#164#165\"{VSCodeServer.NotebookRunCellArguments, String}, path::String)\n",
      "    @ VSCodeServer ~/.vscode/extensions/julialang.language-julia-1.6.17/scripts/packages/VSCodeServer/src/repl.jl:184\n",
      " [19] notebook_runcell_request(conn::VSCodeServer.JSONRPC.JSONRPCEndpoint{Base.PipeEndpoint, Base.PipeEndpoint}, params::VSCodeServer.NotebookRunCellArguments)\n",
      "    @ VSCodeServer ~/.vscode/extensions/julialang.language-julia-1.6.17/scripts/packages/VSCodeServer/src/serve_notebook.jl:13\n",
      " [20] dispatch_msg(x::VSCodeServer.JSONRPC.JSONRPCEndpoint{Base.PipeEndpoint, Base.PipeEndpoint}, dispatcher::VSCodeServer.JSONRPC.MsgDispatcher, msg::Dict{String, Any})\n",
      "    @ VSCodeServer.JSONRPC ~/.vscode/extensions/julialang.language-julia-1.6.17/scripts/packages/JSONRPC/src/typed.jl:67\n",
      " [21] serve_notebook(pipename::String, outputchannel_logger::Base.CoreLogging.SimpleLogger; crashreporting_pipename::String)\n",
      "    @ VSCodeServer ~/.vscode/extensions/julialang.language-julia-1.6.17/scripts/packages/VSCodeServer/src/serve_notebook.jl:136\n",
      " [22] top-level scope\n",
      "    @ ~/.vscode/extensions/julialang.language-julia-1.6.17/scripts/notebook/notebook.jl:32\n",
      " [23] include(mod::Module, _path::String)\n",
      "    @ Base ./Base.jl:418\n",
      " [24] exec_options(opts::Base.JLOptions)\n",
      "    @ Base ./client.jl:292\n",
      " [25] _start()\n",
      "    @ Base ./client.jl:495"
     ]
    }
   ],
   "source": [
    "eigvals(AA_AA, 1:10)"
   ]
  },
  {
   "cell_type": "code",
   "execution_count": 153,
   "metadata": {},
   "outputs": [],
   "source": [
    "eigvals(K_k*AA_AA)[1:10]"
   ]
  },
  {
   "cell_type": "code",
   "execution_count": 148,
   "metadata": {},
   "outputs": [
    {
     "data": {
      "text/plain": [
       "10-element Vector{Float64}:\n",
       " -0.27898738763126885\n",
       " -0.26931857091749767\n",
       " -0.2596497542037256\n",
       " -0.25660755630169846\n",
       " -0.24874288924129842\n",
       " -0.2469387395879273\n",
       " -0.23941066774651626\n",
       " -0.2390740725275273\n",
       " -0.23683922798152934\n",
       " -0.23422772497212882"
      ]
     },
     "metadata": {},
     "output_type": "display_data"
    }
   ],
   "source": [
    "eigvals(Matrix(Id_kk - K_k) - (Id_kk + K_k)*AA_AA)[1:10]"
   ]
  },
  {
   "cell_type": "code",
   "execution_count": 4,
   "metadata": {},
   "outputs": [],
   "source": [
    "eigmins = []\n",
    "for i =1:100\n",
    "    A = randn(k, k) / k\n",
    "    P_AP_A = doubN_k*kron(Id_k, A'A)*doubN_k\n",
    "    mon_para = (P_BP_B - P_AP_A)\n",
    "    push!(eigmins, eigvals(mon_para)[1])\n",
    "end"
   ]
  },
  {
   "cell_type": "code",
   "execution_count": 5,
   "metadata": {},
   "outputs": [
    {
     "data": {
      "image/png": "[encoded data removed]",
      "image/svg+xml": "<?xml version=\"1.0\" encoding=\"utf-8\"?>\n<svg xmlns=\"http://www.w3.org/2000/svg\" xmlns:xlink=\"http://www.w3.org/1999/xlink\" width=\"600\" height=\"400\" viewBox=\"0 0 2400 1600\">\n<defs>\n  <clipPath id=\"clip160\">\n    <rect x=\"0\" y=\"0\" width=\"2400\" height=\"1600\"/>\n  </clipPath>\n</defs>\n<path clip-path=\"url(#clip160)\" d=\"\nM0 1600 L2400 1600 L2400 0 L0 0  Z\n  \" fill=\"#ffffff\" fill-rule=\"evenodd\" fill-opacity=\"1\"/>\n<defs>\n  <clipPath id=\"clip161\">\n    <rect x=\"480\" y=\"0\" width=\"1681\" height=\"1600\"/>\n  </clipPath>\n</defs>\n<path clip-path=\"url(#clip160)\" d=\"\nM140.696 1486.45 L2352.76 1486.45 L2352.76 47.2441 L140.696 47.2441  Z\n  \" fill=\"#ffffff\" fill-rule=\"evenodd\" fill-opacity=\"1\"/>\n<defs>\n  <clipPath id=\"clip162\">\n    <rect x=\"140\" y=\"47\" width=\"2213\" height=\"1440\"/>\n  </clipPath>\n</defs>\n<polyline clip-path=\"url(#clip162)\" style=\"stroke:#000000; stroke-linecap:butt; stroke-linejoin:round; stroke-width:2; stroke-opacity:0.1; fill:none\" points=\"\n  441.338,1486.45 441.338,47.2441 \n  \"/>\n<polyline clip-path=\"url(#clip162)\" style=\"stroke:#000000; stroke-linecap:butt; stroke-linejoin:round; stroke-width:2; stroke-opacity:0.1; fill:none\" points=\"\n  799.288,1486.45 799.288,47.2441 \n  \"/>\n<polyline clip-path=\"url(#clip162)\" style=\"stroke:#000000; stroke-linecap:butt; stroke-linejoin:round; stroke-width:2; stroke-opacity:0.1; fill:none\" points=\"\n  1157.24,1486.45 1157.24,47.2441 \n  \"/>\n<polyline clip-path=\"url(#clip162)\" style=\"stroke:#000000; stroke-linecap:butt; stroke-linejoin:round; stroke-width:2; stroke-opacity:0.1; fill:none\" points=\"\n  1515.19,1486.45 1515.19,47.2441 \n  \"/>\n<polyline clip-path=\"url(#clip162)\" style=\"stroke:#000000; stroke-linecap:butt; stroke-linejoin:round; stroke-width:2; stroke-opacity:0.1; fill:none\" points=\"\n  1873.14,1486.45 1873.14,47.2441 \n  \"/>\n<polyline clip-path=\"url(#clip162)\" style=\"stroke:#000000; stroke-linecap:butt; stroke-linejoin:round; stroke-width:2; stroke-opacity:0.1; fill:none\" points=\"\n  2231.09,1486.45 2231.09,47.2441 \n  \"/>\n<polyline clip-path=\"url(#clip160)\" style=\"stroke:#000000; stroke-linecap:butt; stroke-linejoin:round; stroke-width:4; stroke-opacity:1; fill:none\" points=\"\n  140.696,1486.45 2352.76,1486.45 \n  \"/>\n<polyline clip-path=\"url(#clip160)\" style=\"stroke:#000000; stroke-linecap:butt; stroke-linejoin:round; stroke-width:4; stroke-opacity:1; fill:none\" points=\"\n  441.338,1486.45 441.338,1467.55 \n  \"/>\n<polyline clip-path=\"url(#clip160)\" style=\"stroke:#000000; stroke-linecap:butt; stroke-linejoin:round; stroke-width:4; stroke-opacity:1; fill:none\" points=\"\n  799.288,1486.45 799.288,1467.55 \n  \"/>\n<polyline clip-path=\"url(#clip160)\" style=\"stroke:#000000; stroke-linecap:butt; stroke-linejoin:round; stroke-width:4; stroke-opacity:1; fill:none\" points=\"\n  1157.24,1486.45 1157.24,1467.55 \n  \"/>\n<polyline clip-path=\"url(#clip160)\" style=\"stroke:#000000; stroke-linecap:butt; stroke-linejoin:round; stroke-width:4; stroke-opacity:1; fill:none\" points=\"\n  1515.19,1486.45 1515.19,1467.55 \n  \"/>\n<polyline clip-path=\"url(#clip160)\" style=\"stroke:#000000; stroke-linecap:butt; stroke-linejoin:round; stroke-width:4; stroke-opacity:1; fill:none\" points=\"\n  1873.14,1486.45 1873.14,1467.55 \n  \"/>\n<polyline clip-path=\"url(#clip160)\" style=\"stroke:#000000; stroke-linecap:butt; stroke-linejoin:round; stroke-width:4; stroke-opacity:1; fill:none\" points=\"\n  2231.09,1486.45 2231.09,1467.55 \n  \"/>\n<path clip-path=\"url(#clip160)\" d=\"M387.866 1532.02 L417.542 1532.02 L417.542 1535.95 L387.866 1535.95 L387.866 1532.02 Z\" fill=\"#000000\" fill-rule=\"evenodd\" fill-opacity=\"1\" /><path clip-path=\"url(#clip160)\" d=\"M428.444 1544.91 L436.083 1544.91 L436.083 1518.55 L427.773 1520.21 L427.773 1515.95 L436.037 1514.29 L440.713 1514.29 L440.713 1544.91 L448.352 1544.91 L448.352 1548.85 L428.444 1548.85 L428.444 1544.91 Z\" fill=\"#000000\" fill-rule=\"evenodd\" fill-opacity=\"1\" /><path clip-path=\"url(#clip160)\" d=\"M457.796 1542.97 L462.68 1542.97 L462.68 1548.85 L457.796 1548.85 L457.796 1542.97 Z\" fill=\"#000000\" fill-rule=\"evenodd\" fill-opacity=\"1\" /><path clip-path=\"url(#clip160)\" d=\"M482.865 1517.37 Q479.254 1517.37 477.426 1520.93 Q475.62 1524.47 475.62 1531.6 Q475.62 1538.71 477.426 1542.27 Q479.254 1545.82 482.865 1545.82 Q486.5 1545.82 488.305 1542.27 Q490.134 1538.71 490.134 1531.6 Q490.134 1524.47 488.305 1520.93 Q486.5 1517.37 482.865 1517.37 M482.865 1513.66 Q488.676 1513.66 491.731 1518.27 Q494.81 1522.85 494.81 1531.6 Q494.81 1540.33 491.731 1544.94 Q488.676 1549.52 482.865 1549.52 Q477.055 1549.52 473.977 1544.94 Q470.921 1540.33 470.921 1531.6 Q470.921 1522.85 473.977 1518.27 Q477.055 1513.66 482.865 1513.66 Z\" fill=\"#000000\" fill-rule=\"evenodd\" fill-opacity=\"1\" /><path clip-path=\"url(#clip160)\" d=\"M745.909 1532.02 L775.584 1532.02 L775.584 1535.95 L745.909 1535.95 L745.909 1532.02 Z\" fill=\"#000000\" fill-rule=\"evenodd\" fill-opacity=\"1\" /><path clip-path=\"url(#clip160)\" d=\"M795.677 1517.37 Q792.066 1517.37 790.237 1520.93 Q788.432 1524.47 788.432 1531.6 Q788.432 1538.71 790.237 1542.27 Q792.066 1545.82 795.677 1545.82 Q799.311 1545.82 801.117 1542.27 Q802.945 1538.71 802.945 1531.6 Q802.945 1524.47 801.117 1520.93 Q799.311 1517.37 795.677 1517.37 M795.677 1513.66 Q801.487 1513.66 804.543 1518.27 Q807.621 1522.85 807.621 1531.6 Q807.621 1540.33 804.543 1544.94 Q801.487 1549.52 795.677 1549.52 Q789.867 1549.52 786.788 1544.94 Q783.733 1540.33 783.733 1531.6 Q783.733 1522.85 786.788 1518.27 Q789.867 1513.66 795.677 1513.66 Z\" fill=\"#000000\" fill-rule=\"evenodd\" fill-opacity=\"1\" /><path clip-path=\"url(#clip160)\" d=\"M815.839 1542.97 L820.723 1542.97 L820.723 1548.85 L815.839 1548.85 L815.839 1542.97 Z\" fill=\"#000000\" fill-rule=\"evenodd\" fill-opacity=\"1\" /><path clip-path=\"url(#clip160)\" d=\"M831.047 1548.13 L831.047 1543.87 Q832.806 1544.7 834.612 1545.14 Q836.417 1545.58 838.154 1545.58 Q842.783 1545.58 845.214 1542.48 Q847.667 1539.36 848.015 1533.01 Q846.672 1535.01 844.612 1536.07 Q842.552 1537.13 840.052 1537.13 Q834.867 1537.13 831.834 1534.01 Q828.825 1530.86 828.825 1525.42 Q828.825 1520.1 831.973 1516.88 Q835.121 1513.66 840.353 1513.66 Q846.348 1513.66 849.496 1518.27 Q852.667 1522.85 852.667 1531.6 Q852.667 1539.77 848.779 1544.66 Q844.913 1549.52 838.362 1549.52 Q836.603 1549.52 834.797 1549.17 Q832.992 1548.82 831.047 1548.13 M840.353 1533.48 Q843.501 1533.48 845.329 1531.32 Q847.181 1529.17 847.181 1525.42 Q847.181 1521.7 845.329 1519.54 Q843.501 1517.37 840.353 1517.37 Q837.204 1517.37 835.353 1519.54 Q833.524 1521.7 833.524 1525.42 Q833.524 1529.17 835.353 1531.32 Q837.204 1533.48 840.353 1533.48 Z\" fill=\"#000000\" fill-rule=\"evenodd\" fill-opacity=\"1\" /><path clip-path=\"url(#clip160)\" d=\"M1103.81 1532.02 L1133.49 1532.02 L1133.49 1535.95 L1103.81 1535.95 L1103.81 1532.02 Z\" fill=\"#000000\" fill-rule=\"evenodd\" fill-opacity=\"1\" /><path clip-path=\"url(#clip160)\" d=\"M1153.58 1517.37 Q1149.97 1517.37 1148.14 1520.93 Q1146.34 1524.47 1146.34 1531.6 Q1146.34 1538.71 1148.14 1542.27 Q1149.97 1545.82 1153.58 1545.82 Q1157.22 1545.82 1159.02 1542.27 Q1160.85 1538.71 1160.85 1531.6 Q1160.85 1524.47 1159.02 1520.93 Q1157.22 1517.37 1153.58 1517.37 M1153.58 1513.66 Q1159.39 1513.66 1162.45 1518.27 Q1165.53 1522.85 1165.53 1531.6 Q1165.53 1540.33 1162.45 1544.94 Q1159.39 1549.52 1153.58 1549.52 Q1147.77 1549.52 1144.69 1544.94 Q1141.64 1540.33 1141.64 1531.6 Q1141.64 1522.85 1144.69 1518.27 Q1147.77 1513.66 1153.58 1513.66 Z\" fill=\"#000000\" fill-rule=\"evenodd\" fill-opacity=\"1\" /><path clip-path=\"url(#clip160)\" d=\"M1173.74 1542.97 L1178.63 1542.97 L1178.63 1548.85 L1173.74 1548.85 L1173.74 1542.97 Z\" fill=\"#000000\" fill-rule=\"evenodd\" fill-opacity=\"1\" /><path clip-path=\"url(#clip160)\" d=\"M1198.81 1532.44 Q1195.48 1532.44 1193.56 1534.22 Q1191.66 1536 1191.66 1539.13 Q1191.66 1542.25 1193.56 1544.03 Q1195.48 1545.82 1198.81 1545.82 Q1202.15 1545.82 1204.07 1544.03 Q1205.99 1542.23 1205.99 1539.13 Q1205.99 1536 1204.07 1534.22 Q1202.17 1532.44 1198.81 1532.44 M1194.14 1530.45 Q1191.13 1529.7 1189.44 1527.64 Q1187.77 1525.58 1187.77 1522.62 Q1187.77 1518.48 1190.71 1516.07 Q1193.67 1513.66 1198.81 1513.66 Q1203.97 1513.66 1206.91 1516.07 Q1209.85 1518.48 1209.85 1522.62 Q1209.85 1525.58 1208.16 1527.64 Q1206.5 1529.7 1203.51 1530.45 Q1206.89 1531.23 1208.77 1533.52 Q1210.66 1535.82 1210.66 1539.13 Q1210.66 1544.15 1207.59 1546.83 Q1204.53 1549.52 1198.81 1549.52 Q1193.09 1549.52 1190.02 1546.83 Q1186.96 1544.15 1186.96 1539.13 Q1186.96 1535.82 1188.86 1533.52 Q1190.76 1531.23 1194.14 1530.45 M1192.42 1523.06 Q1192.42 1525.75 1194.09 1527.25 Q1195.78 1528.76 1198.81 1528.76 Q1201.82 1528.76 1203.51 1527.25 Q1205.22 1525.75 1205.22 1523.06 Q1205.22 1520.38 1203.51 1518.87 Q1201.82 1517.37 1198.81 1517.37 Q1195.78 1517.37 1194.09 1518.87 Q1192.42 1520.38 1192.42 1523.06 Z\" fill=\"#000000\" fill-rule=\"evenodd\" fill-opacity=\"1\" /><path clip-path=\"url(#clip160)\" d=\"M1462.17 1532.02 L1491.84 1532.02 L1491.84 1535.95 L1462.17 1535.95 L1462.17 1532.02 Z\" fill=\"#000000\" fill-rule=\"evenodd\" fill-opacity=\"1\" /><path clip-path=\"url(#clip160)\" d=\"M1511.94 1517.37 Q1508.32 1517.37 1506.5 1520.93 Q1504.69 1524.47 1504.69 1531.6 Q1504.69 1538.71 1506.5 1542.27 Q1508.32 1545.82 1511.94 1545.82 Q1515.57 1545.82 1517.38 1542.27 Q1519.2 1538.71 1519.2 1531.6 Q1519.2 1524.47 1517.38 1520.93 Q1515.57 1517.37 1511.94 1517.37 M1511.94 1513.66 Q1517.75 1513.66 1520.8 1518.27 Q1523.88 1522.85 1523.88 1531.6 Q1523.88 1540.33 1520.8 1544.94 Q1517.75 1549.52 1511.94 1549.52 Q1506.13 1549.52 1503.05 1544.94 Q1499.99 1540.33 1499.99 1531.6 Q1499.99 1522.85 1503.05 1518.27 Q1506.13 1513.66 1511.94 1513.66 Z\" fill=\"#000000\" fill-rule=\"evenodd\" fill-opacity=\"1\" /><path clip-path=\"url(#clip160)\" d=\"M1532.1 1542.97 L1536.98 1542.97 L1536.98 1548.85 L1532.1 1548.85 L1532.1 1542.97 Z\" fill=\"#000000\" fill-rule=\"evenodd\" fill-opacity=\"1\" /><path clip-path=\"url(#clip160)\" d=\"M1545.99 1514.29 L1568.21 1514.29 L1568.21 1516.28 L1555.66 1548.85 L1550.78 1548.85 L1562.58 1518.22 L1545.99 1518.22 L1545.99 1514.29 Z\" fill=\"#000000\" fill-rule=\"evenodd\" fill-opacity=\"1\" /><path clip-path=\"url(#clip160)\" d=\"M1819.59 1532.02 L1849.26 1532.02 L1849.26 1535.95 L1819.59 1535.95 L1819.59 1532.02 Z\" fill=\"#000000\" fill-rule=\"evenodd\" fill-opacity=\"1\" /><path clip-path=\"url(#clip160)\" d=\"M1869.35 1517.37 Q1865.74 1517.37 1863.91 1520.93 Q1862.11 1524.47 1862.11 1531.6 Q1862.11 1538.71 1863.91 1542.27 Q1865.74 1545.82 1869.35 1545.82 Q1872.99 1545.82 1874.79 1542.27 Q1876.62 1538.71 1876.62 1531.6 Q1876.62 1524.47 1874.79 1520.93 Q1872.99 1517.37 1869.35 1517.37 M1869.35 1513.66 Q1875.16 1513.66 1878.22 1518.27 Q1881.3 1522.85 1881.3 1531.6 Q1881.3 1540.33 1878.22 1544.94 Q1875.16 1549.52 1869.35 1549.52 Q1863.54 1549.52 1860.46 1544.94 Q1857.41 1540.33 1857.41 1531.6 Q1857.41 1522.85 1860.46 1518.27 Q1863.54 1513.66 1869.35 1513.66 Z\" fill=\"#000000\" fill-rule=\"evenodd\" fill-opacity=\"1\" /><path clip-path=\"url(#clip160)\" d=\"M1889.52 1542.97 L1894.4 1542.97 L1894.4 1548.85 L1889.52 1548.85 L1889.52 1542.97 Z\" fill=\"#000000\" fill-rule=\"evenodd\" fill-opacity=\"1\" /><path clip-path=\"url(#clip160)\" d=\"M1915.16 1529.7 Q1912.02 1529.7 1910.16 1531.86 Q1908.34 1534.01 1908.34 1537.76 Q1908.34 1541.49 1910.16 1543.66 Q1912.02 1545.82 1915.16 1545.82 Q1918.31 1545.82 1920.14 1543.66 Q1921.99 1541.49 1921.99 1537.76 Q1921.99 1534.01 1920.14 1531.86 Q1918.31 1529.7 1915.16 1529.7 M1924.45 1515.05 L1924.45 1519.31 Q1922.69 1518.48 1920.88 1518.04 Q1919.1 1517.6 1917.34 1517.6 Q1912.71 1517.6 1910.26 1520.72 Q1907.83 1523.85 1907.48 1530.17 Q1908.84 1528.15 1910.9 1527.09 Q1912.96 1526 1915.44 1526 Q1920.65 1526 1923.66 1529.17 Q1926.69 1532.32 1926.69 1537.76 Q1926.69 1543.08 1923.54 1546.3 Q1920.4 1549.52 1915.16 1549.52 Q1909.17 1549.52 1906 1544.94 Q1902.83 1540.33 1902.83 1531.6 Q1902.83 1523.41 1906.71 1518.55 Q1910.6 1513.66 1917.15 1513.66 Q1918.91 1513.66 1920.7 1514.01 Q1922.5 1514.36 1924.45 1515.05 Z\" fill=\"#000000\" fill-rule=\"evenodd\" fill-opacity=\"1\" /><path clip-path=\"url(#clip160)\" d=\"M2178.11 1532.02 L2207.79 1532.02 L2207.79 1535.95 L2178.11 1535.95 L2178.11 1532.02 Z\" fill=\"#000000\" fill-rule=\"evenodd\" fill-opacity=\"1\" /><path clip-path=\"url(#clip160)\" d=\"M2227.88 1517.37 Q2224.27 1517.37 2222.44 1520.93 Q2220.64 1524.47 2220.64 1531.6 Q2220.64 1538.71 2222.44 1542.27 Q2224.27 1545.82 2227.88 1545.82 Q2231.52 1545.82 2233.32 1542.27 Q2235.15 1538.71 2235.15 1531.6 Q2235.15 1524.47 2233.32 1520.93 Q2231.52 1517.37 2227.88 1517.37 M2227.88 1513.66 Q2233.69 1513.66 2236.75 1518.27 Q2239.83 1522.85 2239.83 1531.6 Q2239.83 1540.33 2236.75 1544.94 Q2233.69 1549.52 2227.88 1549.52 Q2222.07 1549.52 2218.99 1544.94 Q2215.94 1540.33 2215.94 1531.6 Q2215.94 1522.85 2218.99 1518.27 Q2222.07 1513.66 2227.88 1513.66 Z\" fill=\"#000000\" fill-rule=\"evenodd\" fill-opacity=\"1\" /><path clip-path=\"url(#clip160)\" d=\"M2248.04 1542.97 L2252.93 1542.97 L2252.93 1548.85 L2248.04 1548.85 L2248.04 1542.97 Z\" fill=\"#000000\" fill-rule=\"evenodd\" fill-opacity=\"1\" /><path clip-path=\"url(#clip160)\" d=\"M2263.16 1514.29 L2281.52 1514.29 L2281.52 1518.22 L2267.44 1518.22 L2267.44 1526.7 Q2268.46 1526.35 2269.48 1526.19 Q2270.5 1526 2271.52 1526 Q2277.3 1526 2280.68 1529.17 Q2284.06 1532.34 2284.06 1537.76 Q2284.06 1543.34 2280.59 1546.44 Q2277.12 1549.52 2270.8 1549.52 Q2268.62 1549.52 2266.35 1549.15 Q2264.11 1548.78 2261.7 1548.04 L2261.7 1543.34 Q2263.79 1544.47 2266.01 1545.03 Q2268.23 1545.58 2270.71 1545.58 Q2274.71 1545.58 2277.05 1543.48 Q2279.39 1541.37 2279.39 1537.76 Q2279.39 1534.15 2277.05 1532.04 Q2274.71 1529.94 2270.71 1529.94 Q2268.83 1529.94 2266.96 1530.35 Q2265.1 1530.77 2263.16 1531.65 L2263.16 1514.29 Z\" fill=\"#000000\" fill-rule=\"evenodd\" fill-opacity=\"1\" /><polyline clip-path=\"url(#clip162)\" style=\"stroke:#000000; stroke-linecap:butt; stroke-linejoin:round; stroke-width:2; stroke-opacity:0.1; fill:none\" points=\"\n  140.696,1445.72 2352.76,1445.72 \n  \"/>\n<polyline clip-path=\"url(#clip162)\" style=\"stroke:#000000; stroke-linecap:butt; stroke-linejoin:round; stroke-width:2; stroke-opacity:0.1; fill:none\" points=\"\n  140.696,1184.61 2352.76,1184.61 \n  \"/>\n<polyline clip-path=\"url(#clip162)\" style=\"stroke:#000000; stroke-linecap:butt; stroke-linejoin:round; stroke-width:2; stroke-opacity:0.1; fill:none\" points=\"\n  140.696,923.508 2352.76,923.508 \n  \"/>\n<polyline clip-path=\"url(#clip162)\" style=\"stroke:#000000; stroke-linecap:butt; stroke-linejoin:round; stroke-width:2; stroke-opacity:0.1; fill:none\" points=\"\n  140.696,662.404 2352.76,662.404 \n  \"/>\n<polyline clip-path=\"url(#clip162)\" style=\"stroke:#000000; stroke-linecap:butt; stroke-linejoin:round; stroke-width:2; stroke-opacity:0.1; fill:none\" points=\"\n  140.696,401.301 2352.76,401.301 \n  \"/>\n<polyline clip-path=\"url(#clip162)\" style=\"stroke:#000000; stroke-linecap:butt; stroke-linejoin:round; stroke-width:2; stroke-opacity:0.1; fill:none\" points=\"\n  140.696,140.197 2352.76,140.197 \n  \"/>\n<polyline clip-path=\"url(#clip160)\" style=\"stroke:#000000; stroke-linecap:butt; stroke-linejoin:round; stroke-width:4; stroke-opacity:1; fill:none\" points=\"\n  140.696,1486.45 140.696,47.2441 \n  \"/>\n<polyline clip-path=\"url(#clip160)\" style=\"stroke:#000000; stroke-linecap:butt; stroke-linejoin:round; stroke-width:4; stroke-opacity:1; fill:none\" points=\"\n  140.696,1445.72 159.593,1445.72 \n  \"/>\n<polyline clip-path=\"url(#clip160)\" style=\"stroke:#000000; stroke-linecap:butt; stroke-linejoin:round; stroke-width:4; stroke-opacity:1; fill:none\" points=\"\n  140.696,1184.61 159.593,1184.61 \n  \"/>\n<polyline clip-path=\"url(#clip160)\" style=\"stroke:#000000; stroke-linecap:butt; stroke-linejoin:round; stroke-width:4; stroke-opacity:1; fill:none\" points=\"\n  140.696,923.508 159.593,923.508 \n  \"/>\n<polyline clip-path=\"url(#clip160)\" style=\"stroke:#000000; stroke-linecap:butt; stroke-linejoin:round; stroke-width:4; stroke-opacity:1; fill:none\" points=\"\n  140.696,662.404 159.593,662.404 \n  \"/>\n<polyline clip-path=\"url(#clip160)\" style=\"stroke:#000000; stroke-linecap:butt; stroke-linejoin:round; stroke-width:4; stroke-opacity:1; fill:none\" points=\"\n  140.696,401.301 159.593,401.301 \n  \"/>\n<polyline clip-path=\"url(#clip160)\" style=\"stroke:#000000; stroke-linecap:butt; stroke-linejoin:round; stroke-width:4; stroke-opacity:1; fill:none\" points=\"\n  140.696,140.197 159.593,140.197 \n  \"/>\n<path clip-path=\"url(#clip160)\" d=\"M92.7512 1431.51 Q89.1401 1431.51 87.3114 1435.08 Q85.5058 1438.62 85.5058 1445.75 Q85.5058 1452.86 87.3114 1456.42 Q89.1401 1459.96 92.7512 1459.96 Q96.3854 1459.96 98.1909 1456.42 Q100.02 1452.86 100.02 1445.75 Q100.02 1438.62 98.1909 1435.08 Q96.3854 1431.51 92.7512 1431.51 M92.7512 1427.81 Q98.5613 1427.81 101.617 1432.42 Q104.696 1437 104.696 1445.75 Q104.696 1454.48 101.617 1459.08 Q98.5613 1463.67 92.7512 1463.67 Q86.941 1463.67 83.8623 1459.08 Q80.8068 1454.48 80.8068 1445.75 Q80.8068 1437 83.8623 1432.42 Q86.941 1427.81 92.7512 1427.81 Z\" fill=\"#000000\" fill-rule=\"evenodd\" fill-opacity=\"1\" /><path clip-path=\"url(#clip160)\" d=\"M83.7929 1167.33 L102.149 1167.33 L102.149 1171.27 L88.0753 1171.27 L88.0753 1179.74 Q89.0938 1179.39 90.1123 1179.23 Q91.1308 1179.04 92.1493 1179.04 Q97.9363 1179.04 101.316 1182.22 Q104.696 1185.39 104.696 1190.8 Q104.696 1196.38 101.223 1199.48 Q97.7511 1202.56 91.4317 1202.56 Q89.2558 1202.56 86.9873 1202.19 Q84.7419 1201.82 82.3346 1201.08 L82.3346 1196.38 Q84.4179 1197.52 86.6401 1198.07 Q88.8623 1198.63 91.3391 1198.63 Q95.3437 1198.63 97.6817 1196.52 Q100.02 1194.42 100.02 1190.8 Q100.02 1187.19 97.6817 1185.09 Q95.3437 1182.98 91.3391 1182.98 Q89.4641 1182.98 87.5892 1183.4 Q85.7373 1183.81 83.7929 1184.69 L83.7929 1167.33 Z\" fill=\"#000000\" fill-rule=\"evenodd\" fill-opacity=\"1\" /><path clip-path=\"url(#clip160)\" d=\"M53.3995 936.853 L61.0384 936.853 L61.0384 910.487 L52.7282 912.154 L52.7282 907.895 L60.9921 906.228 L65.668 906.228 L65.668 936.853 L73.3068 936.853 L73.3068 940.788 L53.3995 940.788 L53.3995 936.853 Z\" fill=\"#000000\" fill-rule=\"evenodd\" fill-opacity=\"1\" /><path clip-path=\"url(#clip160)\" d=\"M92.7512 909.307 Q89.1401 909.307 87.3114 912.872 Q85.5058 916.413 85.5058 923.543 Q85.5058 930.649 87.3114 934.214 Q89.1401 937.756 92.7512 937.756 Q96.3854 937.756 98.1909 934.214 Q100.02 930.649 100.02 923.543 Q100.02 916.413 98.1909 912.872 Q96.3854 909.307 92.7512 909.307 M92.7512 905.603 Q98.5613 905.603 101.617 910.21 Q104.696 914.793 104.696 923.543 Q104.696 932.27 101.617 936.876 Q98.5613 941.46 92.7512 941.46 Q86.941 941.46 83.8623 936.876 Q80.8068 932.27 80.8068 923.543 Q80.8068 914.793 83.8623 910.21 Q86.941 905.603 92.7512 905.603 Z\" fill=\"#000000\" fill-rule=\"evenodd\" fill-opacity=\"1\" /><path clip-path=\"url(#clip160)\" d=\"M54.3949 675.749 L62.0337 675.749 L62.0337 649.384 L53.7236 651.05 L53.7236 646.791 L61.9874 645.124 L66.6633 645.124 L66.6633 675.749 L74.3022 675.749 L74.3022 679.684 L54.3949 679.684 L54.3949 675.749 Z\" fill=\"#000000\" fill-rule=\"evenodd\" fill-opacity=\"1\" /><path clip-path=\"url(#clip160)\" d=\"M83.7929 645.124 L102.149 645.124 L102.149 649.06 L88.0753 649.06 L88.0753 657.532 Q89.0938 657.185 90.1123 657.023 Q91.1308 656.837 92.1493 656.837 Q97.9363 656.837 101.316 660.009 Q104.696 663.18 104.696 668.597 Q104.696 674.175 101.223 677.277 Q97.7511 680.356 91.4317 680.356 Q89.2558 680.356 86.9873 679.985 Q84.7419 679.615 82.3346 678.874 L82.3346 674.175 Q84.4179 675.31 86.6401 675.865 Q88.8623 676.421 91.3391 676.421 Q95.3437 676.421 97.6817 674.314 Q100.02 672.208 100.02 668.597 Q100.02 664.985 97.6817 662.879 Q95.3437 660.773 91.3391 660.773 Q89.4641 660.773 87.5892 661.189 Q85.7373 661.606 83.7929 662.486 L83.7929 645.124 Z\" fill=\"#000000\" fill-rule=\"evenodd\" fill-opacity=\"1\" /><path clip-path=\"url(#clip160)\" d=\"M56.6171 414.646 L72.9365 414.646 L72.9365 418.581 L50.9921 418.581 L50.9921 414.646 Q53.6541 411.891 58.2375 407.261 Q62.8439 402.609 64.0245 401.266 Q66.2698 398.743 67.1494 397.007 Q68.0522 395.248 68.0522 393.558 Q68.0522 390.803 66.1078 389.067 Q64.1865 387.331 61.0847 387.331 Q58.8856 387.331 56.4319 388.095 Q54.0014 388.859 51.2236 390.41 L51.2236 385.687 Q54.0477 384.553 56.5014 383.974 Q58.955 383.396 60.9921 383.396 Q66.3624 383.396 69.5568 386.081 Q72.7513 388.766 72.7513 393.257 Q72.7513 395.386 71.9411 397.308 Q71.1541 399.206 69.0476 401.798 Q68.4689 402.47 65.367 405.687 Q62.2652 408.882 56.6171 414.646 Z\" fill=\"#000000\" fill-rule=\"evenodd\" fill-opacity=\"1\" /><path clip-path=\"url(#clip160)\" d=\"M92.7512 387.099 Q89.1401 387.099 87.3114 390.664 Q85.5058 394.206 85.5058 401.335 Q85.5058 408.442 87.3114 412.007 Q89.1401 415.548 92.7512 415.548 Q96.3854 415.548 98.1909 412.007 Q100.02 408.442 100.02 401.335 Q100.02 394.206 98.1909 390.664 Q96.3854 387.099 92.7512 387.099 M92.7512 383.396 Q98.5613 383.396 101.617 388.002 Q104.696 392.586 104.696 401.335 Q104.696 410.062 101.617 414.669 Q98.5613 419.252 92.7512 419.252 Q86.941 419.252 83.8623 414.669 Q80.8068 410.062 80.8068 401.335 Q80.8068 392.586 83.8623 388.002 Q86.941 383.396 92.7512 383.396 Z\" fill=\"#000000\" fill-rule=\"evenodd\" fill-opacity=\"1\" /><path clip-path=\"url(#clip160)\" d=\"M57.6125 153.542 L73.9318 153.542 L73.9318 157.477 L51.9875 157.477 L51.9875 153.542 Q54.6495 150.787 59.2328 146.158 Q63.8393 141.505 65.0198 140.162 Q67.2652 137.639 68.1448 135.903 Q69.0476 134.144 69.0476 132.454 Q69.0476 129.699 67.1032 127.963 Q65.1819 126.227 62.08 126.227 Q59.881 126.227 57.4273 126.991 Q54.9967 127.755 52.219 129.306 L52.219 124.584 Q55.043 123.449 57.4967 122.871 Q59.9504 122.292 61.9874 122.292 Q67.3578 122.292 70.5522 124.977 Q73.7466 127.662 73.7466 132.153 Q73.7466 134.283 72.9365 136.204 Q72.1494 138.102 70.0429 140.695 Q69.4642 141.366 66.3624 144.584 Q63.2606 147.778 57.6125 153.542 Z\" fill=\"#000000\" fill-rule=\"evenodd\" fill-opacity=\"1\" /><path clip-path=\"url(#clip160)\" d=\"M83.7929 122.917 L102.149 122.917 L102.149 126.852 L88.0753 126.852 L88.0753 135.324 Q89.0938 134.977 90.1123 134.815 Q91.1308 134.63 92.1493 134.63 Q97.9363 134.63 101.316 137.801 Q104.696 140.972 104.696 146.389 Q104.696 151.968 101.223 155.07 Q97.7511 158.148 91.4317 158.148 Q89.2558 158.148 86.9873 157.778 Q84.7419 157.408 82.3346 156.667 L82.3346 151.968 Q84.4179 153.102 86.6401 153.658 Q88.8623 154.213 91.3391 154.213 Q95.3437 154.213 97.6817 152.107 Q100.02 150 100.02 146.389 Q100.02 142.778 97.6817 140.672 Q95.3437 138.565 91.3391 138.565 Q89.4641 138.565 87.5892 138.982 Q85.7373 139.398 83.7929 140.278 L83.7929 122.917 Z\" fill=\"#000000\" fill-rule=\"evenodd\" fill-opacity=\"1\" /><path clip-path=\"url(#clip162)\" d=\"\nM262.363 1393.49 L262.363 1445.72 L441.338 1445.72 L441.338 1393.49 L262.363 1393.49 L262.363 1393.49  Z\n  \" fill=\"#009af9\" fill-rule=\"evenodd\" fill-opacity=\"1\"/>\n<polyline clip-path=\"url(#clip162)\" style=\"stroke:#000000; stroke-linecap:butt; stroke-linejoin:round; stroke-width:4; stroke-opacity:1; fill:none\" points=\"\n  262.363,1393.49 262.363,1445.72 441.338,1445.72 441.338,1393.49 262.363,1393.49 \n  \"/>\n<path clip-path=\"url(#clip162)\" d=\"\nM441.338 1393.49 L441.338 1445.72 L620.313 1445.72 L620.313 1393.49 L441.338 1393.49 L441.338 1393.49  Z\n  \" fill=\"#009af9\" fill-rule=\"evenodd\" fill-opacity=\"1\"/>\n<polyline clip-path=\"url(#clip162)\" style=\"stroke:#000000; stroke-linecap:butt; stroke-linejoin:round; stroke-width:4; stroke-opacity:1; fill:none\" points=\"\n  441.338,1393.49 441.338,1445.72 620.313,1445.72 620.313,1393.49 441.338,1393.49 \n  \"/>\n<path clip-path=\"url(#clip162)\" d=\"\nM620.313 1445.72 L620.313 1445.72 L799.288 1445.72 L799.288 1445.72 L620.313 1445.72 L620.313 1445.72  Z\n  \" fill=\"#009af9\" fill-rule=\"evenodd\" fill-opacity=\"1\"/>\n<polyline clip-path=\"url(#clip162)\" style=\"stroke:#000000; stroke-linecap:butt; stroke-linejoin:round; stroke-width:4; stroke-opacity:1; fill:none\" points=\"\n  620.313,1445.72 620.313,1445.72 799.288,1445.72 620.313,1445.72 \n  \"/>\n<path clip-path=\"url(#clip162)\" d=\"\nM799.288 1080.17 L799.288 1445.72 L978.263 1445.72 L978.263 1080.17 L799.288 1080.17 L799.288 1080.17  Z\n  \" fill=\"#009af9\" fill-rule=\"evenodd\" fill-opacity=\"1\"/>\n<polyline clip-path=\"url(#clip162)\" style=\"stroke:#000000; stroke-linecap:butt; stroke-linejoin:round; stroke-width:4; stroke-opacity:1; fill:none\" points=\"\n  799.288,1080.17 799.288,1445.72 978.263,1445.72 978.263,1080.17 799.288,1080.17 \n  \"/>\n<path clip-path=\"url(#clip162)\" d=\"\nM978.263 1132.39 L978.263 1445.72 L1157.24 1445.72 L1157.24 1132.39 L978.263 1132.39 L978.263 1132.39  Z\n  \" fill=\"#009af9\" fill-rule=\"evenodd\" fill-opacity=\"1\"/>\n<polyline clip-path=\"url(#clip162)\" style=\"stroke:#000000; stroke-linecap:butt; stroke-linejoin:round; stroke-width:4; stroke-opacity:1; fill:none\" points=\"\n  978.263,1132.39 978.263,1445.72 1157.24,1445.72 1157.24,1132.39 978.263,1132.39 \n  \"/>\n<path clip-path=\"url(#clip162)\" d=\"\nM1157.24 610.184 L1157.24 1445.72 L1336.21 1445.72 L1336.21 610.184 L1157.24 610.184 L1157.24 610.184  Z\n  \" fill=\"#009af9\" fill-rule=\"evenodd\" fill-opacity=\"1\"/>\n<polyline clip-path=\"url(#clip162)\" style=\"stroke:#000000; stroke-linecap:butt; stroke-linejoin:round; stroke-width:4; stroke-opacity:1; fill:none\" points=\"\n  1157.24,610.184 1157.24,1445.72 1336.21,1445.72 1336.21,610.184 1157.24,610.184 \n  \"/>\n<path clip-path=\"url(#clip162)\" d=\"\nM1336.21 819.067 L1336.21 1445.72 L1515.19 1445.72 L1515.19 819.067 L1336.21 819.067 L1336.21 819.067  Z\n  \" fill=\"#009af9\" fill-rule=\"evenodd\" fill-opacity=\"1\"/>\n<polyline clip-path=\"url(#clip162)\" style=\"stroke:#000000; stroke-linecap:butt; stroke-linejoin:round; stroke-width:4; stroke-opacity:1; fill:none\" points=\"\n  1336.21,819.067 1336.21,1445.72 1515.19,1445.72 1515.19,819.067 1336.21,819.067 \n  \"/>\n<path clip-path=\"url(#clip162)\" d=\"\nM1515.19 87.9763 L1515.19 1445.72 L1694.16 1445.72 L1694.16 87.9763 L1515.19 87.9763 L1515.19 87.9763  Z\n  \" fill=\"#009af9\" fill-rule=\"evenodd\" fill-opacity=\"1\"/>\n<polyline clip-path=\"url(#clip162)\" style=\"stroke:#000000; stroke-linecap:butt; stroke-linejoin:round; stroke-width:4; stroke-opacity:1; fill:none\" points=\"\n  1515.19,87.9763 1515.19,1445.72 1694.16,1445.72 1694.16,87.9763 1515.19,87.9763 \n  \"/>\n<path clip-path=\"url(#clip162)\" d=\"\nM1694.16 244.639 L1694.16 1445.72 L1873.14 1445.72 L1873.14 244.639 L1694.16 244.639 L1694.16 244.639  Z\n  \" fill=\"#009af9\" fill-rule=\"evenodd\" fill-opacity=\"1\"/>\n<polyline clip-path=\"url(#clip162)\" style=\"stroke:#000000; stroke-linecap:butt; stroke-linejoin:round; stroke-width:4; stroke-opacity:1; fill:none\" points=\"\n  1694.16,244.639 1694.16,1445.72 1873.14,1445.72 1873.14,244.639 1694.16,244.639 \n  \"/>\n<path clip-path=\"url(#clip162)\" d=\"\nM1873.14 1132.39 L1873.14 1445.72 L2052.11 1445.72 L2052.11 1132.39 L1873.14 1132.39 L1873.14 1132.39  Z\n  \" fill=\"#009af9\" fill-rule=\"evenodd\" fill-opacity=\"1\"/>\n<polyline clip-path=\"url(#clip162)\" style=\"stroke:#000000; stroke-linecap:butt; stroke-linejoin:round; stroke-width:4; stroke-opacity:1; fill:none\" points=\"\n  1873.14,1132.39 1873.14,1445.72 2052.11,1445.72 2052.11,1132.39 1873.14,1132.39 \n  \"/>\n<path clip-path=\"url(#clip162)\" d=\"\nM2052.11 1341.27 L2052.11 1445.72 L2231.09 1445.72 L2231.09 1341.27 L2052.11 1341.27 L2052.11 1341.27  Z\n  \" fill=\"#009af9\" fill-rule=\"evenodd\" fill-opacity=\"1\"/>\n<polyline clip-path=\"url(#clip162)\" style=\"stroke:#000000; stroke-linecap:butt; stroke-linejoin:round; stroke-width:4; stroke-opacity:1; fill:none\" points=\"\n  2052.11,1341.27 2052.11,1445.72 2231.09,1445.72 2231.09,1341.27 2052.11,1341.27 \n  \"/>\n<circle clip-path=\"url(#clip162)\" style=\"fill:#009af9; stroke:none; fill-opacity:0\" cx=\"351.85\" cy=\"1393.49\" r=\"2\"/>\n<circle clip-path=\"url(#clip162)\" style=\"fill:#009af9; stroke:none; fill-opacity:0\" cx=\"530.825\" cy=\"1393.49\" r=\"2\"/>\n<circle clip-path=\"url(#clip162)\" style=\"fill:#009af9; stroke:none; fill-opacity:0\" cx=\"709.8\" cy=\"1445.72\" r=\"2\"/>\n<circle clip-path=\"url(#clip162)\" style=\"fill:#009af9; stroke:none; fill-opacity:0\" cx=\"888.776\" cy=\"1080.17\" r=\"2\"/>\n<circle clip-path=\"url(#clip162)\" style=\"fill:#009af9; stroke:none; fill-opacity:0\" cx=\"1067.75\" cy=\"1132.39\" r=\"2\"/>\n<circle clip-path=\"url(#clip162)\" style=\"fill:#009af9; stroke:none; fill-opacity:0\" cx=\"1246.73\" cy=\"610.184\" r=\"2\"/>\n<circle clip-path=\"url(#clip162)\" style=\"fill:#009af9; stroke:none; fill-opacity:0\" cx=\"1425.7\" cy=\"819.067\" r=\"2\"/>\n<circle clip-path=\"url(#clip162)\" style=\"fill:#009af9; stroke:none; fill-opacity:0\" cx=\"1604.68\" cy=\"87.9763\" r=\"2\"/>\n<circle clip-path=\"url(#clip162)\" style=\"fill:#009af9; stroke:none; fill-opacity:0\" cx=\"1783.65\" cy=\"244.639\" r=\"2\"/>\n<circle clip-path=\"url(#clip162)\" style=\"fill:#009af9; stroke:none; fill-opacity:0\" cx=\"1962.63\" cy=\"1132.39\" r=\"2\"/>\n<circle clip-path=\"url(#clip162)\" style=\"fill:#009af9; stroke:none; fill-opacity:0\" cx=\"2141.6\" cy=\"1341.27\" r=\"2\"/>\n<path clip-path=\"url(#clip160)\" d=\"\nM1980.81 198.898 L2279.02 198.898 L2279.02 95.2176 L1980.81 95.2176  Z\n  \" fill=\"#ffffff\" fill-rule=\"evenodd\" fill-opacity=\"1\"/>\n<polyline clip-path=\"url(#clip160)\" style=\"stroke:#000000; stroke-linecap:butt; stroke-linejoin:round; stroke-width:4; stroke-opacity:1; fill:none\" points=\"\n  1980.81,198.898 2279.02,198.898 2279.02,95.2176 1980.81,95.2176 1980.81,198.898 \n  \"/>\n<path clip-path=\"url(#clip160)\" d=\"\nM2005.38 167.794 L2152.85 167.794 L2152.85 126.322 L2005.38 126.322 L2005.38 167.794  Z\n  \" fill=\"#009af9\" fill-rule=\"evenodd\" fill-opacity=\"1\"/>\n<polyline clip-path=\"url(#clip160)\" style=\"stroke:#000000; stroke-linecap:butt; stroke-linejoin:round; stroke-width:4; stroke-opacity:1; fill:none\" points=\"\n  2005.38,167.794 2152.85,167.794 2152.85,126.322 2005.38,126.322 2005.38,167.794 \n  \"/>\n<path clip-path=\"url(#clip160)\" d=\"M2191.28 166.745 Q2189.47 171.375 2187.76 172.787 Q2186.04 174.199 2183.17 174.199 L2179.77 174.199 L2179.77 170.634 L2182.27 170.634 Q2184.03 170.634 2185 169.8 Q2185.98 168.967 2187.16 165.865 L2187.92 163.921 L2177.43 138.412 L2181.95 138.412 L2190.05 158.689 L2198.15 138.412 L2202.66 138.412 L2191.28 166.745 Z\" fill=\"#000000\" fill-rule=\"evenodd\" fill-opacity=\"1\" /><path clip-path=\"url(#clip160)\" d=\"M2209.96 160.402 L2217.6 160.402 L2217.6 134.037 L2209.29 135.703 L2209.29 131.444 L2217.55 129.778 L2222.22 129.778 L2222.22 160.402 L2229.86 160.402 L2229.86 164.338 L2209.96 164.338 L2209.96 160.402 Z\" fill=\"#000000\" fill-rule=\"evenodd\" fill-opacity=\"1\" /></svg>\n",
      "text/html": [
       "<?xml version=\"1.0\" encoding=\"utf-8\"?>\n",
       "<svg xmlns=\"http://www.w3.org/2000/svg\" xmlns:xlink=\"http://www.w3.org/1999/xlink\" width=\"600\" height=\"400\" viewBox=\"0 0 2400 1600\">\n",
       "<defs>\n",
       "  <clipPath id=\"clip210\">\n",
       "    <rect x=\"0\" y=\"0\" width=\"2400\" height=\"1600\"/>\n",
       "  </clipPath>\n",
       "</defs>\n",
       "<path clip-path=\"url(#clip210)\" d=\"\n",
       "M0 1600 L2400 1600 L2400 0 L0 0  Z\n",
       "  \" fill=\"#ffffff\" fill-rule=\"evenodd\" fill-opacity=\"1\"/>\n",
       "<defs>\n",
       "  <clipPath id=\"clip211\">\n",
       "    <rect x=\"480\" y=\"0\" width=\"1681\" height=\"1600\"/>\n",
       "  </clipPath>\n",
       "</defs>\n",
       "<path clip-path=\"url(#clip210)\" d=\"\n",
       "M140.696 1486.45 L2352.76 1486.45 L2352.76 47.2441 L140.696 47.2441  Z\n",
       "  \" fill=\"#ffffff\" fill-rule=\"evenodd\" fill-opacity=\"1\"/>\n",
       "<defs>\n",
       "  <clipPath id=\"clip212\">\n",
       "    <rect x=\"140\" y=\"47\" width=\"2213\" height=\"1440\"/>\n",
       "  </clipPath>\n",
       "</defs>\n",
       "<polyline clip-path=\"url(#clip212)\" style=\"stroke:#000000; stroke-linecap:butt; stroke-linejoin:round; stroke-width:2; stroke-opacity:0.1; fill:none\" points=\"\n",
       "  441.338,1486.45 441.338,47.2441 \n",
       "  \"/>\n",
       "<polyline clip-path=\"url(#clip212)\" style=\"stroke:#000000; stroke-linecap:butt; stroke-linejoin:round; stroke-width:2; stroke-opacity:0.1; fill:none\" points=\"\n",
       "  799.288,1486.45 799.288,47.2441 \n",
       "  \"/>\n",
       "<polyline clip-path=\"url(#clip212)\" style=\"stroke:#000000; stroke-linecap:butt; stroke-linejoin:round; stroke-width:2; stroke-opacity:0.1; fill:none\" points=\"\n",
       "  1157.24,1486.45 1157.24,47.2441 \n",
       "  \"/>\n",
       "<polyline clip-path=\"url(#clip212)\" style=\"stroke:#000000; stroke-linecap:butt; stroke-linejoin:round; stroke-width:2; stroke-opacity:0.1; fill:none\" points=\"\n",
       "  1515.19,1486.45 1515.19,47.2441 \n",
       "  \"/>\n",
       "<polyline clip-path=\"url(#clip212)\" style=\"stroke:#000000; stroke-linecap:butt; stroke-linejoin:round; stroke-width:2; stroke-opacity:0.1; fill:none\" points=\"\n",
       "  1873.14,1486.45 1873.14,47.2441 \n",
       "  \"/>\n",
       "<polyline clip-path=\"url(#clip212)\" style=\"stroke:#000000; stroke-linecap:butt; stroke-linejoin:round; stroke-width:2; stroke-opacity:0.1; fill:none\" points=\"\n",
       "  2231.09,1486.45 2231.09,47.2441 \n",
       "  \"/>\n",
       "<polyline clip-path=\"url(#clip210)\" style=\"stroke:#000000; stroke-linecap:butt; stroke-linejoin:round; stroke-width:4; stroke-opacity:1; fill:none\" points=\"\n",
       "  140.696,1486.45 2352.76,1486.45 \n",
       "  \"/>\n",
       "<polyline clip-path=\"url(#clip210)\" style=\"stroke:#000000; stroke-linecap:butt; stroke-linejoin:round; stroke-width:4; stroke-opacity:1; fill:none\" points=\"\n",
       "  441.338,1486.45 441.338,1467.55 \n",
       "  \"/>\n",
       "<polyline clip-path=\"url(#clip210)\" style=\"stroke:#000000; stroke-linecap:butt; stroke-linejoin:round; stroke-width:4; stroke-opacity:1; fill:none\" points=\"\n",
       "  799.288,1486.45 799.288,1467.55 \n",
       "  \"/>\n",
       "<polyline clip-path=\"url(#clip210)\" style=\"stroke:#000000; stroke-linecap:butt; stroke-linejoin:round; stroke-width:4; stroke-opacity:1; fill:none\" points=\"\n",
       "  1157.24,1486.45 1157.24,1467.55 \n",
       "  \"/>\n",
       "<polyline clip-path=\"url(#clip210)\" style=\"stroke:#000000; stroke-linecap:butt; stroke-linejoin:round; stroke-width:4; stroke-opacity:1; fill:none\" points=\"\n",
       "  1515.19,1486.45 1515.19,1467.55 \n",
       "  \"/>\n",
       "<polyline clip-path=\"url(#clip210)\" style=\"stroke:#000000; stroke-linecap:butt; stroke-linejoin:round; stroke-width:4; stroke-opacity:1; fill:none\" points=\"\n",
       "  1873.14,1486.45 1873.14,1467.55 \n",
       "  \"/>\n",
       "<polyline clip-path=\"url(#clip210)\" style=\"stroke:#000000; stroke-linecap:butt; stroke-linejoin:round; stroke-width:4; stroke-opacity:1; fill:none\" points=\"\n",
       "  2231.09,1486.45 2231.09,1467.55 \n",
       "  \"/>\n",
       "<path clip-path=\"url(#clip210)\" d=\"M387.866 1532.02 L417.542 1532.02 L417.542 1535.95 L387.866 1535.95 L387.866 1532.02 Z\" fill=\"#000000\" fill-rule=\"evenodd\" fill-opacity=\"1\" /><path clip-path=\"url(#clip210)\" d=\"M428.444 1544.91 L436.083 1544.91 L436.083 1518.55 L427.773 1520.21 L427.773 1515.95 L436.037 1514.29 L440.713 1514.29 L440.713 1544.91 L448.352 1544.91 L448.352 1548.85 L428.444 1548.85 L428.444 1544.91 Z\" fill=\"#000000\" fill-rule=\"evenodd\" fill-opacity=\"1\" /><path clip-path=\"url(#clip210)\" d=\"M457.796 1542.97 L462.68 1542.97 L462.68 1548.85 L457.796 1548.85 L457.796 1542.97 Z\" fill=\"#000000\" fill-rule=\"evenodd\" fill-opacity=\"1\" /><path clip-path=\"url(#clip210)\" d=\"M482.865 1517.37 Q479.254 1517.37 477.426 1520.93 Q475.62 1524.47 475.62 1531.6 Q475.62 1538.71 477.426 1542.27 Q479.254 1545.82 482.865 1545.82 Q486.5 1545.82 488.305 1542.27 Q490.134 1538.71 490.134 1531.6 Q490.134 1524.47 488.305 1520.93 Q486.5 1517.37 482.865 1517.37 M482.865 1513.66 Q488.676 1513.66 491.731 1518.27 Q494.81 1522.85 494.81 1531.6 Q494.81 1540.33 491.731 1544.94 Q488.676 1549.52 482.865 1549.52 Q477.055 1549.52 473.977 1544.94 Q470.921 1540.33 470.921 1531.6 Q470.921 1522.85 473.977 1518.27 Q477.055 1513.66 482.865 1513.66 Z\" fill=\"#000000\" fill-rule=\"evenodd\" fill-opacity=\"1\" /><path clip-path=\"url(#clip210)\" d=\"M745.909 1532.02 L775.584 1532.02 L775.584 1535.95 L745.909 1535.95 L745.909 1532.02 Z\" fill=\"#000000\" fill-rule=\"evenodd\" fill-opacity=\"1\" /><path clip-path=\"url(#clip210)\" d=\"M795.677 1517.37 Q792.066 1517.37 790.237 1520.93 Q788.432 1524.47 788.432 1531.6 Q788.432 1538.71 790.237 1542.27 Q792.066 1545.82 795.677 1545.82 Q799.311 1545.82 801.117 1542.27 Q802.945 1538.71 802.945 1531.6 Q802.945 1524.47 801.117 1520.93 Q799.311 1517.37 795.677 1517.37 M795.677 1513.66 Q801.487 1513.66 804.543 1518.27 Q807.621 1522.85 807.621 1531.6 Q807.621 1540.33 804.543 1544.94 Q801.487 1549.52 795.677 1549.52 Q789.867 1549.52 786.788 1544.94 Q783.733 1540.33 783.733 1531.6 Q783.733 1522.85 786.788 1518.27 Q789.867 1513.66 795.677 1513.66 Z\" fill=\"#000000\" fill-rule=\"evenodd\" fill-opacity=\"1\" /><path clip-path=\"url(#clip210)\" d=\"M815.839 1542.97 L820.723 1542.97 L820.723 1548.85 L815.839 1548.85 L815.839 1542.97 Z\" fill=\"#000000\" fill-rule=\"evenodd\" fill-opacity=\"1\" /><path clip-path=\"url(#clip210)\" d=\"M831.047 1548.13 L831.047 1543.87 Q832.806 1544.7 834.612 1545.14 Q836.417 1545.58 838.154 1545.58 Q842.783 1545.58 845.214 1542.48 Q847.667 1539.36 848.015 1533.01 Q846.672 1535.01 844.612 1536.07 Q842.552 1537.13 840.052 1537.13 Q834.867 1537.13 831.834 1534.01 Q828.825 1530.86 828.825 1525.42 Q828.825 1520.1 831.973 1516.88 Q835.121 1513.66 840.353 1513.66 Q846.348 1513.66 849.496 1518.27 Q852.667 1522.85 852.667 1531.6 Q852.667 1539.77 848.779 1544.66 Q844.913 1549.52 838.362 1549.52 Q836.603 1549.52 834.797 1549.17 Q832.992 1548.82 831.047 1548.13 M840.353 1533.48 Q843.501 1533.48 845.329 1531.32 Q847.181 1529.17 847.181 1525.42 Q847.181 1521.7 845.329 1519.54 Q843.501 1517.37 840.353 1517.37 Q837.204 1517.37 835.353 1519.54 Q833.524 1521.7 833.524 1525.42 Q833.524 1529.17 835.353 1531.32 Q837.204 1533.48 840.353 1533.48 Z\" fill=\"#000000\" fill-rule=\"evenodd\" fill-opacity=\"1\" /><path clip-path=\"url(#clip210)\" d=\"M1103.81 1532.02 L1133.49 1532.02 L1133.49 1535.95 L1103.81 1535.95 L1103.81 1532.02 Z\" fill=\"#000000\" fill-rule=\"evenodd\" fill-opacity=\"1\" /><path clip-path=\"url(#clip210)\" d=\"M1153.58 1517.37 Q1149.97 1517.37 1148.14 1520.93 Q1146.34 1524.47 1146.34 1531.6 Q1146.34 1538.71 1148.14 1542.27 Q1149.97 1545.82 1153.58 1545.82 Q1157.22 1545.82 1159.02 1542.27 Q1160.85 1538.71 1160.85 1531.6 Q1160.85 1524.47 1159.02 1520.93 Q1157.22 1517.37 1153.58 1517.37 M1153.58 1513.66 Q1159.39 1513.66 1162.45 1518.27 Q1165.53 1522.85 1165.53 1531.6 Q1165.53 1540.33 1162.45 1544.94 Q1159.39 1549.52 1153.58 1549.52 Q1147.77 1549.52 1144.69 1544.94 Q1141.64 1540.33 1141.64 1531.6 Q1141.64 1522.85 1144.69 1518.27 Q1147.77 1513.66 1153.58 1513.66 Z\" fill=\"#000000\" fill-rule=\"evenodd\" fill-opacity=\"1\" /><path clip-path=\"url(#clip210)\" d=\"M1173.74 1542.97 L1178.63 1542.97 L1178.63 1548.85 L1173.74 1548.85 L1173.74 1542.97 Z\" fill=\"#000000\" fill-rule=\"evenodd\" fill-opacity=\"1\" /><path clip-path=\"url(#clip210)\" d=\"M1198.81 1532.44 Q1195.48 1532.44 1193.56 1534.22 Q1191.66 1536 1191.66 1539.13 Q1191.66 1542.25 1193.56 1544.03 Q1195.48 1545.82 1198.81 1545.82 Q1202.15 1545.82 1204.07 1544.03 Q1205.99 1542.23 1205.99 1539.13 Q1205.99 1536 1204.07 1534.22 Q1202.17 1532.44 1198.81 1532.44 M1194.14 1530.45 Q1191.13 1529.7 1189.44 1527.64 Q1187.77 1525.58 1187.77 1522.62 Q1187.77 1518.48 1190.71 1516.07 Q1193.67 1513.66 1198.81 1513.66 Q1203.97 1513.66 1206.91 1516.07 Q1209.85 1518.48 1209.85 1522.62 Q1209.85 1525.58 1208.16 1527.64 Q1206.5 1529.7 1203.51 1530.45 Q1206.89 1531.23 1208.77 1533.52 Q1210.66 1535.82 1210.66 1539.13 Q1210.66 1544.15 1207.59 1546.83 Q1204.53 1549.52 1198.81 1549.52 Q1193.09 1549.52 1190.02 1546.83 Q1186.96 1544.15 1186.96 1539.13 Q1186.96 1535.82 1188.86 1533.52 Q1190.76 1531.23 1194.14 1530.45 M1192.42 1523.06 Q1192.42 1525.75 1194.09 1527.25 Q1195.78 1528.76 1198.81 1528.76 Q1201.82 1528.76 1203.51 1527.25 Q1205.22 1525.75 1205.22 1523.06 Q1205.22 1520.38 1203.51 1518.87 Q1201.82 1517.37 1198.81 1517.37 Q1195.78 1517.37 1194.09 1518.87 Q1192.42 1520.38 1192.42 1523.06 Z\" fill=\"#000000\" fill-rule=\"evenodd\" fill-opacity=\"1\" /><path clip-path=\"url(#clip210)\" d=\"M1462.17 1532.02 L1491.84 1532.02 L1491.84 1535.95 L1462.17 1535.95 L1462.17 1532.02 Z\" fill=\"#000000\" fill-rule=\"evenodd\" fill-opacity=\"1\" /><path clip-path=\"url(#clip210)\" d=\"M1511.94 1517.37 Q1508.32 1517.37 1506.5 1520.93 Q1504.69 1524.47 1504.69 1531.6 Q1504.69 1538.71 1506.5 1542.27 Q1508.32 1545.82 1511.94 1545.82 Q1515.57 1545.82 1517.38 1542.27 Q1519.2 1538.71 1519.2 1531.6 Q1519.2 1524.47 1517.38 1520.93 Q1515.57 1517.37 1511.94 1517.37 M1511.94 1513.66 Q1517.75 1513.66 1520.8 1518.27 Q1523.88 1522.85 1523.88 1531.6 Q1523.88 1540.33 1520.8 1544.94 Q1517.75 1549.52 1511.94 1549.52 Q1506.13 1549.52 1503.05 1544.94 Q1499.99 1540.33 1499.99 1531.6 Q1499.99 1522.85 1503.05 1518.27 Q1506.13 1513.66 1511.94 1513.66 Z\" fill=\"#000000\" fill-rule=\"evenodd\" fill-opacity=\"1\" /><path clip-path=\"url(#clip210)\" d=\"M1532.1 1542.97 L1536.98 1542.97 L1536.98 1548.85 L1532.1 1548.85 L1532.1 1542.97 Z\" fill=\"#000000\" fill-rule=\"evenodd\" fill-opacity=\"1\" /><path clip-path=\"url(#clip210)\" d=\"M1545.99 1514.29 L1568.21 1514.29 L1568.21 1516.28 L1555.66 1548.85 L1550.78 1548.85 L1562.58 1518.22 L1545.99 1518.22 L1545.99 1514.29 Z\" fill=\"#000000\" fill-rule=\"evenodd\" fill-opacity=\"1\" /><path clip-path=\"url(#clip210)\" d=\"M1819.59 1532.02 L1849.26 1532.02 L1849.26 1535.95 L1819.59 1535.95 L1819.59 1532.02 Z\" fill=\"#000000\" fill-rule=\"evenodd\" fill-opacity=\"1\" /><path clip-path=\"url(#clip210)\" d=\"M1869.35 1517.37 Q1865.74 1517.37 1863.91 1520.93 Q1862.11 1524.47 1862.11 1531.6 Q1862.11 1538.71 1863.91 1542.27 Q1865.74 1545.82 1869.35 1545.82 Q1872.99 1545.82 1874.79 1542.27 Q1876.62 1538.71 1876.62 1531.6 Q1876.62 1524.47 1874.79 1520.93 Q1872.99 1517.37 1869.35 1517.37 M1869.35 1513.66 Q1875.16 1513.66 1878.22 1518.27 Q1881.3 1522.85 1881.3 1531.6 Q1881.3 1540.33 1878.22 1544.94 Q1875.16 1549.52 1869.35 1549.52 Q1863.54 1549.52 1860.46 1544.94 Q1857.41 1540.33 1857.41 1531.6 Q1857.41 1522.85 1860.46 1518.27 Q1863.54 1513.66 1869.35 1513.66 Z\" fill=\"#000000\" fill-rule=\"evenodd\" fill-opacity=\"1\" /><path clip-path=\"url(#clip210)\" d=\"M1889.52 1542.97 L1894.4 1542.97 L1894.4 1548.85 L1889.52 1548.85 L1889.52 1542.97 Z\" fill=\"#000000\" fill-rule=\"evenodd\" fill-opacity=\"1\" /><path clip-path=\"url(#clip210)\" d=\"M1915.16 1529.7 Q1912.02 1529.7 1910.16 1531.86 Q1908.34 1534.01 1908.34 1537.76 Q1908.34 1541.49 1910.16 1543.66 Q1912.02 1545.82 1915.16 1545.82 Q1918.31 1545.82 1920.14 1543.66 Q1921.99 1541.49 1921.99 1537.76 Q1921.99 1534.01 1920.14 1531.86 Q1918.31 1529.7 1915.16 1529.7 M1924.45 1515.05 L1924.45 1519.31 Q1922.69 1518.48 1920.88 1518.04 Q1919.1 1517.6 1917.34 1517.6 Q1912.71 1517.6 1910.26 1520.72 Q1907.83 1523.85 1907.48 1530.17 Q1908.84 1528.15 1910.9 1527.09 Q1912.96 1526 1915.44 1526 Q1920.65 1526 1923.66 1529.17 Q1926.69 1532.32 1926.69 1537.76 Q1926.69 1543.08 1923.54 1546.3 Q1920.4 1549.52 1915.16 1549.52 Q1909.17 1549.52 1906 1544.94 Q1902.83 1540.33 1902.83 1531.6 Q1902.83 1523.41 1906.71 1518.55 Q1910.6 1513.66 1917.15 1513.66 Q1918.91 1513.66 1920.7 1514.01 Q1922.5 1514.36 1924.45 1515.05 Z\" fill=\"#000000\" fill-rule=\"evenodd\" fill-opacity=\"1\" /><path clip-path=\"url(#clip210)\" d=\"M2178.11 1532.02 L2207.79 1532.02 L2207.79 1535.95 L2178.11 1535.95 L2178.11 1532.02 Z\" fill=\"#000000\" fill-rule=\"evenodd\" fill-opacity=\"1\" /><path clip-path=\"url(#clip210)\" d=\"M2227.88 1517.37 Q2224.27 1517.37 2222.44 1520.93 Q2220.64 1524.47 2220.64 1531.6 Q2220.64 1538.71 2222.44 1542.27 Q2224.27 1545.82 2227.88 1545.82 Q2231.52 1545.82 2233.32 1542.27 Q2235.15 1538.71 2235.15 1531.6 Q2235.15 1524.47 2233.32 1520.93 Q2231.52 1517.37 2227.88 1517.37 M2227.88 1513.66 Q2233.69 1513.66 2236.75 1518.27 Q2239.83 1522.85 2239.83 1531.6 Q2239.83 1540.33 2236.75 1544.94 Q2233.69 1549.52 2227.88 1549.52 Q2222.07 1549.52 2218.99 1544.94 Q2215.94 1540.33 2215.94 1531.6 Q2215.94 1522.85 2218.99 1518.27 Q2222.07 1513.66 2227.88 1513.66 Z\" fill=\"#000000\" fill-rule=\"evenodd\" fill-opacity=\"1\" /><path clip-path=\"url(#clip210)\" d=\"M2248.04 1542.97 L2252.93 1542.97 L2252.93 1548.85 L2248.04 1548.85 L2248.04 1542.97 Z\" fill=\"#000000\" fill-rule=\"evenodd\" fill-opacity=\"1\" /><path clip-path=\"url(#clip210)\" d=\"M2263.16 1514.29 L2281.52 1514.29 L2281.52 1518.22 L2267.44 1518.22 L2267.44 1526.7 Q2268.46 1526.35 2269.48 1526.19 Q2270.5 1526 2271.52 1526 Q2277.3 1526 2280.68 1529.17 Q2284.06 1532.34 2284.06 1537.76 Q2284.06 1543.34 2280.59 1546.44 Q2277.12 1549.52 2270.8 1549.52 Q2268.62 1549.52 2266.35 1549.15 Q2264.11 1548.78 2261.7 1548.04 L2261.7 1543.34 Q2263.79 1544.47 2266.01 1545.03 Q2268.23 1545.58 2270.71 1545.58 Q2274.71 1545.58 2277.05 1543.48 Q2279.39 1541.37 2279.39 1537.76 Q2279.39 1534.15 2277.05 1532.04 Q2274.71 1529.94 2270.71 1529.94 Q2268.83 1529.94 2266.96 1530.35 Q2265.1 1530.77 2263.16 1531.65 L2263.16 1514.29 Z\" fill=\"#000000\" fill-rule=\"evenodd\" fill-opacity=\"1\" /><polyline clip-path=\"url(#clip212)\" style=\"stroke:#000000; stroke-linecap:butt; stroke-linejoin:round; stroke-width:2; stroke-opacity:0.1; fill:none\" points=\"\n",
       "  140.696,1445.72 2352.76,1445.72 \n",
       "  \"/>\n",
       "<polyline clip-path=\"url(#clip212)\" style=\"stroke:#000000; stroke-linecap:butt; stroke-linejoin:round; stroke-width:2; stroke-opacity:0.1; fill:none\" points=\"\n",
       "  140.696,1184.61 2352.76,1184.61 \n",
       "  \"/>\n",
       "<polyline clip-path=\"url(#clip212)\" style=\"stroke:#000000; stroke-linecap:butt; stroke-linejoin:round; stroke-width:2; stroke-opacity:0.1; fill:none\" points=\"\n",
       "  140.696,923.508 2352.76,923.508 \n",
       "  \"/>\n",
       "<polyline clip-path=\"url(#clip212)\" style=\"stroke:#000000; stroke-linecap:butt; stroke-linejoin:round; stroke-width:2; stroke-opacity:0.1; fill:none\" points=\"\n",
       "  140.696,662.404 2352.76,662.404 \n",
       "  \"/>\n",
       "<polyline clip-path=\"url(#clip212)\" style=\"stroke:#000000; stroke-linecap:butt; stroke-linejoin:round; stroke-width:2; stroke-opacity:0.1; fill:none\" points=\"\n",
       "  140.696,401.301 2352.76,401.301 \n",
       "  \"/>\n",
       "<polyline clip-path=\"url(#clip212)\" style=\"stroke:#000000; stroke-linecap:butt; stroke-linejoin:round; stroke-width:2; stroke-opacity:0.1; fill:none\" points=\"\n",
       "  140.696,140.197 2352.76,140.197 \n",
       "  \"/>\n",
       "<polyline clip-path=\"url(#clip210)\" style=\"stroke:#000000; stroke-linecap:butt; stroke-linejoin:round; stroke-width:4; stroke-opacity:1; fill:none\" points=\"\n",
       "  140.696,1486.45 140.696,47.2441 \n",
       "  \"/>\n",
       "<polyline clip-path=\"url(#clip210)\" style=\"stroke:#000000; stroke-linecap:butt; stroke-linejoin:round; stroke-width:4; stroke-opacity:1; fill:none\" points=\"\n",
       "  140.696,1445.72 159.593,1445.72 \n",
       "  \"/>\n",
       "<polyline clip-path=\"url(#clip210)\" style=\"stroke:#000000; stroke-linecap:butt; stroke-linejoin:round; stroke-width:4; stroke-opacity:1; fill:none\" points=\"\n",
       "  140.696,1184.61 159.593,1184.61 \n",
       "  \"/>\n",
       "<polyline clip-path=\"url(#clip210)\" style=\"stroke:#000000; stroke-linecap:butt; stroke-linejoin:round; stroke-width:4; stroke-opacity:1; fill:none\" points=\"\n",
       "  140.696,923.508 159.593,923.508 \n",
       "  \"/>\n",
       "<polyline clip-path=\"url(#clip210)\" style=\"stroke:#000000; stroke-linecap:butt; stroke-linejoin:round; stroke-width:4; stroke-opacity:1; fill:none\" points=\"\n",
       "  140.696,662.404 159.593,662.404 \n",
       "  \"/>\n",
       "<polyline clip-path=\"url(#clip210)\" style=\"stroke:#000000; stroke-linecap:butt; stroke-linejoin:round; stroke-width:4; stroke-opacity:1; fill:none\" points=\"\n",
       "  140.696,401.301 159.593,401.301 \n",
       "  \"/>\n",
       "<polyline clip-path=\"url(#clip210)\" style=\"stroke:#000000; stroke-linecap:butt; stroke-linejoin:round; stroke-width:4; stroke-opacity:1; fill:none\" points=\"\n",
       "  140.696,140.197 159.593,140.197 \n",
       "  \"/>\n",
       "<path clip-path=\"url(#clip210)\" d=\"M92.7512 1431.51 Q89.1401 1431.51 87.3114 1435.08 Q85.5058 1438.62 85.5058 1445.75 Q85.5058 1452.86 87.3114 1456.42 Q89.1401 1459.96 92.7512 1459.96 Q96.3854 1459.96 98.1909 1456.42 Q100.02 1452.86 100.02 1445.75 Q100.02 1438.62 98.1909 1435.08 Q96.3854 1431.51 92.7512 1431.51 M92.7512 1427.81 Q98.5613 1427.81 101.617 1432.42 Q104.696 1437 104.696 1445.75 Q104.696 1454.48 101.617 1459.08 Q98.5613 1463.67 92.7512 1463.67 Q86.941 1463.67 83.8623 1459.08 Q80.8068 1454.48 80.8068 1445.75 Q80.8068 1437 83.8623 1432.42 Q86.941 1427.81 92.7512 1427.81 Z\" fill=\"#000000\" fill-rule=\"evenodd\" fill-opacity=\"1\" /><path clip-path=\"url(#clip210)\" d=\"M83.7929 1167.33 L102.149 1167.33 L102.149 1171.27 L88.0753 1171.27 L88.0753 1179.74 Q89.0938 1179.39 90.1123 1179.23 Q91.1308 1179.04 92.1493 1179.04 Q97.9363 1179.04 101.316 1182.22 Q104.696 1185.39 104.696 1190.8 Q104.696 1196.38 101.223 1199.48 Q97.7511 1202.56 91.4317 1202.56 Q89.2558 1202.56 86.9873 1202.19 Q84.7419 1201.82 82.3346 1201.08 L82.3346 1196.38 Q84.4179 1197.52 86.6401 1198.07 Q88.8623 1198.63 91.3391 1198.63 Q95.3437 1198.63 97.6817 1196.52 Q100.02 1194.42 100.02 1190.8 Q100.02 1187.19 97.6817 1185.09 Q95.3437 1182.98 91.3391 1182.98 Q89.4641 1182.98 87.5892 1183.4 Q85.7373 1183.81 83.7929 1184.69 L83.7929 1167.33 Z\" fill=\"#000000\" fill-rule=\"evenodd\" fill-opacity=\"1\" /><path clip-path=\"url(#clip210)\" d=\"M53.3995 936.853 L61.0384 936.853 L61.0384 910.487 L52.7282 912.154 L52.7282 907.895 L60.9921 906.228 L65.668 906.228 L65.668 936.853 L73.3068 936.853 L73.3068 940.788 L53.3995 940.788 L53.3995 936.853 Z\" fill=\"#000000\" fill-rule=\"evenodd\" fill-opacity=\"1\" /><path clip-path=\"url(#clip210)\" d=\"M92.7512 909.307 Q89.1401 909.307 87.3114 912.872 Q85.5058 916.413 85.5058 923.543 Q85.5058 930.649 87.3114 934.214 Q89.1401 937.756 92.7512 937.756 Q96.3854 937.756 98.1909 934.214 Q100.02 930.649 100.02 923.543 Q100.02 916.413 98.1909 912.872 Q96.3854 909.307 92.7512 909.307 M92.7512 905.603 Q98.5613 905.603 101.617 910.21 Q104.696 914.793 104.696 923.543 Q104.696 932.27 101.617 936.876 Q98.5613 941.46 92.7512 941.46 Q86.941 941.46 83.8623 936.876 Q80.8068 932.27 80.8068 923.543 Q80.8068 914.793 83.8623 910.21 Q86.941 905.603 92.7512 905.603 Z\" fill=\"#000000\" fill-rule=\"evenodd\" fill-opacity=\"1\" /><path clip-path=\"url(#clip210)\" d=\"M54.3949 675.749 L62.0337 675.749 L62.0337 649.384 L53.7236 651.05 L53.7236 646.791 L61.9874 645.124 L66.6633 645.124 L66.6633 675.749 L74.3022 675.749 L74.3022 679.684 L54.3949 679.684 L54.3949 675.749 Z\" fill=\"#000000\" fill-rule=\"evenodd\" fill-opacity=\"1\" /><path clip-path=\"url(#clip210)\" d=\"M83.7929 645.124 L102.149 645.124 L102.149 649.06 L88.0753 649.06 L88.0753 657.532 Q89.0938 657.185 90.1123 657.023 Q91.1308 656.837 92.1493 656.837 Q97.9363 656.837 101.316 660.009 Q104.696 663.18 104.696 668.597 Q104.696 674.175 101.223 677.277 Q97.7511 680.356 91.4317 680.356 Q89.2558 680.356 86.9873 679.985 Q84.7419 679.615 82.3346 678.874 L82.3346 674.175 Q84.4179 675.31 86.6401 675.865 Q88.8623 676.421 91.3391 676.421 Q95.3437 676.421 97.6817 674.314 Q100.02 672.208 100.02 668.597 Q100.02 664.985 97.6817 662.879 Q95.3437 660.773 91.3391 660.773 Q89.4641 660.773 87.5892 661.189 Q85.7373 661.606 83.7929 662.486 L83.7929 645.124 Z\" fill=\"#000000\" fill-rule=\"evenodd\" fill-opacity=\"1\" /><path clip-path=\"url(#clip210)\" d=\"M56.6171 414.646 L72.9365 414.646 L72.9365 418.581 L50.9921 418.581 L50.9921 414.646 Q53.6541 411.891 58.2375 407.261 Q62.8439 402.609 64.0245 401.266 Q66.2698 398.743 67.1494 397.007 Q68.0522 395.248 68.0522 393.558 Q68.0522 390.803 66.1078 389.067 Q64.1865 387.331 61.0847 387.331 Q58.8856 387.331 56.4319 388.095 Q54.0014 388.859 51.2236 390.41 L51.2236 385.687 Q54.0477 384.553 56.5014 383.974 Q58.955 383.396 60.9921 383.396 Q66.3624 383.396 69.5568 386.081 Q72.7513 388.766 72.7513 393.257 Q72.7513 395.386 71.9411 397.308 Q71.1541 399.206 69.0476 401.798 Q68.4689 402.47 65.367 405.687 Q62.2652 408.882 56.6171 414.646 Z\" fill=\"#000000\" fill-rule=\"evenodd\" fill-opacity=\"1\" /><path clip-path=\"url(#clip210)\" d=\"M92.7512 387.099 Q89.1401 387.099 87.3114 390.664 Q85.5058 394.206 85.5058 401.335 Q85.5058 408.442 87.3114 412.007 Q89.1401 415.548 92.7512 415.548 Q96.3854 415.548 98.1909 412.007 Q100.02 408.442 100.02 401.335 Q100.02 394.206 98.1909 390.664 Q96.3854 387.099 92.7512 387.099 M92.7512 383.396 Q98.5613 383.396 101.617 388.002 Q104.696 392.586 104.696 401.335 Q104.696 410.062 101.617 414.669 Q98.5613 419.252 92.7512 419.252 Q86.941 419.252 83.8623 414.669 Q80.8068 410.062 80.8068 401.335 Q80.8068 392.586 83.8623 388.002 Q86.941 383.396 92.7512 383.396 Z\" fill=\"#000000\" fill-rule=\"evenodd\" fill-opacity=\"1\" /><path clip-path=\"url(#clip210)\" d=\"M57.6125 153.542 L73.9318 153.542 L73.9318 157.477 L51.9875 157.477 L51.9875 153.542 Q54.6495 150.787 59.2328 146.158 Q63.8393 141.505 65.0198 140.162 Q67.2652 137.639 68.1448 135.903 Q69.0476 134.144 69.0476 132.454 Q69.0476 129.699 67.1032 127.963 Q65.1819 126.227 62.08 126.227 Q59.881 126.227 57.4273 126.991 Q54.9967 127.755 52.219 129.306 L52.219 124.584 Q55.043 123.449 57.4967 122.871 Q59.9504 122.292 61.9874 122.292 Q67.3578 122.292 70.5522 124.977 Q73.7466 127.662 73.7466 132.153 Q73.7466 134.283 72.9365 136.204 Q72.1494 138.102 70.0429 140.695 Q69.4642 141.366 66.3624 144.584 Q63.2606 147.778 57.6125 153.542 Z\" fill=\"#000000\" fill-rule=\"evenodd\" fill-opacity=\"1\" /><path clip-path=\"url(#clip210)\" d=\"M83.7929 122.917 L102.149 122.917 L102.149 126.852 L88.0753 126.852 L88.0753 135.324 Q89.0938 134.977 90.1123 134.815 Q91.1308 134.63 92.1493 134.63 Q97.9363 134.63 101.316 137.801 Q104.696 140.972 104.696 146.389 Q104.696 151.968 101.223 155.07 Q97.7511 158.148 91.4317 158.148 Q89.2558 158.148 86.9873 157.778 Q84.7419 157.408 82.3346 156.667 L82.3346 151.968 Q84.4179 153.102 86.6401 153.658 Q88.8623 154.213 91.3391 154.213 Q95.3437 154.213 97.6817 152.107 Q100.02 150 100.02 146.389 Q100.02 142.778 97.6817 140.672 Q95.3437 138.565 91.3391 138.565 Q89.4641 138.565 87.5892 138.982 Q85.7373 139.398 83.7929 140.278 L83.7929 122.917 Z\" fill=\"#000000\" fill-rule=\"evenodd\" fill-opacity=\"1\" /><path clip-path=\"url(#clip212)\" d=\"\n",
       "M262.363 1393.49 L262.363 1445.72 L441.338 1445.72 L441.338 1393.49 L262.363 1393.49 L262.363 1393.49  Z\n",
       "  \" fill=\"#009af9\" fill-rule=\"evenodd\" fill-opacity=\"1\"/>\n",
       "<polyline clip-path=\"url(#clip212)\" style=\"stroke:#000000; stroke-linecap:butt; stroke-linejoin:round; stroke-width:4; stroke-opacity:1; fill:none\" points=\"\n",
       "  262.363,1393.49 262.363,1445.72 441.338,1445.72 441.338,1393.49 262.363,1393.49 \n",
       "  \"/>\n",
       "<path clip-path=\"url(#clip212)\" d=\"\n",
       "M441.338 1393.49 L441.338 1445.72 L620.313 1445.72 L620.313 1393.49 L441.338 1393.49 L441.338 1393.49  Z\n",
       "  \" fill=\"#009af9\" fill-rule=\"evenodd\" fill-opacity=\"1\"/>\n",
       "<polyline clip-path=\"url(#clip212)\" style=\"stroke:#000000; stroke-linecap:butt; stroke-linejoin:round; stroke-width:4; stroke-opacity:1; fill:none\" points=\"\n",
       "  441.338,1393.49 441.338,1445.72 620.313,1445.72 620.313,1393.49 441.338,1393.49 \n",
       "  \"/>\n",
       "<path clip-path=\"url(#clip212)\" d=\"\n",
       "M620.313 1445.72 L620.313 1445.72 L799.288 1445.72 L799.288 1445.72 L620.313 1445.72 L620.313 1445.72  Z\n",
       "  \" fill=\"#009af9\" fill-rule=\"evenodd\" fill-opacity=\"1\"/>\n",
       "<polyline clip-path=\"url(#clip212)\" style=\"stroke:#000000; stroke-linecap:butt; stroke-linejoin:round; stroke-width:4; stroke-opacity:1; fill:none\" points=\"\n",
       "  620.313,1445.72 620.313,1445.72 799.288,1445.72 620.313,1445.72 \n",
       "  \"/>\n",
       "<path clip-path=\"url(#clip212)\" d=\"\n",
       "M799.288 1080.17 L799.288 1445.72 L978.263 1445.72 L978.263 1080.17 L799.288 1080.17 L799.288 1080.17  Z\n",
       "  \" fill=\"#009af9\" fill-rule=\"evenodd\" fill-opacity=\"1\"/>\n",
       "<polyline clip-path=\"url(#clip212)\" style=\"stroke:#000000; stroke-linecap:butt; stroke-linejoin:round; stroke-width:4; stroke-opacity:1; fill:none\" points=\"\n",
       "  799.288,1080.17 799.288,1445.72 978.263,1445.72 978.263,1080.17 799.288,1080.17 \n",
       "  \"/>\n",
       "<path clip-path=\"url(#clip212)\" d=\"\n",
       "M978.263 1132.39 L978.263 1445.72 L1157.24 1445.72 L1157.24 1132.39 L978.263 1132.39 L978.263 1132.39  Z\n",
       "  \" fill=\"#009af9\" fill-rule=\"evenodd\" fill-opacity=\"1\"/>\n",
       "<polyline clip-path=\"url(#clip212)\" style=\"stroke:#000000; stroke-linecap:butt; stroke-linejoin:round; stroke-width:4; stroke-opacity:1; fill:none\" points=\"\n",
       "  978.263,1132.39 978.263,1445.72 1157.24,1445.72 1157.24,1132.39 978.263,1132.39 \n",
       "  \"/>\n",
       "<path clip-path=\"url(#clip212)\" d=\"\n",
       "M1157.24 610.184 L1157.24 1445.72 L1336.21 1445.72 L1336.21 610.184 L1157.24 610.184 L1157.24 610.184  Z\n",
       "  \" fill=\"#009af9\" fill-rule=\"evenodd\" fill-opacity=\"1\"/>\n",
       "<polyline clip-path=\"url(#clip212)\" style=\"stroke:#000000; stroke-linecap:butt; stroke-linejoin:round; stroke-width:4; stroke-opacity:1; fill:none\" points=\"\n",
       "  1157.24,610.184 1157.24,1445.72 1336.21,1445.72 1336.21,610.184 1157.24,610.184 \n",
       "  \"/>\n",
       "<path clip-path=\"url(#clip212)\" d=\"\n",
       "M1336.21 819.067 L1336.21 1445.72 L1515.19 1445.72 L1515.19 819.067 L1336.21 819.067 L1336.21 819.067  Z\n",
       "  \" fill=\"#009af9\" fill-rule=\"evenodd\" fill-opacity=\"1\"/>\n",
       "<polyline clip-path=\"url(#clip212)\" style=\"stroke:#000000; stroke-linecap:butt; stroke-linejoin:round; stroke-width:4; stroke-opacity:1; fill:none\" points=\"\n",
       "  1336.21,819.067 1336.21,1445.72 1515.19,1445.72 1515.19,819.067 1336.21,819.067 \n",
       "  \"/>\n",
       "<path clip-path=\"url(#clip212)\" d=\"\n",
       "M1515.19 87.9763 L1515.19 1445.72 L1694.16 1445.72 L1694.16 87.9763 L1515.19 87.9763 L1515.19 87.9763  Z\n",
       "  \" fill=\"#009af9\" fill-rule=\"evenodd\" fill-opacity=\"1\"/>\n",
       "<polyline clip-path=\"url(#clip212)\" style=\"stroke:#000000; stroke-linecap:butt; stroke-linejoin:round; stroke-width:4; stroke-opacity:1; fill:none\" points=\"\n",
       "  1515.19,87.9763 1515.19,1445.72 1694.16,1445.72 1694.16,87.9763 1515.19,87.9763 \n",
       "  \"/>\n",
       "<path clip-path=\"url(#clip212)\" d=\"\n",
       "M1694.16 244.639 L1694.16 1445.72 L1873.14 1445.72 L1873.14 244.639 L1694.16 244.639 L1694.16 244.639  Z\n",
       "  \" fill=\"#009af9\" fill-rule=\"evenodd\" fill-opacity=\"1\"/>\n",
       "<polyline clip-path=\"url(#clip212)\" style=\"stroke:#000000; stroke-linecap:butt; stroke-linejoin:round; stroke-width:4; stroke-opacity:1; fill:none\" points=\"\n",
       "  1694.16,244.639 1694.16,1445.72 1873.14,1445.72 1873.14,244.639 1694.16,244.639 \n",
       "  \"/>\n",
       "<path clip-path=\"url(#clip212)\" d=\"\n",
       "M1873.14 1132.39 L1873.14 1445.72 L2052.11 1445.72 L2052.11 1132.39 L1873.14 1132.39 L1873.14 1132.39  Z\n",
       "  \" fill=\"#009af9\" fill-rule=\"evenodd\" fill-opacity=\"1\"/>\n",
       "<polyline clip-path=\"url(#clip212)\" style=\"stroke:#000000; stroke-linecap:butt; stroke-linejoin:round; stroke-width:4; stroke-opacity:1; fill:none\" points=\"\n",
       "  1873.14,1132.39 1873.14,1445.72 2052.11,1445.72 2052.11,1132.39 1873.14,1132.39 \n",
       "  \"/>\n",
       "<path clip-path=\"url(#clip212)\" d=\"\n",
       "M2052.11 1341.27 L2052.11 1445.72 L2231.09 1445.72 L2231.09 1341.27 L2052.11 1341.27 L2052.11 1341.27  Z\n",
       "  \" fill=\"#009af9\" fill-rule=\"evenodd\" fill-opacity=\"1\"/>\n",
       "<polyline clip-path=\"url(#clip212)\" style=\"stroke:#000000; stroke-linecap:butt; stroke-linejoin:round; stroke-width:4; stroke-opacity:1; fill:none\" points=\"\n",
       "  2052.11,1341.27 2052.11,1445.72 2231.09,1445.72 2231.09,1341.27 2052.11,1341.27 \n",
       "  \"/>\n",
       "<circle clip-path=\"url(#clip212)\" style=\"fill:#009af9; stroke:none; fill-opacity:0\" cx=\"351.85\" cy=\"1393.49\" r=\"2\"/>\n",
       "<circle clip-path=\"url(#clip212)\" style=\"fill:#009af9; stroke:none; fill-opacity:0\" cx=\"530.825\" cy=\"1393.49\" r=\"2\"/>\n",
       "<circle clip-path=\"url(#clip212)\" style=\"fill:#009af9; stroke:none; fill-opacity:0\" cx=\"709.8\" cy=\"1445.72\" r=\"2\"/>\n",
       "<circle clip-path=\"url(#clip212)\" style=\"fill:#009af9; stroke:none; fill-opacity:0\" cx=\"888.776\" cy=\"1080.17\" r=\"2\"/>\n",
       "<circle clip-path=\"url(#clip212)\" style=\"fill:#009af9; stroke:none; fill-opacity:0\" cx=\"1067.75\" cy=\"1132.39\" r=\"2\"/>\n",
       "<circle clip-path=\"url(#clip212)\" style=\"fill:#009af9; stroke:none; fill-opacity:0\" cx=\"1246.73\" cy=\"610.184\" r=\"2\"/>\n",
       "<circle clip-path=\"url(#clip212)\" style=\"fill:#009af9; stroke:none; fill-opacity:0\" cx=\"1425.7\" cy=\"819.067\" r=\"2\"/>\n",
       "<circle clip-path=\"url(#clip212)\" style=\"fill:#009af9; stroke:none; fill-opacity:0\" cx=\"1604.68\" cy=\"87.9763\" r=\"2\"/>\n",
       "<circle clip-path=\"url(#clip212)\" style=\"fill:#009af9; stroke:none; fill-opacity:0\" cx=\"1783.65\" cy=\"244.639\" r=\"2\"/>\n",
       "<circle clip-path=\"url(#clip212)\" style=\"fill:#009af9; stroke:none; fill-opacity:0\" cx=\"1962.63\" cy=\"1132.39\" r=\"2\"/>\n",
       "<circle clip-path=\"url(#clip212)\" style=\"fill:#009af9; stroke:none; fill-opacity:0\" cx=\"2141.6\" cy=\"1341.27\" r=\"2\"/>\n",
       "<path clip-path=\"url(#clip210)\" d=\"\n",
       "M1980.81 198.898 L2279.02 198.898 L2279.02 95.2176 L1980.81 95.2176  Z\n",
       "  \" fill=\"#ffffff\" fill-rule=\"evenodd\" fill-opacity=\"1\"/>\n",
       "<polyline clip-path=\"url(#clip210)\" style=\"stroke:#000000; stroke-linecap:butt; stroke-linejoin:round; stroke-width:4; stroke-opacity:1; fill:none\" points=\"\n",
       "  1980.81,198.898 2279.02,198.898 2279.02,95.2176 1980.81,95.2176 1980.81,198.898 \n",
       "  \"/>\n",
       "<path clip-path=\"url(#clip210)\" d=\"\n",
       "M2005.38 167.794 L2152.85 167.794 L2152.85 126.322 L2005.38 126.322 L2005.38 167.794  Z\n",
       "  \" fill=\"#009af9\" fill-rule=\"evenodd\" fill-opacity=\"1\"/>\n",
       "<polyline clip-path=\"url(#clip210)\" style=\"stroke:#000000; stroke-linecap:butt; stroke-linejoin:round; stroke-width:4; stroke-opacity:1; fill:none\" points=\"\n",
       "  2005.38,167.794 2152.85,167.794 2152.85,126.322 2005.38,126.322 2005.38,167.794 \n",
       "  \"/>\n",
       "<path clip-path=\"url(#clip210)\" d=\"M2191.28 166.745 Q2189.47 171.375 2187.76 172.787 Q2186.04 174.199 2183.17 174.199 L2179.77 174.199 L2179.77 170.634 L2182.27 170.634 Q2184.03 170.634 2185 169.8 Q2185.98 168.967 2187.16 165.865 L2187.92 163.921 L2177.43 138.412 L2181.95 138.412 L2190.05 158.689 L2198.15 138.412 L2202.66 138.412 L2191.28 166.745 Z\" fill=\"#000000\" fill-rule=\"evenodd\" fill-opacity=\"1\" /><path clip-path=\"url(#clip210)\" d=\"M2209.96 160.402 L2217.6 160.402 L2217.6 134.037 L2209.29 135.703 L2209.29 131.444 L2217.55 129.778 L2222.22 129.778 L2222.22 160.402 L2229.86 160.402 L2229.86 164.338 L2209.96 164.338 L2209.96 160.402 Z\" fill=\"#000000\" fill-rule=\"evenodd\" fill-opacity=\"1\" /></svg>\n"
      ]
     },
     "metadata": {},
     "output_type": "display_data"
    }
   ],
   "source": [
    "histogram(eigmins)"
   ]
  }
 ],
 "metadata": {
  "kernelspec": {
   "display_name": "Julia 1.7.2",
   "language": "julia",
   "name": "julia-1.7"
  },
  "language_info": {
   "file_extension": ".jl",
   "mimetype": "application/julia",
   "name": "julia",
   "version": "1.7.2"
  },
  "orig_nbformat": 4
 },
 "nbformat": 4,
 "nbformat_minor": 2
}
