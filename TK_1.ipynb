{
 "cells": [
  {
   "cell_type": "code",
   "execution_count": 1,
   "metadata": {},
   "outputs": [
    {
     "data": {
      "text/plain": [
       "commutation_matrix (generic function with 1 method)"
      ]
     },
     "metadata": {},
     "output_type": "display_data"
    }
   ],
   "source": [
    "include(\"utils.jl\")"
   ]
  },
  {
   "cell_type": "code",
   "execution_count": 8,
   "metadata": {},
   "outputs": [],
   "source": [
    "using LinearAlgebra\n",
    "using StatsPlots"
   ]
  },
  {
   "cell_type": "code",
   "execution_count": 2,
   "metadata": {},
   "outputs": [
    {
     "data": {
      "text/plain": [
       "9×9 SparseMatrixCSC{Float64, Int64} with 15 stored entries:\n",
       " 2.0   ⋅    ⋅    ⋅    ⋅    ⋅    ⋅    ⋅    ⋅ \n",
       "  ⋅   1.0   ⋅   1.0   ⋅    ⋅    ⋅    ⋅    ⋅ \n",
       "  ⋅    ⋅   1.0   ⋅    ⋅    ⋅   1.0   ⋅    ⋅ \n",
       "  ⋅   1.0   ⋅   1.0   ⋅    ⋅    ⋅    ⋅    ⋅ \n",
       "  ⋅    ⋅    ⋅    ⋅   2.0   ⋅    ⋅    ⋅    ⋅ \n",
       "  ⋅    ⋅    ⋅    ⋅    ⋅   1.0   ⋅   1.0   ⋅ \n",
       "  ⋅    ⋅   1.0   ⋅    ⋅    ⋅   1.0   ⋅    ⋅ \n",
       "  ⋅    ⋅    ⋅    ⋅    ⋅   1.0   ⋅   1.0   ⋅ \n",
       "  ⋅    ⋅    ⋅    ⋅    ⋅    ⋅    ⋅    ⋅   2.0"
      ]
     },
     "metadata": {},
     "output_type": "display_data"
    }
   ],
   "source": [
    "num_sample = 1;\n",
    "d = 2;\n",
    "k = 10;\n",
    "alpha = 0.1;\n",
    "\n",
    "Id_k = identity_matrix(k);\n",
    "Id_kk = identity_matrix(k*k);\n",
    "K_k = commutation_matrix(k, k);\n",
    "P_BP_B = 2(Id_kk - K_k);\n",
    "doubN_k = (Id_kk + K_k);"
   ]
  },
  {
   "cell_type": "code",
   "execution_count": 6,
   "metadata": {},
   "outputs": [],
   "source": [
    "eigmins = []\n",
    "for i =1:100\n",
    "    A = randn(k, k) / k\n",
    "    P_AP_A = doubN_k*kron(Id_k, A'A)*doubN_k\n",
    "    mon_para = (P_BP_B - P_AP_A)\n",
    "    push!(eigmins, eigvals(mon_para)[1])\n",
    "end"
   ]
  },
  {
   "cell_type": "code",
   "execution_count": 9,
   "metadata": {},
   "outputs": [
    {
     "data": {
      "image/png": "[encoded data removed]",
      "image/svg+xml": "<?xml version=\"1.0\" encoding=\"utf-8\"?>\n<svg xmlns=\"http://www.w3.org/2000/svg\" xmlns:xlink=\"http://www.w3.org/1999/xlink\" width=\"600\" height=\"400\" viewBox=\"0 0 2400 1600\">\n<defs>\n  <clipPath id=\"clip350\">\n    <rect x=\"0\" y=\"0\" width=\"2400\" height=\"1600\"/>\n  </clipPath>\n</defs>\n<path clip-path=\"url(#clip350)\" d=\"\nM0 1600 L2400 1600 L2400 0 L0 0  Z\n  \" fill=\"#ffffff\" fill-rule=\"evenodd\" fill-opacity=\"1\"/>\n<defs>\n  <clipPath id=\"clip351\">\n    <rect x=\"480\" y=\"0\" width=\"1681\" height=\"1600\"/>\n  </clipPath>\n</defs>\n<path clip-path=\"url(#clip350)\" d=\"\nM140.696 1486.45 L2352.76 1486.45 L2352.76 47.2441 L140.696 47.2441  Z\n  \" fill=\"#ffffff\" fill-rule=\"evenodd\" fill-opacity=\"1\"/>\n<defs>\n  <clipPath id=\"clip352\">\n    <rect x=\"140\" y=\"47\" width=\"2213\" height=\"1440\"/>\n  </clipPath>\n</defs>\n<polyline clip-path=\"url(#clip352)\" style=\"stroke:#000000; stroke-linecap:butt; stroke-linejoin:round; stroke-width:2; stroke-opacity:0.1; fill:none\" points=\"\n  543.609,1486.45 543.609,47.2441 \n  \"/>\n<polyline clip-path=\"url(#clip352)\" style=\"stroke:#000000; stroke-linecap:butt; stroke-linejoin:round; stroke-width:2; stroke-opacity:0.1; fill:none\" points=\"\n  1106.1,1486.45 1106.1,47.2441 \n  \"/>\n<polyline clip-path=\"url(#clip352)\" style=\"stroke:#000000; stroke-linecap:butt; stroke-linejoin:round; stroke-width:2; stroke-opacity:0.1; fill:none\" points=\"\n  1668.6,1486.45 1668.6,47.2441 \n  \"/>\n<polyline clip-path=\"url(#clip352)\" style=\"stroke:#000000; stroke-linecap:butt; stroke-linejoin:round; stroke-width:2; stroke-opacity:0.1; fill:none\" points=\"\n  2231.09,1486.45 2231.09,47.2441 \n  \"/>\n<polyline clip-path=\"url(#clip350)\" style=\"stroke:#000000; stroke-linecap:butt; stroke-linejoin:round; stroke-width:4; stroke-opacity:1; fill:none\" points=\"\n  140.696,1486.45 2352.76,1486.45 \n  \"/>\n<polyline clip-path=\"url(#clip350)\" style=\"stroke:#000000; stroke-linecap:butt; stroke-linejoin:round; stroke-width:4; stroke-opacity:1; fill:none\" points=\"\n  543.609,1486.45 543.609,1467.55 \n  \"/>\n<polyline clip-path=\"url(#clip350)\" style=\"stroke:#000000; stroke-linecap:butt; stroke-linejoin:round; stroke-width:4; stroke-opacity:1; fill:none\" points=\"\n  1106.1,1486.45 1106.1,1467.55 \n  \"/>\n<polyline clip-path=\"url(#clip350)\" style=\"stroke:#000000; stroke-linecap:butt; stroke-linejoin:round; stroke-width:4; stroke-opacity:1; fill:none\" points=\"\n  1668.6,1486.45 1668.6,1467.55 \n  \"/>\n<polyline clip-path=\"url(#clip350)\" style=\"stroke:#000000; stroke-linecap:butt; stroke-linejoin:round; stroke-width:4; stroke-opacity:1; fill:none\" points=\"\n  2231.09,1486.45 2231.09,1467.55 \n  \"/>\n<path clip-path=\"url(#clip350)\" d=\"M512.672 1532.02 L542.348 1532.02 L542.348 1535.95 L512.672 1535.95 L512.672 1532.02 Z\" fill=\"#000000\" fill-rule=\"evenodd\" fill-opacity=\"1\" /><path clip-path=\"url(#clip350)\" d=\"M563.019 1529.7 Q559.871 1529.7 558.019 1531.86 Q556.19 1534.01 556.19 1537.76 Q556.19 1541.49 558.019 1543.66 Q559.871 1545.82 563.019 1545.82 Q566.167 1545.82 567.996 1543.66 Q569.848 1541.49 569.848 1537.76 Q569.848 1534.01 567.996 1531.86 Q566.167 1529.7 563.019 1529.7 M572.301 1515.05 L572.301 1519.31 Q570.542 1518.48 568.737 1518.04 Q566.954 1517.6 565.195 1517.6 Q560.565 1517.6 558.112 1520.72 Q555.681 1523.85 555.334 1530.17 Q556.7 1528.15 558.76 1527.09 Q560.82 1526 563.297 1526 Q568.505 1526 571.514 1529.17 Q574.547 1532.32 574.547 1537.76 Q574.547 1543.08 571.399 1546.3 Q568.25 1549.52 563.019 1549.52 Q557.024 1549.52 553.852 1544.94 Q550.681 1540.33 550.681 1531.6 Q550.681 1523.41 554.57 1518.55 Q558.459 1513.66 565.01 1513.66 Q566.769 1513.66 568.551 1514.01 Q570.357 1514.36 572.301 1515.05 Z\" fill=\"#000000\" fill-rule=\"evenodd\" fill-opacity=\"1\" /><path clip-path=\"url(#clip350)\" d=\"M1075 1532.02 L1104.68 1532.02 L1104.68 1535.95 L1075 1535.95 L1075 1532.02 Z\" fill=\"#000000\" fill-rule=\"evenodd\" fill-opacity=\"1\" /><path clip-path=\"url(#clip350)\" d=\"M1127.62 1518.36 L1115.81 1536.81 L1127.62 1536.81 L1127.62 1518.36 M1126.39 1514.29 L1132.27 1514.29 L1132.27 1536.81 L1137.2 1536.81 L1137.2 1540.7 L1132.27 1540.7 L1132.27 1548.85 L1127.62 1548.85 L1127.62 1540.7 L1112.02 1540.7 L1112.02 1536.19 L1126.39 1514.29 Z\" fill=\"#000000\" fill-rule=\"evenodd\" fill-opacity=\"1\" /><path clip-path=\"url(#clip350)\" d=\"M1638.54 1532.02 L1668.21 1532.02 L1668.21 1535.95 L1638.54 1535.95 L1638.54 1532.02 Z\" fill=\"#000000\" fill-rule=\"evenodd\" fill-opacity=\"1\" /><path clip-path=\"url(#clip350)\" d=\"M1682.33 1544.91 L1698.65 1544.91 L1698.65 1548.85 L1676.71 1548.85 L1676.71 1544.91 Q1679.37 1542.16 1683.95 1537.53 Q1688.56 1532.88 1689.74 1531.53 Q1691.99 1529.01 1692.87 1527.27 Q1693.77 1525.51 1693.77 1523.82 Q1693.77 1521.07 1691.82 1519.33 Q1689.9 1517.6 1686.8 1517.6 Q1684.6 1517.6 1682.15 1518.36 Q1679.72 1519.13 1676.94 1520.68 L1676.94 1515.95 Q1679.76 1514.82 1682.22 1514.24 Q1684.67 1513.66 1686.71 1513.66 Q1692.08 1513.66 1695.27 1516.35 Q1698.47 1519.03 1698.47 1523.52 Q1698.47 1525.65 1697.66 1527.57 Q1696.87 1529.47 1694.76 1532.07 Q1694.19 1532.74 1691.08 1535.95 Q1687.98 1539.15 1682.33 1544.91 Z\" fill=\"#000000\" fill-rule=\"evenodd\" fill-opacity=\"1\" /><path clip-path=\"url(#clip350)\" d=\"M2231.09 1517.37 Q2227.48 1517.37 2225.65 1520.93 Q2223.84 1524.47 2223.84 1531.6 Q2223.84 1538.71 2225.65 1542.27 Q2227.48 1545.82 2231.09 1545.82 Q2234.72 1545.82 2236.53 1542.27 Q2238.36 1538.71 2238.36 1531.6 Q2238.36 1524.47 2236.53 1520.93 Q2234.72 1517.37 2231.09 1517.37 M2231.09 1513.66 Q2236.9 1513.66 2239.95 1518.27 Q2243.03 1522.85 2243.03 1531.6 Q2243.03 1540.33 2239.95 1544.94 Q2236.9 1549.52 2231.09 1549.52 Q2225.28 1549.52 2222.2 1544.94 Q2219.14 1540.33 2219.14 1531.6 Q2219.14 1522.85 2222.2 1518.27 Q2225.28 1513.66 2231.09 1513.66 Z\" fill=\"#000000\" fill-rule=\"evenodd\" fill-opacity=\"1\" /><polyline clip-path=\"url(#clip352)\" style=\"stroke:#000000; stroke-linecap:butt; stroke-linejoin:round; stroke-width:2; stroke-opacity:0.1; fill:none\" points=\"\n  140.696,1445.72 2352.76,1445.72 \n  \"/>\n<polyline clip-path=\"url(#clip352)\" style=\"stroke:#000000; stroke-linecap:butt; stroke-linejoin:round; stroke-width:2; stroke-opacity:0.1; fill:none\" points=\"\n  140.696,1203.26 2352.76,1203.26 \n  \"/>\n<polyline clip-path=\"url(#clip352)\" style=\"stroke:#000000; stroke-linecap:butt; stroke-linejoin:round; stroke-width:2; stroke-opacity:0.1; fill:none\" points=\"\n  140.696,960.809 2352.76,960.809 \n  \"/>\n<polyline clip-path=\"url(#clip352)\" style=\"stroke:#000000; stroke-linecap:butt; stroke-linejoin:round; stroke-width:2; stroke-opacity:0.1; fill:none\" points=\"\n  140.696,718.355 2352.76,718.355 \n  \"/>\n<polyline clip-path=\"url(#clip352)\" style=\"stroke:#000000; stroke-linecap:butt; stroke-linejoin:round; stroke-width:2; stroke-opacity:0.1; fill:none\" points=\"\n  140.696,475.902 2352.76,475.902 \n  \"/>\n<polyline clip-path=\"url(#clip352)\" style=\"stroke:#000000; stroke-linecap:butt; stroke-linejoin:round; stroke-width:2; stroke-opacity:0.1; fill:none\" points=\"\n  140.696,233.448 2352.76,233.448 \n  \"/>\n<polyline clip-path=\"url(#clip350)\" style=\"stroke:#000000; stroke-linecap:butt; stroke-linejoin:round; stroke-width:4; stroke-opacity:1; fill:none\" points=\"\n  140.696,1486.45 140.696,47.2441 \n  \"/>\n<polyline clip-path=\"url(#clip350)\" style=\"stroke:#000000; stroke-linecap:butt; stroke-linejoin:round; stroke-width:4; stroke-opacity:1; fill:none\" points=\"\n  140.696,1445.72 159.593,1445.72 \n  \"/>\n<polyline clip-path=\"url(#clip350)\" style=\"stroke:#000000; stroke-linecap:butt; stroke-linejoin:round; stroke-width:4; stroke-opacity:1; fill:none\" points=\"\n  140.696,1203.26 159.593,1203.26 \n  \"/>\n<polyline clip-path=\"url(#clip350)\" style=\"stroke:#000000; stroke-linecap:butt; stroke-linejoin:round; stroke-width:4; stroke-opacity:1; fill:none\" points=\"\n  140.696,960.809 159.593,960.809 \n  \"/>\n<polyline clip-path=\"url(#clip350)\" style=\"stroke:#000000; stroke-linecap:butt; stroke-linejoin:round; stroke-width:4; stroke-opacity:1; fill:none\" points=\"\n  140.696,718.355 159.593,718.355 \n  \"/>\n<polyline clip-path=\"url(#clip350)\" style=\"stroke:#000000; stroke-linecap:butt; stroke-linejoin:round; stroke-width:4; stroke-opacity:1; fill:none\" points=\"\n  140.696,475.902 159.593,475.902 \n  \"/>\n<polyline clip-path=\"url(#clip350)\" style=\"stroke:#000000; stroke-linecap:butt; stroke-linejoin:round; stroke-width:4; stroke-opacity:1; fill:none\" points=\"\n  140.696,233.448 159.593,233.448 \n  \"/>\n<path clip-path=\"url(#clip350)\" d=\"M92.7512 1431.51 Q89.1401 1431.51 87.3114 1435.08 Q85.5058 1438.62 85.5058 1445.75 Q85.5058 1452.86 87.3114 1456.42 Q89.1401 1459.96 92.7512 1459.96 Q96.3854 1459.96 98.1909 1456.42 Q100.02 1452.86 100.02 1445.75 Q100.02 1438.62 98.1909 1435.08 Q96.3854 1431.51 92.7512 1431.51 M92.7512 1427.81 Q98.5613 1427.81 101.617 1432.42 Q104.696 1437 104.696 1445.75 Q104.696 1454.48 101.617 1459.08 Q98.5613 1463.67 92.7512 1463.67 Q86.941 1463.67 83.8623 1459.08 Q80.8068 1454.48 80.8068 1445.75 Q80.8068 1437 83.8623 1432.42 Q86.941 1427.81 92.7512 1427.81 Z\" fill=\"#000000\" fill-rule=\"evenodd\" fill-opacity=\"1\" /><path clip-path=\"url(#clip350)\" d=\"M83.7929 1185.98 L102.149 1185.98 L102.149 1189.92 L88.0753 1189.92 L88.0753 1198.39 Q89.0938 1198.04 90.1123 1197.88 Q91.1308 1197.7 92.1493 1197.7 Q97.9363 1197.7 101.316 1200.87 Q104.696 1204.04 104.696 1209.45 Q104.696 1215.03 101.223 1218.13 Q97.7511 1221.21 91.4317 1221.21 Q89.2558 1221.21 86.9873 1220.84 Q84.7419 1220.47 82.3346 1219.73 L82.3346 1215.03 Q84.4179 1216.17 86.6401 1216.72 Q88.8623 1217.28 91.3391 1217.28 Q95.3437 1217.28 97.6817 1215.17 Q100.02 1213.07 100.02 1209.45 Q100.02 1205.84 97.6817 1203.74 Q95.3437 1201.63 91.3391 1201.63 Q89.4641 1201.63 87.5892 1202.05 Q85.7373 1202.46 83.7929 1203.34 L83.7929 1185.98 Z\" fill=\"#000000\" fill-rule=\"evenodd\" fill-opacity=\"1\" /><path clip-path=\"url(#clip350)\" d=\"M53.3995 974.154 L61.0384 974.154 L61.0384 947.788 L52.7282 949.455 L52.7282 945.195 L60.9921 943.529 L65.668 943.529 L65.668 974.154 L73.3068 974.154 L73.3068 978.089 L53.3995 978.089 L53.3995 974.154 Z\" fill=\"#000000\" fill-rule=\"evenodd\" fill-opacity=\"1\" /><path clip-path=\"url(#clip350)\" d=\"M92.7512 946.607 Q89.1401 946.607 87.3114 950.172 Q85.5058 953.714 85.5058 960.843 Q85.5058 967.95 87.3114 971.515 Q89.1401 975.056 92.7512 975.056 Q96.3854 975.056 98.1909 971.515 Q100.02 967.95 100.02 960.843 Q100.02 953.714 98.1909 950.172 Q96.3854 946.607 92.7512 946.607 M92.7512 942.904 Q98.5613 942.904 101.617 947.51 Q104.696 952.094 104.696 960.843 Q104.696 969.57 101.617 974.177 Q98.5613 978.76 92.7512 978.76 Q86.941 978.76 83.8623 974.177 Q80.8068 969.57 80.8068 960.843 Q80.8068 952.094 83.8623 947.51 Q86.941 942.904 92.7512 942.904 Z\" fill=\"#000000\" fill-rule=\"evenodd\" fill-opacity=\"1\" /><path clip-path=\"url(#clip350)\" d=\"M54.3949 731.7 L62.0337 731.7 L62.0337 705.335 L53.7236 707.001 L53.7236 702.742 L61.9874 701.075 L66.6633 701.075 L66.6633 731.7 L74.3022 731.7 L74.3022 735.635 L54.3949 735.635 L54.3949 731.7 Z\" fill=\"#000000\" fill-rule=\"evenodd\" fill-opacity=\"1\" /><path clip-path=\"url(#clip350)\" d=\"M83.7929 701.075 L102.149 701.075 L102.149 705.01 L88.0753 705.01 L88.0753 713.483 Q89.0938 713.135 90.1123 712.973 Q91.1308 712.788 92.1493 712.788 Q97.9363 712.788 101.316 715.959 Q104.696 719.131 104.696 724.547 Q104.696 730.126 101.223 733.228 Q97.7511 736.307 91.4317 736.307 Q89.2558 736.307 86.9873 735.936 Q84.7419 735.566 82.3346 734.825 L82.3346 730.126 Q84.4179 731.26 86.6401 731.816 Q88.8623 732.371 91.3391 732.371 Q95.3437 732.371 97.6817 730.265 Q100.02 728.158 100.02 724.547 Q100.02 720.936 97.6817 718.83 Q95.3437 716.723 91.3391 716.723 Q89.4641 716.723 87.5892 717.14 Q85.7373 717.557 83.7929 718.436 L83.7929 701.075 Z\" fill=\"#000000\" fill-rule=\"evenodd\" fill-opacity=\"1\" /><path clip-path=\"url(#clip350)\" d=\"M56.6171 489.247 L72.9365 489.247 L72.9365 493.182 L50.9921 493.182 L50.9921 489.247 Q53.6541 486.492 58.2375 481.862 Q62.8439 477.21 64.0245 475.867 Q66.2698 473.344 67.1494 471.608 Q68.0522 469.849 68.0522 468.159 Q68.0522 465.404 66.1078 463.668 Q64.1865 461.932 61.0847 461.932 Q58.8856 461.932 56.4319 462.696 Q54.0014 463.46 51.2236 465.011 L51.2236 460.288 Q54.0477 459.154 56.5014 458.576 Q58.955 457.997 60.9921 457.997 Q66.3624 457.997 69.5568 460.682 Q72.7513 463.367 72.7513 467.858 Q72.7513 469.988 71.9411 471.909 Q71.1541 473.807 69.0476 476.4 Q68.4689 477.071 65.367 480.288 Q62.2652 483.483 56.6171 489.247 Z\" fill=\"#000000\" fill-rule=\"evenodd\" fill-opacity=\"1\" /><path clip-path=\"url(#clip350)\" d=\"M92.7512 461.701 Q89.1401 461.701 87.3114 465.265 Q85.5058 468.807 85.5058 475.937 Q85.5058 483.043 87.3114 486.608 Q89.1401 490.149 92.7512 490.149 Q96.3854 490.149 98.1909 486.608 Q100.02 483.043 100.02 475.937 Q100.02 468.807 98.1909 465.265 Q96.3854 461.701 92.7512 461.701 M92.7512 457.997 Q98.5613 457.997 101.617 462.603 Q104.696 467.187 104.696 475.937 Q104.696 484.663 101.617 489.27 Q98.5613 493.853 92.7512 493.853 Q86.941 493.853 83.8623 489.27 Q80.8068 484.663 80.8068 475.937 Q80.8068 467.187 83.8623 462.603 Q86.941 457.997 92.7512 457.997 Z\" fill=\"#000000\" fill-rule=\"evenodd\" fill-opacity=\"1\" /><path clip-path=\"url(#clip350)\" d=\"M57.6125 246.793 L73.9318 246.793 L73.9318 250.728 L51.9875 250.728 L51.9875 246.793 Q54.6495 244.039 59.2328 239.409 Q63.8393 234.756 65.0198 233.414 Q67.2652 230.891 68.1448 229.154 Q69.0476 227.395 69.0476 225.705 Q69.0476 222.951 67.1032 221.215 Q65.1819 219.479 62.08 219.479 Q59.881 219.479 57.4273 220.242 Q54.9967 221.006 52.219 222.557 L52.219 217.835 Q55.043 216.701 57.4967 216.122 Q59.9504 215.543 61.9874 215.543 Q67.3578 215.543 70.5522 218.229 Q73.7466 220.914 73.7466 225.404 Q73.7466 227.534 72.9365 229.455 Q72.1494 231.353 70.0429 233.946 Q69.4642 234.617 66.3624 237.835 Q63.2606 241.029 57.6125 246.793 Z\" fill=\"#000000\" fill-rule=\"evenodd\" fill-opacity=\"1\" /><path clip-path=\"url(#clip350)\" d=\"M83.7929 216.168 L102.149 216.168 L102.149 220.104 L88.0753 220.104 L88.0753 228.576 Q89.0938 228.228 90.1123 228.066 Q91.1308 227.881 92.1493 227.881 Q97.9363 227.881 101.316 231.053 Q104.696 234.224 104.696 239.64 Q104.696 245.219 101.223 248.321 Q97.7511 251.4 91.4317 251.4 Q89.2558 251.4 86.9873 251.029 Q84.7419 250.659 82.3346 249.918 L82.3346 245.219 Q84.4179 246.353 86.6401 246.909 Q88.8623 247.464 91.3391 247.464 Q95.3437 247.464 97.6817 245.358 Q100.02 243.252 100.02 239.64 Q100.02 236.029 97.6817 233.923 Q95.3437 231.816 91.3391 231.816 Q89.4641 231.816 87.5892 232.233 Q85.7373 232.65 83.7929 233.529 L83.7929 216.168 Z\" fill=\"#000000\" fill-rule=\"evenodd\" fill-opacity=\"1\" /><path clip-path=\"url(#clip352)\" d=\"\nM262.363 1348.73 L262.363 1445.72 L543.609 1445.72 L543.609 1348.73 L262.363 1348.73 L262.363 1348.73  Z\n  \" fill=\"#009af9\" fill-rule=\"evenodd\" fill-opacity=\"1\"/>\n<polyline clip-path=\"url(#clip352)\" style=\"stroke:#000000; stroke-linecap:butt; stroke-linejoin:round; stroke-width:4; stroke-opacity:1; fill:none\" points=\"\n  262.363,1348.73 262.363,1445.72 543.609,1445.72 543.609,1348.73 262.363,1348.73 \n  \"/>\n<path clip-path=\"url(#clip352)\" d=\"\nM543.609 1300.24 L543.609 1445.72 L824.856 1445.72 L824.856 1300.24 L543.609 1300.24 L543.609 1300.24  Z\n  \" fill=\"#009af9\" fill-rule=\"evenodd\" fill-opacity=\"1\"/>\n<polyline clip-path=\"url(#clip352)\" style=\"stroke:#000000; stroke-linecap:butt; stroke-linejoin:round; stroke-width:4; stroke-opacity:1; fill:none\" points=\"\n  543.609,1300.24 543.609,1445.72 824.856,1445.72 824.856,1300.24 543.609,1300.24 \n  \"/>\n<path clip-path=\"url(#clip352)\" d=\"\nM824.856 960.809 L824.856 1445.72 L1106.1 1445.72 L1106.1 960.809 L824.856 960.809 L824.856 960.809  Z\n  \" fill=\"#009af9\" fill-rule=\"evenodd\" fill-opacity=\"1\"/>\n<polyline clip-path=\"url(#clip352)\" style=\"stroke:#000000; stroke-linecap:butt; stroke-linejoin:round; stroke-width:4; stroke-opacity:1; fill:none\" points=\"\n  824.856,960.809 824.856,1445.72 1106.1,1445.72 1106.1,960.809 824.856,960.809 \n  \"/>\n<path clip-path=\"url(#clip352)\" d=\"\nM1106.1 281.939 L1106.1 1445.72 L1387.35 1445.72 L1387.35 281.939 L1106.1 281.939 L1106.1 281.939  Z\n  \" fill=\"#009af9\" fill-rule=\"evenodd\" fill-opacity=\"1\"/>\n<polyline clip-path=\"url(#clip352)\" style=\"stroke:#000000; stroke-linecap:butt; stroke-linejoin:round; stroke-width:4; stroke-opacity:1; fill:none\" points=\"\n  1106.1,281.939 1106.1,1445.72 1387.35,1445.72 1387.35,281.939 1106.1,281.939 \n  \"/>\n<path clip-path=\"url(#clip352)\" d=\"\nM1387.35 136.467 L1387.35 1445.72 L1668.6 1445.72 L1668.6 136.467 L1387.35 136.467 L1387.35 136.467  Z\n  \" fill=\"#009af9\" fill-rule=\"evenodd\" fill-opacity=\"1\"/>\n<polyline clip-path=\"url(#clip352)\" style=\"stroke:#000000; stroke-linecap:butt; stroke-linejoin:round; stroke-width:4; stroke-opacity:1; fill:none\" points=\"\n  1387.35,136.467 1387.35,1445.72 1668.6,1445.72 1668.6,136.467 1387.35,136.467 \n  \"/>\n<path clip-path=\"url(#clip352)\" d=\"\nM1668.6 87.9763 L1668.6 1445.72 L1949.84 1445.72 L1949.84 87.9763 L1668.6 87.9763 L1668.6 87.9763  Z\n  \" fill=\"#009af9\" fill-rule=\"evenodd\" fill-opacity=\"1\"/>\n<polyline clip-path=\"url(#clip352)\" style=\"stroke:#000000; stroke-linecap:butt; stroke-linejoin:round; stroke-width:4; stroke-opacity:1; fill:none\" points=\"\n  1668.6,87.9763 1668.6,1445.72 1949.84,1445.72 1949.84,87.9763 1668.6,87.9763 \n  \"/>\n<path clip-path=\"url(#clip352)\" d=\"\nM1949.84 1154.77 L1949.84 1445.72 L2231.09 1445.72 L2231.09 1154.77 L1949.84 1154.77 L1949.84 1154.77  Z\n  \" fill=\"#009af9\" fill-rule=\"evenodd\" fill-opacity=\"1\"/>\n<polyline clip-path=\"url(#clip352)\" style=\"stroke:#000000; stroke-linecap:butt; stroke-linejoin:round; stroke-width:4; stroke-opacity:1; fill:none\" points=\"\n  1949.84,1154.77 1949.84,1445.72 2231.09,1445.72 2231.09,1154.77 1949.84,1154.77 \n  \"/>\n<circle clip-path=\"url(#clip352)\" style=\"fill:#009af9; stroke:none; fill-opacity:0\" cx=\"402.986\" cy=\"1348.73\" r=\"2\"/>\n<circle clip-path=\"url(#clip352)\" style=\"fill:#009af9; stroke:none; fill-opacity:0\" cx=\"684.233\" cy=\"1300.24\" r=\"2\"/>\n<circle clip-path=\"url(#clip352)\" style=\"fill:#009af9; stroke:none; fill-opacity:0\" cx=\"965.479\" cy=\"960.809\" r=\"2\"/>\n<circle clip-path=\"url(#clip352)\" style=\"fill:#009af9; stroke:none; fill-opacity:0\" cx=\"1246.73\" cy=\"281.939\" r=\"2\"/>\n<circle clip-path=\"url(#clip352)\" style=\"fill:#009af9; stroke:none; fill-opacity:0\" cx=\"1527.97\" cy=\"136.467\" r=\"2\"/>\n<circle clip-path=\"url(#clip352)\" style=\"fill:#009af9; stroke:none; fill-opacity:0\" cx=\"1809.22\" cy=\"87.9763\" r=\"2\"/>\n<circle clip-path=\"url(#clip352)\" style=\"fill:#009af9; stroke:none; fill-opacity:0\" cx=\"2090.47\" cy=\"1154.77\" r=\"2\"/>\n<path clip-path=\"url(#clip350)\" d=\"\nM1980.81 198.898 L2279.02 198.898 L2279.02 95.2176 L1980.81 95.2176  Z\n  \" fill=\"#ffffff\" fill-rule=\"evenodd\" fill-opacity=\"1\"/>\n<polyline clip-path=\"url(#clip350)\" style=\"stroke:#000000; stroke-linecap:butt; stroke-linejoin:round; stroke-width:4; stroke-opacity:1; fill:none\" points=\"\n  1980.81,198.898 2279.02,198.898 2279.02,95.2176 1980.81,95.2176 1980.81,198.898 \n  \"/>\n<path clip-path=\"url(#clip350)\" d=\"\nM2005.38 167.794 L2152.85 167.794 L2152.85 126.322 L2005.38 126.322 L2005.38 167.794  Z\n  \" fill=\"#009af9\" fill-rule=\"evenodd\" fill-opacity=\"1\"/>\n<polyline clip-path=\"url(#clip350)\" style=\"stroke:#000000; stroke-linecap:butt; stroke-linejoin:round; stroke-width:4; stroke-opacity:1; fill:none\" points=\"\n  2005.38,167.794 2152.85,167.794 2152.85,126.322 2005.38,126.322 2005.38,167.794 \n  \"/>\n<path clip-path=\"url(#clip350)\" d=\"M2191.28 166.745 Q2189.47 171.375 2187.76 172.787 Q2186.04 174.199 2183.17 174.199 L2179.77 174.199 L2179.77 170.634 L2182.27 170.634 Q2184.03 170.634 2185 169.8 Q2185.98 168.967 2187.16 165.865 L2187.92 163.921 L2177.43 138.412 L2181.95 138.412 L2190.05 158.689 L2198.15 138.412 L2202.66 138.412 L2191.28 166.745 Z\" fill=\"#000000\" fill-rule=\"evenodd\" fill-opacity=\"1\" /><path clip-path=\"url(#clip350)\" d=\"M2209.96 160.402 L2217.6 160.402 L2217.6 134.037 L2209.29 135.703 L2209.29 131.444 L2217.55 129.778 L2222.22 129.778 L2222.22 160.402 L2229.86 160.402 L2229.86 164.338 L2209.96 164.338 L2209.96 160.402 Z\" fill=\"#000000\" fill-rule=\"evenodd\" fill-opacity=\"1\" /></svg>\n",
      "text/html": [
       "<?xml version=\"1.0\" encoding=\"utf-8\"?>\n",
       "<svg xmlns=\"http://www.w3.org/2000/svg\" xmlns:xlink=\"http://www.w3.org/1999/xlink\" width=\"600\" height=\"400\" viewBox=\"0 0 2400 1600\">\n",
       "<defs>\n",
       "  <clipPath id=\"clip400\">\n",
       "    <rect x=\"0\" y=\"0\" width=\"2400\" height=\"1600\"/>\n",
       "  </clipPath>\n",
       "</defs>\n",
       "<path clip-path=\"url(#clip400)\" d=\"\n",
       "M0 1600 L2400 1600 L2400 0 L0 0  Z\n",
       "  \" fill=\"#ffffff\" fill-rule=\"evenodd\" fill-opacity=\"1\"/>\n",
       "<defs>\n",
       "  <clipPath id=\"clip401\">\n",
       "    <rect x=\"480\" y=\"0\" width=\"1681\" height=\"1600\"/>\n",
       "  </clipPath>\n",
       "</defs>\n",
       "<path clip-path=\"url(#clip400)\" d=\"\n",
       "M140.696 1486.45 L2352.76 1486.45 L2352.76 47.2441 L140.696 47.2441  Z\n",
       "  \" fill=\"#ffffff\" fill-rule=\"evenodd\" fill-opacity=\"1\"/>\n",
       "<defs>\n",
       "  <clipPath id=\"clip402\">\n",
       "    <rect x=\"140\" y=\"47\" width=\"2213\" height=\"1440\"/>\n",
       "  </clipPath>\n",
       "</defs>\n",
       "<polyline clip-path=\"url(#clip402)\" style=\"stroke:#000000; stroke-linecap:butt; stroke-linejoin:round; stroke-width:2; stroke-opacity:0.1; fill:none\" points=\"\n",
       "  543.609,1486.45 543.609,47.2441 \n",
       "  \"/>\n",
       "<polyline clip-path=\"url(#clip402)\" style=\"stroke:#000000; stroke-linecap:butt; stroke-linejoin:round; stroke-width:2; stroke-opacity:0.1; fill:none\" points=\"\n",
       "  1106.1,1486.45 1106.1,47.2441 \n",
       "  \"/>\n",
       "<polyline clip-path=\"url(#clip402)\" style=\"stroke:#000000; stroke-linecap:butt; stroke-linejoin:round; stroke-width:2; stroke-opacity:0.1; fill:none\" points=\"\n",
       "  1668.6,1486.45 1668.6,47.2441 \n",
       "  \"/>\n",
       "<polyline clip-path=\"url(#clip402)\" style=\"stroke:#000000; stroke-linecap:butt; stroke-linejoin:round; stroke-width:2; stroke-opacity:0.1; fill:none\" points=\"\n",
       "  2231.09,1486.45 2231.09,47.2441 \n",
       "  \"/>\n",
       "<polyline clip-path=\"url(#clip400)\" style=\"stroke:#000000; stroke-linecap:butt; stroke-linejoin:round; stroke-width:4; stroke-opacity:1; fill:none\" points=\"\n",
       "  140.696,1486.45 2352.76,1486.45 \n",
       "  \"/>\n",
       "<polyline clip-path=\"url(#clip400)\" style=\"stroke:#000000; stroke-linecap:butt; stroke-linejoin:round; stroke-width:4; stroke-opacity:1; fill:none\" points=\"\n",
       "  543.609,1486.45 543.609,1467.55 \n",
       "  \"/>\n",
       "<polyline clip-path=\"url(#clip400)\" style=\"stroke:#000000; stroke-linecap:butt; stroke-linejoin:round; stroke-width:4; stroke-opacity:1; fill:none\" points=\"\n",
       "  1106.1,1486.45 1106.1,1467.55 \n",
       "  \"/>\n",
       "<polyline clip-path=\"url(#clip400)\" style=\"stroke:#000000; stroke-linecap:butt; stroke-linejoin:round; stroke-width:4; stroke-opacity:1; fill:none\" points=\"\n",
       "  1668.6,1486.45 1668.6,1467.55 \n",
       "  \"/>\n",
       "<polyline clip-path=\"url(#clip400)\" style=\"stroke:#000000; stroke-linecap:butt; stroke-linejoin:round; stroke-width:4; stroke-opacity:1; fill:none\" points=\"\n",
       "  2231.09,1486.45 2231.09,1467.55 \n",
       "  \"/>\n",
       "<path clip-path=\"url(#clip400)\" d=\"M512.672 1532.02 L542.348 1532.02 L542.348 1535.95 L512.672 1535.95 L512.672 1532.02 Z\" fill=\"#000000\" fill-rule=\"evenodd\" fill-opacity=\"1\" /><path clip-path=\"url(#clip400)\" d=\"M563.019 1529.7 Q559.871 1529.7 558.019 1531.86 Q556.19 1534.01 556.19 1537.76 Q556.19 1541.49 558.019 1543.66 Q559.871 1545.82 563.019 1545.82 Q566.167 1545.82 567.996 1543.66 Q569.848 1541.49 569.848 1537.76 Q569.848 1534.01 567.996 1531.86 Q566.167 1529.7 563.019 1529.7 M572.301 1515.05 L572.301 1519.31 Q570.542 1518.48 568.737 1518.04 Q566.954 1517.6 565.195 1517.6 Q560.565 1517.6 558.112 1520.72 Q555.681 1523.85 555.334 1530.17 Q556.7 1528.15 558.76 1527.09 Q560.82 1526 563.297 1526 Q568.505 1526 571.514 1529.17 Q574.547 1532.32 574.547 1537.76 Q574.547 1543.08 571.399 1546.3 Q568.25 1549.52 563.019 1549.52 Q557.024 1549.52 553.852 1544.94 Q550.681 1540.33 550.681 1531.6 Q550.681 1523.41 554.57 1518.55 Q558.459 1513.66 565.01 1513.66 Q566.769 1513.66 568.551 1514.01 Q570.357 1514.36 572.301 1515.05 Z\" fill=\"#000000\" fill-rule=\"evenodd\" fill-opacity=\"1\" /><path clip-path=\"url(#clip400)\" d=\"M1075 1532.02 L1104.68 1532.02 L1104.68 1535.95 L1075 1535.95 L1075 1532.02 Z\" fill=\"#000000\" fill-rule=\"evenodd\" fill-opacity=\"1\" /><path clip-path=\"url(#clip400)\" d=\"M1127.62 1518.36 L1115.81 1536.81 L1127.62 1536.81 L1127.62 1518.36 M1126.39 1514.29 L1132.27 1514.29 L1132.27 1536.81 L1137.2 1536.81 L1137.2 1540.7 L1132.27 1540.7 L1132.27 1548.85 L1127.62 1548.85 L1127.62 1540.7 L1112.02 1540.7 L1112.02 1536.19 L1126.39 1514.29 Z\" fill=\"#000000\" fill-rule=\"evenodd\" fill-opacity=\"1\" /><path clip-path=\"url(#clip400)\" d=\"M1638.54 1532.02 L1668.21 1532.02 L1668.21 1535.95 L1638.54 1535.95 L1638.54 1532.02 Z\" fill=\"#000000\" fill-rule=\"evenodd\" fill-opacity=\"1\" /><path clip-path=\"url(#clip400)\" d=\"M1682.33 1544.91 L1698.65 1544.91 L1698.65 1548.85 L1676.71 1548.85 L1676.71 1544.91 Q1679.37 1542.16 1683.95 1537.53 Q1688.56 1532.88 1689.74 1531.53 Q1691.99 1529.01 1692.87 1527.27 Q1693.77 1525.51 1693.77 1523.82 Q1693.77 1521.07 1691.82 1519.33 Q1689.9 1517.6 1686.8 1517.6 Q1684.6 1517.6 1682.15 1518.36 Q1679.72 1519.13 1676.94 1520.68 L1676.94 1515.95 Q1679.76 1514.82 1682.22 1514.24 Q1684.67 1513.66 1686.71 1513.66 Q1692.08 1513.66 1695.27 1516.35 Q1698.47 1519.03 1698.47 1523.52 Q1698.47 1525.65 1697.66 1527.57 Q1696.87 1529.47 1694.76 1532.07 Q1694.19 1532.74 1691.08 1535.95 Q1687.98 1539.15 1682.33 1544.91 Z\" fill=\"#000000\" fill-rule=\"evenodd\" fill-opacity=\"1\" /><path clip-path=\"url(#clip400)\" d=\"M2231.09 1517.37 Q2227.48 1517.37 2225.65 1520.93 Q2223.84 1524.47 2223.84 1531.6 Q2223.84 1538.71 2225.65 1542.27 Q2227.48 1545.82 2231.09 1545.82 Q2234.72 1545.82 2236.53 1542.27 Q2238.36 1538.71 2238.36 1531.6 Q2238.36 1524.47 2236.53 1520.93 Q2234.72 1517.37 2231.09 1517.37 M2231.09 1513.66 Q2236.9 1513.66 2239.95 1518.27 Q2243.03 1522.85 2243.03 1531.6 Q2243.03 1540.33 2239.95 1544.94 Q2236.9 1549.52 2231.09 1549.52 Q2225.28 1549.52 2222.2 1544.94 Q2219.14 1540.33 2219.14 1531.6 Q2219.14 1522.85 2222.2 1518.27 Q2225.28 1513.66 2231.09 1513.66 Z\" fill=\"#000000\" fill-rule=\"evenodd\" fill-opacity=\"1\" /><polyline clip-path=\"url(#clip402)\" style=\"stroke:#000000; stroke-linecap:butt; stroke-linejoin:round; stroke-width:2; stroke-opacity:0.1; fill:none\" points=\"\n",
       "  140.696,1445.72 2352.76,1445.72 \n",
       "  \"/>\n",
       "<polyline clip-path=\"url(#clip402)\" style=\"stroke:#000000; stroke-linecap:butt; stroke-linejoin:round; stroke-width:2; stroke-opacity:0.1; fill:none\" points=\"\n",
       "  140.696,1203.26 2352.76,1203.26 \n",
       "  \"/>\n",
       "<polyline clip-path=\"url(#clip402)\" style=\"stroke:#000000; stroke-linecap:butt; stroke-linejoin:round; stroke-width:2; stroke-opacity:0.1; fill:none\" points=\"\n",
       "  140.696,960.809 2352.76,960.809 \n",
       "  \"/>\n",
       "<polyline clip-path=\"url(#clip402)\" style=\"stroke:#000000; stroke-linecap:butt; stroke-linejoin:round; stroke-width:2; stroke-opacity:0.1; fill:none\" points=\"\n",
       "  140.696,718.355 2352.76,718.355 \n",
       "  \"/>\n",
       "<polyline clip-path=\"url(#clip402)\" style=\"stroke:#000000; stroke-linecap:butt; stroke-linejoin:round; stroke-width:2; stroke-opacity:0.1; fill:none\" points=\"\n",
       "  140.696,475.902 2352.76,475.902 \n",
       "  \"/>\n",
       "<polyline clip-path=\"url(#clip402)\" style=\"stroke:#000000; stroke-linecap:butt; stroke-linejoin:round; stroke-width:2; stroke-opacity:0.1; fill:none\" points=\"\n",
       "  140.696,233.448 2352.76,233.448 \n",
       "  \"/>\n",
       "<polyline clip-path=\"url(#clip400)\" style=\"stroke:#000000; stroke-linecap:butt; stroke-linejoin:round; stroke-width:4; stroke-opacity:1; fill:none\" points=\"\n",
       "  140.696,1486.45 140.696,47.2441 \n",
       "  \"/>\n",
       "<polyline clip-path=\"url(#clip400)\" style=\"stroke:#000000; stroke-linecap:butt; stroke-linejoin:round; stroke-width:4; stroke-opacity:1; fill:none\" points=\"\n",
       "  140.696,1445.72 159.593,1445.72 \n",
       "  \"/>\n",
       "<polyline clip-path=\"url(#clip400)\" style=\"stroke:#000000; stroke-linecap:butt; stroke-linejoin:round; stroke-width:4; stroke-opacity:1; fill:none\" points=\"\n",
       "  140.696,1203.26 159.593,1203.26 \n",
       "  \"/>\n",
       "<polyline clip-path=\"url(#clip400)\" style=\"stroke:#000000; stroke-linecap:butt; stroke-linejoin:round; stroke-width:4; stroke-opacity:1; fill:none\" points=\"\n",
       "  140.696,960.809 159.593,960.809 \n",
       "  \"/>\n",
       "<polyline clip-path=\"url(#clip400)\" style=\"stroke:#000000; stroke-linecap:butt; stroke-linejoin:round; stroke-width:4; stroke-opacity:1; fill:none\" points=\"\n",
       "  140.696,718.355 159.593,718.355 \n",
       "  \"/>\n",
       "<polyline clip-path=\"url(#clip400)\" style=\"stroke:#000000; stroke-linecap:butt; stroke-linejoin:round; stroke-width:4; stroke-opacity:1; fill:none\" points=\"\n",
       "  140.696,475.902 159.593,475.902 \n",
       "  \"/>\n",
       "<polyline clip-path=\"url(#clip400)\" style=\"stroke:#000000; stroke-linecap:butt; stroke-linejoin:round; stroke-width:4; stroke-opacity:1; fill:none\" points=\"\n",
       "  140.696,233.448 159.593,233.448 \n",
       "  \"/>\n",
       "<path clip-path=\"url(#clip400)\" d=\"M92.7512 1431.51 Q89.1401 1431.51 87.3114 1435.08 Q85.5058 1438.62 85.5058 1445.75 Q85.5058 1452.86 87.3114 1456.42 Q89.1401 1459.96 92.7512 1459.96 Q96.3854 1459.96 98.1909 1456.42 Q100.02 1452.86 100.02 1445.75 Q100.02 1438.62 98.1909 1435.08 Q96.3854 1431.51 92.7512 1431.51 M92.7512 1427.81 Q98.5613 1427.81 101.617 1432.42 Q104.696 1437 104.696 1445.75 Q104.696 1454.48 101.617 1459.08 Q98.5613 1463.67 92.7512 1463.67 Q86.941 1463.67 83.8623 1459.08 Q80.8068 1454.48 80.8068 1445.75 Q80.8068 1437 83.8623 1432.42 Q86.941 1427.81 92.7512 1427.81 Z\" fill=\"#000000\" fill-rule=\"evenodd\" fill-opacity=\"1\" /><path clip-path=\"url(#clip400)\" d=\"M83.7929 1185.98 L102.149 1185.98 L102.149 1189.92 L88.0753 1189.92 L88.0753 1198.39 Q89.0938 1198.04 90.1123 1197.88 Q91.1308 1197.7 92.1493 1197.7 Q97.9363 1197.7 101.316 1200.87 Q104.696 1204.04 104.696 1209.45 Q104.696 1215.03 101.223 1218.13 Q97.7511 1221.21 91.4317 1221.21 Q89.2558 1221.21 86.9873 1220.84 Q84.7419 1220.47 82.3346 1219.73 L82.3346 1215.03 Q84.4179 1216.17 86.6401 1216.72 Q88.8623 1217.28 91.3391 1217.28 Q95.3437 1217.28 97.6817 1215.17 Q100.02 1213.07 100.02 1209.45 Q100.02 1205.84 97.6817 1203.74 Q95.3437 1201.63 91.3391 1201.63 Q89.4641 1201.63 87.5892 1202.05 Q85.7373 1202.46 83.7929 1203.34 L83.7929 1185.98 Z\" fill=\"#000000\" fill-rule=\"evenodd\" fill-opacity=\"1\" /><path clip-path=\"url(#clip400)\" d=\"M53.3995 974.154 L61.0384 974.154 L61.0384 947.788 L52.7282 949.455 L52.7282 945.195 L60.9921 943.529 L65.668 943.529 L65.668 974.154 L73.3068 974.154 L73.3068 978.089 L53.3995 978.089 L53.3995 974.154 Z\" fill=\"#000000\" fill-rule=\"evenodd\" fill-opacity=\"1\" /><path clip-path=\"url(#clip400)\" d=\"M92.7512 946.607 Q89.1401 946.607 87.3114 950.172 Q85.5058 953.714 85.5058 960.843 Q85.5058 967.95 87.3114 971.515 Q89.1401 975.056 92.7512 975.056 Q96.3854 975.056 98.1909 971.515 Q100.02 967.95 100.02 960.843 Q100.02 953.714 98.1909 950.172 Q96.3854 946.607 92.7512 946.607 M92.7512 942.904 Q98.5613 942.904 101.617 947.51 Q104.696 952.094 104.696 960.843 Q104.696 969.57 101.617 974.177 Q98.5613 978.76 92.7512 978.76 Q86.941 978.76 83.8623 974.177 Q80.8068 969.57 80.8068 960.843 Q80.8068 952.094 83.8623 947.51 Q86.941 942.904 92.7512 942.904 Z\" fill=\"#000000\" fill-rule=\"evenodd\" fill-opacity=\"1\" /><path clip-path=\"url(#clip400)\" d=\"M54.3949 731.7 L62.0337 731.7 L62.0337 705.335 L53.7236 707.001 L53.7236 702.742 L61.9874 701.075 L66.6633 701.075 L66.6633 731.7 L74.3022 731.7 L74.3022 735.635 L54.3949 735.635 L54.3949 731.7 Z\" fill=\"#000000\" fill-rule=\"evenodd\" fill-opacity=\"1\" /><path clip-path=\"url(#clip400)\" d=\"M83.7929 701.075 L102.149 701.075 L102.149 705.01 L88.0753 705.01 L88.0753 713.483 Q89.0938 713.135 90.1123 712.973 Q91.1308 712.788 92.1493 712.788 Q97.9363 712.788 101.316 715.959 Q104.696 719.131 104.696 724.547 Q104.696 730.126 101.223 733.228 Q97.7511 736.307 91.4317 736.307 Q89.2558 736.307 86.9873 735.936 Q84.7419 735.566 82.3346 734.825 L82.3346 730.126 Q84.4179 731.26 86.6401 731.816 Q88.8623 732.371 91.3391 732.371 Q95.3437 732.371 97.6817 730.265 Q100.02 728.158 100.02 724.547 Q100.02 720.936 97.6817 718.83 Q95.3437 716.723 91.3391 716.723 Q89.4641 716.723 87.5892 717.14 Q85.7373 717.557 83.7929 718.436 L83.7929 701.075 Z\" fill=\"#000000\" fill-rule=\"evenodd\" fill-opacity=\"1\" /><path clip-path=\"url(#clip400)\" d=\"M56.6171 489.247 L72.9365 489.247 L72.9365 493.182 L50.9921 493.182 L50.9921 489.247 Q53.6541 486.492 58.2375 481.862 Q62.8439 477.21 64.0245 475.867 Q66.2698 473.344 67.1494 471.608 Q68.0522 469.849 68.0522 468.159 Q68.0522 465.404 66.1078 463.668 Q64.1865 461.932 61.0847 461.932 Q58.8856 461.932 56.4319 462.696 Q54.0014 463.46 51.2236 465.011 L51.2236 460.288 Q54.0477 459.154 56.5014 458.576 Q58.955 457.997 60.9921 457.997 Q66.3624 457.997 69.5568 460.682 Q72.7513 463.367 72.7513 467.858 Q72.7513 469.988 71.9411 471.909 Q71.1541 473.807 69.0476 476.4 Q68.4689 477.071 65.367 480.288 Q62.2652 483.483 56.6171 489.247 Z\" fill=\"#000000\" fill-rule=\"evenodd\" fill-opacity=\"1\" /><path clip-path=\"url(#clip400)\" d=\"M92.7512 461.701 Q89.1401 461.701 87.3114 465.265 Q85.5058 468.807 85.5058 475.937 Q85.5058 483.043 87.3114 486.608 Q89.1401 490.149 92.7512 490.149 Q96.3854 490.149 98.1909 486.608 Q100.02 483.043 100.02 475.937 Q100.02 468.807 98.1909 465.265 Q96.3854 461.701 92.7512 461.701 M92.7512 457.997 Q98.5613 457.997 101.617 462.603 Q104.696 467.187 104.696 475.937 Q104.696 484.663 101.617 489.27 Q98.5613 493.853 92.7512 493.853 Q86.941 493.853 83.8623 489.27 Q80.8068 484.663 80.8068 475.937 Q80.8068 467.187 83.8623 462.603 Q86.941 457.997 92.7512 457.997 Z\" fill=\"#000000\" fill-rule=\"evenodd\" fill-opacity=\"1\" /><path clip-path=\"url(#clip400)\" d=\"M57.6125 246.793 L73.9318 246.793 L73.9318 250.728 L51.9875 250.728 L51.9875 246.793 Q54.6495 244.039 59.2328 239.409 Q63.8393 234.756 65.0198 233.414 Q67.2652 230.891 68.1448 229.154 Q69.0476 227.395 69.0476 225.705 Q69.0476 222.951 67.1032 221.215 Q65.1819 219.479 62.08 219.479 Q59.881 219.479 57.4273 220.242 Q54.9967 221.006 52.219 222.557 L52.219 217.835 Q55.043 216.701 57.4967 216.122 Q59.9504 215.543 61.9874 215.543 Q67.3578 215.543 70.5522 218.229 Q73.7466 220.914 73.7466 225.404 Q73.7466 227.534 72.9365 229.455 Q72.1494 231.353 70.0429 233.946 Q69.4642 234.617 66.3624 237.835 Q63.2606 241.029 57.6125 246.793 Z\" fill=\"#000000\" fill-rule=\"evenodd\" fill-opacity=\"1\" /><path clip-path=\"url(#clip400)\" d=\"M83.7929 216.168 L102.149 216.168 L102.149 220.104 L88.0753 220.104 L88.0753 228.576 Q89.0938 228.228 90.1123 228.066 Q91.1308 227.881 92.1493 227.881 Q97.9363 227.881 101.316 231.053 Q104.696 234.224 104.696 239.64 Q104.696 245.219 101.223 248.321 Q97.7511 251.4 91.4317 251.4 Q89.2558 251.4 86.9873 251.029 Q84.7419 250.659 82.3346 249.918 L82.3346 245.219 Q84.4179 246.353 86.6401 246.909 Q88.8623 247.464 91.3391 247.464 Q95.3437 247.464 97.6817 245.358 Q100.02 243.252 100.02 239.64 Q100.02 236.029 97.6817 233.923 Q95.3437 231.816 91.3391 231.816 Q89.4641 231.816 87.5892 232.233 Q85.7373 232.65 83.7929 233.529 L83.7929 216.168 Z\" fill=\"#000000\" fill-rule=\"evenodd\" fill-opacity=\"1\" /><path clip-path=\"url(#clip402)\" d=\"\n",
       "M262.363 1348.73 L262.363 1445.72 L543.609 1445.72 L543.609 1348.73 L262.363 1348.73 L262.363 1348.73  Z\n",
       "  \" fill=\"#009af9\" fill-rule=\"evenodd\" fill-opacity=\"1\"/>\n",
       "<polyline clip-path=\"url(#clip402)\" style=\"stroke:#000000; stroke-linecap:butt; stroke-linejoin:round; stroke-width:4; stroke-opacity:1; fill:none\" points=\"\n",
       "  262.363,1348.73 262.363,1445.72 543.609,1445.72 543.609,1348.73 262.363,1348.73 \n",
       "  \"/>\n",
       "<path clip-path=\"url(#clip402)\" d=\"\n",
       "M543.609 1300.24 L543.609 1445.72 L824.856 1445.72 L824.856 1300.24 L543.609 1300.24 L543.609 1300.24  Z\n",
       "  \" fill=\"#009af9\" fill-rule=\"evenodd\" fill-opacity=\"1\"/>\n",
       "<polyline clip-path=\"url(#clip402)\" style=\"stroke:#000000; stroke-linecap:butt; stroke-linejoin:round; stroke-width:4; stroke-opacity:1; fill:none\" points=\"\n",
       "  543.609,1300.24 543.609,1445.72 824.856,1445.72 824.856,1300.24 543.609,1300.24 \n",
       "  \"/>\n",
       "<path clip-path=\"url(#clip402)\" d=\"\n",
       "M824.856 960.809 L824.856 1445.72 L1106.1 1445.72 L1106.1 960.809 L824.856 960.809 L824.856 960.809  Z\n",
       "  \" fill=\"#009af9\" fill-rule=\"evenodd\" fill-opacity=\"1\"/>\n",
       "<polyline clip-path=\"url(#clip402)\" style=\"stroke:#000000; stroke-linecap:butt; stroke-linejoin:round; stroke-width:4; stroke-opacity:1; fill:none\" points=\"\n",
       "  824.856,960.809 824.856,1445.72 1106.1,1445.72 1106.1,960.809 824.856,960.809 \n",
       "  \"/>\n",
       "<path clip-path=\"url(#clip402)\" d=\"\n",
       "M1106.1 281.939 L1106.1 1445.72 L1387.35 1445.72 L1387.35 281.939 L1106.1 281.939 L1106.1 281.939  Z\n",
       "  \" fill=\"#009af9\" fill-rule=\"evenodd\" fill-opacity=\"1\"/>\n",
       "<polyline clip-path=\"url(#clip402)\" style=\"stroke:#000000; stroke-linecap:butt; stroke-linejoin:round; stroke-width:4; stroke-opacity:1; fill:none\" points=\"\n",
       "  1106.1,281.939 1106.1,1445.72 1387.35,1445.72 1387.35,281.939 1106.1,281.939 \n",
       "  \"/>\n",
       "<path clip-path=\"url(#clip402)\" d=\"\n",
       "M1387.35 136.467 L1387.35 1445.72 L1668.6 1445.72 L1668.6 136.467 L1387.35 136.467 L1387.35 136.467  Z\n",
       "  \" fill=\"#009af9\" fill-rule=\"evenodd\" fill-opacity=\"1\"/>\n",
       "<polyline clip-path=\"url(#clip402)\" style=\"stroke:#000000; stroke-linecap:butt; stroke-linejoin:round; stroke-width:4; stroke-opacity:1; fill:none\" points=\"\n",
       "  1387.35,136.467 1387.35,1445.72 1668.6,1445.72 1668.6,136.467 1387.35,136.467 \n",
       "  \"/>\n",
       "<path clip-path=\"url(#clip402)\" d=\"\n",
       "M1668.6 87.9763 L1668.6 1445.72 L1949.84 1445.72 L1949.84 87.9763 L1668.6 87.9763 L1668.6 87.9763  Z\n",
       "  \" fill=\"#009af9\" fill-rule=\"evenodd\" fill-opacity=\"1\"/>\n",
       "<polyline clip-path=\"url(#clip402)\" style=\"stroke:#000000; stroke-linecap:butt; stroke-linejoin:round; stroke-width:4; stroke-opacity:1; fill:none\" points=\"\n",
       "  1668.6,87.9763 1668.6,1445.72 1949.84,1445.72 1949.84,87.9763 1668.6,87.9763 \n",
       "  \"/>\n",
       "<path clip-path=\"url(#clip402)\" d=\"\n",
       "M1949.84 1154.77 L1949.84 1445.72 L2231.09 1445.72 L2231.09 1154.77 L1949.84 1154.77 L1949.84 1154.77  Z\n",
       "  \" fill=\"#009af9\" fill-rule=\"evenodd\" fill-opacity=\"1\"/>\n",
       "<polyline clip-path=\"url(#clip402)\" style=\"stroke:#000000; stroke-linecap:butt; stroke-linejoin:round; stroke-width:4; stroke-opacity:1; fill:none\" points=\"\n",
       "  1949.84,1154.77 1949.84,1445.72 2231.09,1445.72 2231.09,1154.77 1949.84,1154.77 \n",
       "  \"/>\n",
       "<circle clip-path=\"url(#clip402)\" style=\"fill:#009af9; stroke:none; fill-opacity:0\" cx=\"402.986\" cy=\"1348.73\" r=\"2\"/>\n",
       "<circle clip-path=\"url(#clip402)\" style=\"fill:#009af9; stroke:none; fill-opacity:0\" cx=\"684.233\" cy=\"1300.24\" r=\"2\"/>\n",
       "<circle clip-path=\"url(#clip402)\" style=\"fill:#009af9; stroke:none; fill-opacity:0\" cx=\"965.479\" cy=\"960.809\" r=\"2\"/>\n",
       "<circle clip-path=\"url(#clip402)\" style=\"fill:#009af9; stroke:none; fill-opacity:0\" cx=\"1246.73\" cy=\"281.939\" r=\"2\"/>\n",
       "<circle clip-path=\"url(#clip402)\" style=\"fill:#009af9; stroke:none; fill-opacity:0\" cx=\"1527.97\" cy=\"136.467\" r=\"2\"/>\n",
       "<circle clip-path=\"url(#clip402)\" style=\"fill:#009af9; stroke:none; fill-opacity:0\" cx=\"1809.22\" cy=\"87.9763\" r=\"2\"/>\n",
       "<circle clip-path=\"url(#clip402)\" style=\"fill:#009af9; stroke:none; fill-opacity:0\" cx=\"2090.47\" cy=\"1154.77\" r=\"2\"/>\n",
       "<path clip-path=\"url(#clip400)\" d=\"\n",
       "M1980.81 198.898 L2279.02 198.898 L2279.02 95.2176 L1980.81 95.2176  Z\n",
       "  \" fill=\"#ffffff\" fill-rule=\"evenodd\" fill-opacity=\"1\"/>\n",
       "<polyline clip-path=\"url(#clip400)\" style=\"stroke:#000000; stroke-linecap:butt; stroke-linejoin:round; stroke-width:4; stroke-opacity:1; fill:none\" points=\"\n",
       "  1980.81,198.898 2279.02,198.898 2279.02,95.2176 1980.81,95.2176 1980.81,198.898 \n",
       "  \"/>\n",
       "<path clip-path=\"url(#clip400)\" d=\"\n",
       "M2005.38 167.794 L2152.85 167.794 L2152.85 126.322 L2005.38 126.322 L2005.38 167.794  Z\n",
       "  \" fill=\"#009af9\" fill-rule=\"evenodd\" fill-opacity=\"1\"/>\n",
       "<polyline clip-path=\"url(#clip400)\" style=\"stroke:#000000; stroke-linecap:butt; stroke-linejoin:round; stroke-width:4; stroke-opacity:1; fill:none\" points=\"\n",
       "  2005.38,167.794 2152.85,167.794 2152.85,126.322 2005.38,126.322 2005.38,167.794 \n",
       "  \"/>\n",
       "<path clip-path=\"url(#clip400)\" d=\"M2191.28 166.745 Q2189.47 171.375 2187.76 172.787 Q2186.04 174.199 2183.17 174.199 L2179.77 174.199 L2179.77 170.634 L2182.27 170.634 Q2184.03 170.634 2185 169.8 Q2185.98 168.967 2187.16 165.865 L2187.92 163.921 L2177.43 138.412 L2181.95 138.412 L2190.05 158.689 L2198.15 138.412 L2202.66 138.412 L2191.28 166.745 Z\" fill=\"#000000\" fill-rule=\"evenodd\" fill-opacity=\"1\" /><path clip-path=\"url(#clip400)\" d=\"M2209.96 160.402 L2217.6 160.402 L2217.6 134.037 L2209.29 135.703 L2209.29 131.444 L2217.55 129.778 L2222.22 129.778 L2222.22 160.402 L2229.86 160.402 L2229.86 164.338 L2209.96 164.338 L2209.96 160.402 Z\" fill=\"#000000\" fill-rule=\"evenodd\" fill-opacity=\"1\" /></svg>\n"
      ]
     },
     "metadata": {},
     "output_type": "display_data"
    }
   ],
   "source": [
    "histogram(eigmins)"
   ]
  },
  {
   "cell_type": "code",
   "execution_count": null,
   "metadata": {},
   "outputs": [],
   "source": []
  }
 ],
 "metadata": {
  "kernelspec": {
   "display_name": "Julia 1.7.2",
   "language": "julia",
   "name": "julia-1.7"
  },
  "language_info": {
   "file_extension": ".jl",
   "mimetype": "application/julia",
   "name": "julia",
   "version": "1.7.2"
  },
  "orig_nbformat": 4
 },
 "nbformat": 4,
 "nbformat_minor": 2
}
