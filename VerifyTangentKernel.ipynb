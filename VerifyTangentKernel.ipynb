{
 "cells": [
  {
   "cell_type": "markdown",
   "metadata": {},
   "source": [
    "# Import"
   ]
  },
  {
   "cell_type": "code",
   "execution_count": 2,
   "metadata": {},
   "outputs": [],
   "source": [
    "import jax\n",
    "from jax import numpy as jnp, random\n",
    "import numpy as np\n",
    "import pandas as pd\n",
    "from mondeq.modules import MonLinear, Relu, deq, deq_forward, deq_backward, _fp_bwd\n",
    "from mondeq.splittings import build_peacemanrachford_update\n",
    "from utils import commutation_matrix_sp, vec\n",
    "from functools import partial"
   ]
  },
  {
   "cell_type": "markdown",
   "metadata": {},
   "source": [
    "# Verify derivative"
   ]
  },
  {
   "cell_type": "code",
   "execution_count": 3,
   "metadata": {},
   "outputs": [
    {
     "name": "stderr",
     "output_type": "stream",
     "text": [
      "WARNING:absl:No GPU/TPU found, falling back to CPU. (Set TF_CPP_MIN_LOG_LEVEL=0 and rerun for more info.)\n"
     ]
    }
   ],
   "source": [
    "num_samples = 10\n",
    "d = 3\n",
    "k = 10\n",
    "key = random.PRNGKey(0)\n"
   ]
  },
  {
   "cell_type": "code",
   "execution_count": 4,
   "metadata": {},
   "outputs": [],
   "source": [
    "rand_z = np.random.normal(size=(k,))\n",
    "rand_x = np.random.normal(size=(d,))"
   ]
  },
  {
   "cell_type": "code",
   "execution_count": 5,
   "metadata": {},
   "outputs": [],
   "source": [
    "key, skey = random.split(key)\n",
    "lin_module = MonLinear(3, 10, key=skey)\n",
    "nonlin_module = Relu()\n",
    "K = commutation_matrix_sp(k, k)\n",
    "P_A = (np.eye(k*k) + K) @ np.kron(np.eye(k), lin_module.p_A)\n",
    "P_B = (np.eye(k*k) - K)\n",
    "W = lin_module.calW_trans().T"
   ]
  },
  {
   "cell_type": "markdown",
   "metadata": {},
   "source": [
    "Autodiff results"
   ]
  },
  {
   "cell_type": "markdown",
   "metadata": {},
   "source": [
    "## $f$"
   ]
  },
  {
   "cell_type": "code",
   "execution_count": 6,
   "metadata": {},
   "outputs": [],
   "source": [
    "auto_Jz = jax.jacrev(lambda z: nonlin_module(lin_module(z.T, rand_x.T)))(rand_z)\n",
    "auto_Jlin = jax.jacrev(lambda lin_module: nonlin_module(lin_module(rand_z.T, rand_x.T)), allow_int=True)(lin_module)"
   ]
  },
  {
   "cell_type": "markdown",
   "metadata": {},
   "source": [
    "Close form results"
   ]
  },
  {
   "cell_type": "markdown",
   "metadata": {},
   "source": [
    "$\\frac{\\partial f}{\\partial z} = J W$"
   ]
  },
  {
   "cell_type": "code",
   "execution_count": 7,
   "metadata": {},
   "outputs": [
    {
     "data": {
      "text/plain": [
       "DeviceArray(True, dtype=bool)"
      ]
     },
     "execution_count": 7,
     "metadata": {},
     "output_type": "execute_result"
    }
   ],
   "source": [
    "a = lin_module(rand_z.T, rand_x.T)\n",
    "Jnl = jnp.diag(nonlin_module.derivative(a))\n",
    "ana_Jz = Jnl@W\n",
    "jnp.allclose(ana_Jz, auto_Jz, rtol=1e-4)"
   ]
  },
  {
   "cell_type": "markdown",
   "metadata": {},
   "source": [
    "$\\frac{\\partial f}{\\partial A} = -(z^T \\otimes J)P_A$"
   ]
  },
  {
   "cell_type": "code",
   "execution_count": 8,
   "metadata": {},
   "outputs": [
    {
     "data": {
      "text/plain": [
       "DeviceArray(True, dtype=bool)"
      ]
     },
     "execution_count": 8,
     "metadata": {},
     "output_type": "execute_result"
    }
   ],
   "source": [
    "ana_JA = jnp.kron(rand_z.T, Jnl)@P_A\n",
    "ana_JA = ana_JA.reshape(num_samples,k,k, order='C')\n",
    "jnp.allclose(-auto_Jlin.p_A, ana_JA)"
   ]
  },
  {
   "cell_type": "markdown",
   "metadata": {},
   "source": [
    "$\\frac{\\partial f}{\\partial B} = (z^T \\otimes J)P_B$"
   ]
  },
  {
   "cell_type": "code",
   "execution_count": 9,
   "metadata": {},
   "outputs": [
    {
     "data": {
      "text/plain": [
       "DeviceArray(True, dtype=bool)"
      ]
     },
     "execution_count": 9,
     "metadata": {},
     "output_type": "execute_result"
    }
   ],
   "source": [
    "ana_JB = jnp.kron(rand_z.T, Jnl)@P_B\n",
    "ana_JB = ana_JB.reshape(num_samples,k,k, order='C')\n",
    "jnp.allclose(auto_Jlin.p_B, ana_JB)"
   ]
  },
  {
   "cell_type": "markdown",
   "metadata": {},
   "source": [
    "$\\frac{\\partial f}{\\partial U} = (x^T \\otimes J)$"
   ]
  },
  {
   "cell_type": "code",
   "execution_count": 10,
   "metadata": {},
   "outputs": [
    {
     "data": {
      "text/plain": [
       "DeviceArray(True, dtype=bool)"
      ]
     },
     "execution_count": 10,
     "metadata": {},
     "output_type": "execute_result"
    }
   ],
   "source": [
    "ana_JU = jnp.kron(rand_x.T, Jnl)\n",
    "ana_JU = ana_JU.reshape(k, d, k, order='C')\n",
    "jnp.allclose(auto_Jlin.p_U, ana_JU)"
   ]
  },
  {
   "cell_type": "markdown",
   "metadata": {},
   "source": [
    "## $\\mathbf{z}^*$"
   ]
  },
  {
   "cell_type": "code",
   "execution_count": 11,
   "metadata": {},
   "outputs": [],
   "source": [
    "max_iter=40\n",
    "tol = 1e-5\n",
    "Z0 = jnp.zeros_like(rand_z).T\n",
    "X = rand_x.T\n",
    "g = jnp.zeros_like(rand_z)\n",
    "g = g.at[0].set(1.)"
   ]
  },
  {
   "cell_type": "code",
   "execution_count": 12,
   "metadata": {},
   "outputs": [],
   "source": [
    "dyn = partial(build_peacemanrachford_update, 1.)"
   ]
  },
  {
   "cell_type": "code",
   "execution_count": 13,
   "metadata": {},
   "outputs": [],
   "source": [
    "z_star, res = deq_forward(dyn, max_iter, tol, nonlin_module, lin_module, Z0, X)\n",
    "d_lin, _, dx = deq_backward(dyn, max_iter, tol, nonlin_module, res, g)"
   ]
  },
  {
   "cell_type": "code",
   "execution_count": 14,
   "metadata": {},
   "outputs": [],
   "source": [
    "Jnl_star = jnp.diag(nonlin_module.derivative(z_star))\n",
    "uT = g.T @ jnp.linalg.inv(jnp.eye(k) - Jnl_star@W)\n",
    "d_A = -jnp.kron(z_star, uT.T @ Jnl_star) @ P_A\n",
    "d_A = d_A.reshape(k, k)\n",
    "d_B = jnp.kron(z_star, uT.T @ Jnl_star) @ P_B\n",
    "d_B = d_B.reshape(k, k)\n",
    "d_U = jnp.kron(rand_x, uT.T @ Jnl_star)\n",
    "d_U = d_U.reshape(d, k)"
   ]
  },
  {
   "cell_type": "code",
   "execution_count": 15,
   "metadata": {},
   "outputs": [
    {
     "name": "stdout",
     "output_type": "stream",
     "text": [
      "True\n",
      "True\n",
      "True\n"
     ]
    }
   ],
   "source": [
    "print(np.allclose(d_lin.p_A, d_A, atol=1e-4))\n",
    "print(np.allclose(d_lin.p_B, d_B, atol=1e-4))\n",
    "print(np.allclose(d_lin.p_U, d_U, atol=1e-4))"
   ]
  },
  {
   "cell_type": "markdown",
   "metadata": {},
   "source": [
    "# Tangent kernel"
   ]
  },
  {
   "cell_type": "code",
   "execution_count": 16,
   "metadata": {},
   "outputs": [],
   "source": [
    "from mondeq.modules import fcmon\n",
    "from scipy.linalg import khatri_rao"
   ]
  },
  {
   "cell_type": "code",
   "execution_count": 17,
   "metadata": {},
   "outputs": [],
   "source": [
    "X = np.random.normal(size=(num_samples, d))\n",
    "Z0 = jnp.zeros(shape=(num_samples, k))\n",
    "u = np.random.normal(size=(k,))"
   ]
  },
  {
   "cell_type": "code",
   "execution_count": 18,
   "metadata": {},
   "outputs": [],
   "source": [
    "def vprod(M):\n",
    "    return jnp.einsum(\"ihk,jhk->ij\", M, M)"
   ]
  },
  {
   "cell_type": "markdown",
   "metadata": {},
   "source": [
    "Autodiff result"
   ]
  },
  {
   "cell_type": "code",
   "execution_count": 19,
   "metadata": {},
   "outputs": [],
   "source": [
    "Ju = jax.jacrev(lambda u: fcmon(dyn, max_iter, tol, u, nonlin_module, lin_module, Z0, X))(u)\n",
    "Jlin = jax.jacrev(lambda lin_module: fcmon(dyn, max_iter, tol, u, nonlin_module, lin_module, Z0, X), allow_int=True)(lin_module)\n",
    "auto_H1 = vprod(Jlin.p_A) + vprod(Jlin.p_B)\n",
    "auto_H2 = vprod(Jlin.p_U)\n",
    "auto_H3 = Ju @ Ju.T"
   ]
  },
  {
   "cell_type": "markdown",
   "metadata": {},
   "source": [
    "Close form"
   ]
  },
  {
   "cell_type": "code",
   "execution_count": 20,
   "metadata": {},
   "outputs": [],
   "source": [
    "Z_star, res = deq_forward(dyn, max_iter, tol, nonlin_module, lin_module, Z0, X)\n",
    "S = nonlin_module.derivative(Z_star)\n",
    "V = _fp_bwd(dyn, max_iter, tol, nonlin_module, res, u)\n",
    "Q = V * S\n",
    "Z_Q = khatri_rao(Z_star.T, Q.T).T\n",
    "\n",
    "ana_H1 = Z_Q @ (P_A@P_A.T + P_B@P_B.T)@Z_Q.T\n",
    "ana_H2 = (X@X.T) * (Q@Q.T)\n",
    "ana_H3 = Z_star @ Z_star.T"
   ]
  },
  {
   "cell_type": "code",
   "execution_count": 21,
   "metadata": {},
   "outputs": [
    {
     "data": {
      "text/plain": [
       "matrix([[7.08820103e+00, 2.20743472e+02, 1.14907742e+01, 1.80920019e+01,\n",
       "         8.45144949e+01, 6.20128403e+01, 2.06550030e+01, 2.73771034e+00,\n",
       "         1.73839350e-01, 4.08653358e+01]])"
      ]
     },
     "execution_count": 21,
     "metadata": {},
     "output_type": "execute_result"
    }
   ],
   "source": [
    "ana_H1[1]"
   ]
  },
  {
   "cell_type": "code",
   "execution_count": 22,
   "metadata": {},
   "outputs": [
    {
     "data": {
      "text/plain": [
       "DeviceArray([7.0882053e+00, 2.2074435e+02, 1.1490833e+01, 1.8092319e+01,\n",
       "             8.4515778e+01, 6.2012928e+01, 2.0655462e+01, 2.7377620e+00,\n",
       "             1.7383835e-01, 4.0866005e+01], dtype=float32)"
      ]
     },
     "execution_count": 22,
     "metadata": {},
     "output_type": "execute_result"
    }
   ],
   "source": [
    "auto_H1[1]"
   ]
  },
  {
   "cell_type": "code",
   "execution_count": 24,
   "metadata": {},
   "outputs": [
    {
     "name": "stdout",
     "output_type": "stream",
     "text": [
      "True\n",
      "True\n",
      "True\n"
     ]
    }
   ],
   "source": [
    "print(jnp.allclose(auto_H1, ana_H1, rtol=1e-3))\n",
    "print(jnp.allclose(auto_H2, ana_H2, rtol=1e-3))\n",
    "print(jnp.allclose(auto_H3, ana_H3, rtol=1e-4))"
   ]
  },
  {
   "cell_type": "code",
   "execution_count": null,
   "metadata": {},
   "outputs": [],
   "source": []
  }
 ],
 "metadata": {
  "interpreter": {
   "hash": "fee6c79fe90f91b3b60ef5699113f434fb7eab4e56d945f7a422e5fe3d928a66"
  },
  "kernelspec": {
   "display_name": "Python 3.9.12 (conda)",
   "language": "python",
   "name": "python3"
  },
  "language_info": {
   "codemirror_mode": {
    "name": "ipython",
    "version": 3
   },
   "file_extension": ".py",
   "mimetype": "text/x-python",
   "name": "python",
   "nbconvert_exporter": "python",
   "pygments_lexer": "ipython3",
   "version": "3.10.4"
  },
  "orig_nbformat": 4
 },
 "nbformat": 4,
 "nbformat_minor": 2
}
