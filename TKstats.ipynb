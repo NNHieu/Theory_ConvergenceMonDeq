{
 "cells": [
  {
   "cell_type": "code",
   "execution_count": 12,
   "metadata": {},
   "outputs": [],
   "source": [
    "import jax\n",
    "from jax import numpy as jnp, random\n",
    "import numpy as np\n",
    "import pandas as pd\n",
    "from mondeq.modules import MonLinear, Relu, fcmon, deq_forward, _fp_bwd\n",
    "from mondeq.splittings import build_peacemanrachford_update\n",
    "from utils import commutation_matrix_sp, vec\n",
    "from functools import partial\n",
    "import pandas as pd\n"
   ]
  },
  {
   "cell_type": "code",
   "execution_count": 31,
   "metadata": {},
   "outputs": [],
   "source": [
    "dyn = partial(build_peacemanrachford_update, 1.)\n",
    "def stats_TK(d, k, Z0, X, key):\n",
    "    X = X / jnp.linalg.norm(X, axis=0)\n",
    "\n",
    "    skey = random.split(key)\n",
    "    lin_module = MonLinear(d, k, key=skey[0])\n",
    "    nonlin_module = Relu()\n",
    "    u = random.normal(skey[1], shape=(k,)) / jnp.sqrt(k)\n",
    "    Ju = jax.jacrev(lambda u: fcmon(dyn, max_iter, tol, u, nonlin_module, lin_module, Z0, X))(u)\n",
    "    Jlin = jax.jacrev(lambda lin_module: fcmon(dyn, max_iter, tol, u, nonlin_module, lin_module, Z0, X), allow_int=True)(lin_module)\n",
    "    \n",
    "    Z_star, res = deq_forward(dyn, max_iter, tol, nonlin_module, lin_module, Z0, X)\n",
    "    S = nonlin_module.derivative(Z_star)\n",
    "    V = _fp_bwd(dyn, max_iter, tol, nonlin_module, res, u)\n",
    "    Q = V * S\n",
    "    QQ = Q @ Q.T\n",
    "    diag_QQ = jnp.diag(jnp.abs(QQ))\n",
    "    rsum_aQQ = jnp.sum(jnp.abs(QQ), axis=1)\n",
    "    disc = 2*diag_QQ - rsum_aQQ\n",
    "\n",
    "\n",
    "    H1_A = vprod(Jlin.p_A)\n",
    "    H1_B = vprod(Jlin.p_B)\n",
    "\n",
    "    H1 = H1_A + H1_B\n",
    "    H2 = vprod(Jlin.p_U)\n",
    "    H3 = Ju @ Ju.T\n",
    "    H = H1 + H2 + H3\n",
    "\n",
    "\n",
    "\n",
    "    return {\n",
    "        \"min_disc\": jnp.min(disc),\n",
    "        \"min_norm_row_Q\": jnp.min(jnp.diag(H2)),\n",
    "        \"eigmin_H1_A\": jnp.linalg.eigvalsh(H1_A)[0],\n",
    "        \"eigmin_H1_B\": jnp.linalg.eigvalsh(H1_B)[0],\n",
    "\n",
    "        \"eigmin_H1\": jnp.linalg.eigvalsh(H1)[0],\n",
    "        \"eigmin_H2\": jnp.linalg.eigvalsh(H2)[0],\n",
    "        \"eigmin_H3\": jnp.linalg.eigvalsh(H3)[0],\n",
    "\n",
    "        \"eigmin_H\": jnp.linalg.eigvalsh(H)[0],\n",
    "    }\n",
    "stats_TK_jit = jax.jit(stats_TK, static_argnums=(0, 1))"
   ]
  },
  {
   "cell_type": "code",
   "execution_count": 32,
   "metadata": {},
   "outputs": [],
   "source": [
    "num_runs = 1000\n",
    "num_samples = 5\n",
    "d = 20\n",
    "k = 500\n",
    "key = random.PRNGKey(0)\n",
    "max_iter = 100\n",
    "tol = 1e-5\n",
    "def vprod(M):\n",
    "    return jnp.einsum(\"ihk,jhk->ij\", M, M)"
   ]
  },
  {
   "cell_type": "code",
   "execution_count": 33,
   "metadata": {},
   "outputs": [],
   "source": [
    "Z0 = jnp.zeros(shape=(num_samples, k))\n",
    "row_list = []\n",
    "for i in range(num_runs):\n",
    "    key, skey = random.split(key)\n",
    "    X = np.random.uniform(size=(num_samples, d))\n",
    "    result = stats_TK_jit(d, k, Z0, X, skey)\n",
    "    result = {k: v.item() for k, v in result.items()}\n",
    "    row_list.append(result)\n",
    "df = pd.DataFrame(row_list)"
   ]
  },
  {
   "cell_type": "code",
   "execution_count": 34,
   "metadata": {},
   "outputs": [
    {
     "data": {
      "text/html": [
       "<div>\n",
       "<style scoped>\n",
       "    .dataframe tbody tr th:only-of-type {\n",
       "        vertical-align: middle;\n",
       "    }\n",
       "\n",
       "    .dataframe tbody tr th {\n",
       "        vertical-align: top;\n",
       "    }\n",
       "\n",
       "    .dataframe thead th {\n",
       "        text-align: right;\n",
       "    }\n",
       "</style>\n",
       "<table border=\"1\" class=\"dataframe\">\n",
       "  <thead>\n",
       "    <tr style=\"text-align: right;\">\n",
       "      <th></th>\n",
       "      <th>eigmin_H</th>\n",
       "      <th>eigmin_H1</th>\n",
       "      <th>eigmin_H1_A</th>\n",
       "      <th>eigmin_H1_B</th>\n",
       "      <th>eigmin_H2</th>\n",
       "      <th>eigmin_H3</th>\n",
       "      <th>min_disc</th>\n",
       "      <th>min_norm_row_Q</th>\n",
       "    </tr>\n",
       "  </thead>\n",
       "  <tbody>\n",
       "    <tr>\n",
       "      <th>0</th>\n",
       "      <td>1.991949</td>\n",
       "      <td>1.121802</td>\n",
       "      <td>0.383389</td>\n",
       "      <td>0.737610</td>\n",
       "      <td>0.667531</td>\n",
       "      <td>0.165946</td>\n",
       "      <td>-1.019215</td>\n",
       "      <td>1.824161</td>\n",
       "    </tr>\n",
       "    <tr>\n",
       "      <th>1</th>\n",
       "      <td>3.346905</td>\n",
       "      <td>2.102114</td>\n",
       "      <td>0.678612</td>\n",
       "      <td>1.420946</td>\n",
       "      <td>0.945621</td>\n",
       "      <td>0.278954</td>\n",
       "      <td>-1.238724</td>\n",
       "      <td>2.656116</td>\n",
       "    </tr>\n",
       "    <tr>\n",
       "      <th>2</th>\n",
       "      <td>3.491908</td>\n",
       "      <td>1.940951</td>\n",
       "      <td>0.661392</td>\n",
       "      <td>1.278342</td>\n",
       "      <td>1.159487</td>\n",
       "      <td>0.311862</td>\n",
       "      <td>-0.817311</td>\n",
       "      <td>2.101906</td>\n",
       "    </tr>\n",
       "    <tr>\n",
       "      <th>3</th>\n",
       "      <td>2.771504</td>\n",
       "      <td>1.526891</td>\n",
       "      <td>0.499986</td>\n",
       "      <td>1.025892</td>\n",
       "      <td>0.880906</td>\n",
       "      <td>0.259917</td>\n",
       "      <td>-0.832316</td>\n",
       "      <td>1.644391</td>\n",
       "    </tr>\n",
       "    <tr>\n",
       "      <th>4</th>\n",
       "      <td>3.010909</td>\n",
       "      <td>1.569671</td>\n",
       "      <td>0.560540</td>\n",
       "      <td>0.999793</td>\n",
       "      <td>1.091830</td>\n",
       "      <td>0.287570</td>\n",
       "      <td>-1.041545</td>\n",
       "      <td>2.116324</td>\n",
       "    </tr>\n",
       "    <tr>\n",
       "      <th>...</th>\n",
       "      <td>...</td>\n",
       "      <td>...</td>\n",
       "      <td>...</td>\n",
       "      <td>...</td>\n",
       "      <td>...</td>\n",
       "      <td>...</td>\n",
       "      <td>...</td>\n",
       "      <td>...</td>\n",
       "    </tr>\n",
       "    <tr>\n",
       "      <th>995</th>\n",
       "      <td>2.030820</td>\n",
       "      <td>1.097216</td>\n",
       "      <td>0.365654</td>\n",
       "      <td>0.728630</td>\n",
       "      <td>0.691707</td>\n",
       "      <td>0.181652</td>\n",
       "      <td>-1.030288</td>\n",
       "      <td>1.524220</td>\n",
       "    </tr>\n",
       "    <tr>\n",
       "      <th>996</th>\n",
       "      <td>2.773143</td>\n",
       "      <td>1.599351</td>\n",
       "      <td>0.533422</td>\n",
       "      <td>1.061393</td>\n",
       "      <td>0.887877</td>\n",
       "      <td>0.229973</td>\n",
       "      <td>-0.867948</td>\n",
       "      <td>1.789534</td>\n",
       "    </tr>\n",
       "    <tr>\n",
       "      <th>997</th>\n",
       "      <td>2.761006</td>\n",
       "      <td>1.501326</td>\n",
       "      <td>0.495383</td>\n",
       "      <td>1.004031</td>\n",
       "      <td>0.977883</td>\n",
       "      <td>0.262952</td>\n",
       "      <td>-0.921784</td>\n",
       "      <td>2.084951</td>\n",
       "    </tr>\n",
       "    <tr>\n",
       "      <th>998</th>\n",
       "      <td>3.363046</td>\n",
       "      <td>1.926060</td>\n",
       "      <td>0.642227</td>\n",
       "      <td>1.280967</td>\n",
       "      <td>1.053717</td>\n",
       "      <td>0.297383</td>\n",
       "      <td>-0.923047</td>\n",
       "      <td>1.845796</td>\n",
       "    </tr>\n",
       "    <tr>\n",
       "      <th>999</th>\n",
       "      <td>3.187541</td>\n",
       "      <td>1.789922</td>\n",
       "      <td>0.623434</td>\n",
       "      <td>1.165093</td>\n",
       "      <td>1.048206</td>\n",
       "      <td>0.308459</td>\n",
       "      <td>-0.864507</td>\n",
       "      <td>1.975231</td>\n",
       "    </tr>\n",
       "  </tbody>\n",
       "</table>\n",
       "<p>1000 rows × 8 columns</p>\n",
       "</div>"
      ],
      "text/plain": [
       "     eigmin_H  eigmin_H1  eigmin_H1_A  eigmin_H1_B  eigmin_H2  eigmin_H3  \\\n",
       "0    1.991949   1.121802     0.383389     0.737610   0.667531   0.165946   \n",
       "1    3.346905   2.102114     0.678612     1.420946   0.945621   0.278954   \n",
       "2    3.491908   1.940951     0.661392     1.278342   1.159487   0.311862   \n",
       "3    2.771504   1.526891     0.499986     1.025892   0.880906   0.259917   \n",
       "4    3.010909   1.569671     0.560540     0.999793   1.091830   0.287570   \n",
       "..        ...        ...          ...          ...        ...        ...   \n",
       "995  2.030820   1.097216     0.365654     0.728630   0.691707   0.181652   \n",
       "996  2.773143   1.599351     0.533422     1.061393   0.887877   0.229973   \n",
       "997  2.761006   1.501326     0.495383     1.004031   0.977883   0.262952   \n",
       "998  3.363046   1.926060     0.642227     1.280967   1.053717   0.297383   \n",
       "999  3.187541   1.789922     0.623434     1.165093   1.048206   0.308459   \n",
       "\n",
       "     min_disc  min_norm_row_Q  \n",
       "0   -1.019215        1.824161  \n",
       "1   -1.238724        2.656116  \n",
       "2   -0.817311        2.101906  \n",
       "3   -0.832316        1.644391  \n",
       "4   -1.041545        2.116324  \n",
       "..        ...             ...  \n",
       "995 -1.030288        1.524220  \n",
       "996 -0.867948        1.789534  \n",
       "997 -0.921784        2.084951  \n",
       "998 -0.923047        1.845796  \n",
       "999 -0.864507        1.975231  \n",
       "\n",
       "[1000 rows x 8 columns]"
      ]
     },
     "execution_count": 34,
     "metadata": {},
     "output_type": "execute_result"
    }
   ],
   "source": [
    "df  "
   ]
  },
  {
   "cell_type": "code",
   "execution_count": 27,
   "metadata": {},
   "outputs": [
    {
     "data": {
      "text/plain": [
       "eigmin_H          1.042311\n",
       "eigmin_H1         0.587888\n",
       "eigmin_H1_A       0.209653\n",
       "eigmin_H1_B       0.378203\n",
       "eigmin_H2         0.335110\n",
       "eigmin_H3         0.074899\n",
       "min_disc         -1.794751\n",
       "min_norm_row_Q    1.029364\n",
       "dtype: float64"
      ]
     },
     "execution_count": 27,
     "metadata": {},
     "output_type": "execute_result"
    }
   ],
   "source": [
    "df.min()"
   ]
  },
  {
   "cell_type": "code",
   "execution_count": 28,
   "metadata": {},
   "outputs": [
    {
     "data": {
      "text/plain": [
       "eigmin_H          2.893156\n",
       "eigmin_H1         1.665299\n",
       "eigmin_H1_A       0.551164\n",
       "eigmin_H1_B       1.111751\n",
       "eigmin_H2         0.924640\n",
       "eigmin_H3         0.253527\n",
       "min_disc         -1.073218\n",
       "min_norm_row_Q    1.964848\n",
       "dtype: float64"
      ]
     },
     "execution_count": 28,
     "metadata": {},
     "output_type": "execute_result"
    }
   ],
   "source": [
    "df.mean()"
   ]
  },
  {
   "cell_type": "code",
   "execution_count": 29,
   "metadata": {},
   "outputs": [
    {
     "data": {
      "text/plain": [
       "<AxesSubplot:ylabel='Frequency'>"
      ]
     },
     "execution_count": 29,
     "metadata": {},
     "output_type": "execute_result"
    },
    {
     "data": {
      "image/png": "[encoded data removed]",
      "text/plain": [
       "<Figure size 432x288 with 1 Axes>"
      ]
     },
     "metadata": {
      "needs_background": "light"
     },
     "output_type": "display_data"
    }
   ],
   "source": [
    "df.eigmin_H.plot.hist(bins=100)"
   ]
  },
  {
   "cell_type": "code",
   "execution_count": 79,
   "metadata": {},
   "outputs": [
    {
     "data": {
      "text/plain": [
       "eigmin_H          1.223016e-06\n",
       "eigmin_H1         7.194511e-07\n",
       "eigmin_H1_A       2.549738e-07\n",
       "eigmin_H1_B       4.750988e-07\n",
       "eigmin_H2         2.368104e-07\n",
       "eigmin_H3         7.847345e-10\n",
       "min_norm_row_Q    7.859664e-04\n",
       "dtype: float64"
      ]
     },
     "execution_count": 79,
     "metadata": {},
     "output_type": "execute_result"
    }
   ],
   "source": [
    "df.min()"
   ]
  },
  {
   "cell_type": "code",
   "execution_count": 30,
   "metadata": {},
   "outputs": [
    {
     "data": {
      "text/plain": [
       "<AxesSubplot:ylabel='Frequency'>"
      ]
     },
     "execution_count": 30,
     "metadata": {},
     "output_type": "execute_result"
    },
    {
     "data": {
      "image/png": "[encoded data removed]",
      "text/plain": [
       "<Figure size 432x288 with 1 Axes>"
      ]
     },
     "metadata": {
      "needs_background": "light"
     },
     "output_type": "display_data"
    }
   ],
   "source": [
    "df.min_disc.plot.hist(bins=100)"
   ]
  },
  {
   "cell_type": "code",
   "execution_count": 92,
   "metadata": {},
   "outputs": [
    {
     "data": {
      "text/plain": [
       "27"
      ]
     },
     "execution_count": 92,
     "metadata": {},
     "output_type": "execute_result"
    }
   ],
   "source": [
    "(df.eigmin_H < df.eigmin_H.min()*2).sum()"
   ]
  },
  {
   "cell_type": "code",
   "execution_count": null,
   "metadata": {},
   "outputs": [],
   "source": []
  }
 ],
 "metadata": {
  "interpreter": {
   "hash": "fee6c79fe90f91b3b60ef5699113f434fb7eab4e56d945f7a422e5fe3d928a66"
  },
  "kernelspec": {
   "display_name": "Python 3.9.12 (conda)",
   "language": "python",
   "name": "python3"
  },
  "language_info": {
   "codemirror_mode": {
    "name": "ipython",
    "version": 3
   },
   "file_extension": ".py",
   "mimetype": "text/x-python",
   "name": "python",
   "nbconvert_exporter": "python",
   "pygments_lexer": "ipython3",
   "version": "3.9.12"
  },
  "orig_nbformat": 4
 },
 "nbformat": 4,
 "nbformat_minor": 2
}
